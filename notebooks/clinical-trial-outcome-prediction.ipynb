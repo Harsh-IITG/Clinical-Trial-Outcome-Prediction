{
 "cells": [
  {
   "cell_type": "code",
   "execution_count": 1,
   "metadata": {
    "execution": {
     "iopub.execute_input": "2025-09-19T17:36:19.075543Z",
     "iopub.status.busy": "2025-09-19T17:36:19.075238Z",
     "iopub.status.idle": "2025-09-19T17:36:39.606416Z",
     "shell.execute_reply": "2025-09-19T17:36:39.605570Z",
     "shell.execute_reply.started": "2025-09-19T17:36:19.075521Z"
    }
   },
   "outputs": [],
   "source": [
    "import pandas as pd\n",
    "import numpy as np\n",
    "import matplotlib.pyplot as plt\n",
    "import seaborn as sns\n",
    "import sklearn\n",
    "novartis_data=pd.read_csv('/kaggle/input/usecase-3-csv/usecase_3_.csv')"
   ]
  },
  {
   "cell_type": "markdown",
   "metadata": {},
   "source": [
    "### **Exploratory Data Analysis (EDA)**"
   ]
  },
  {
   "cell_type": "code",
   "execution_count": 2,
   "metadata": {
    "execution": {
     "iopub.execute_input": "2025-09-19T17:36:39.607375Z",
     "iopub.status.busy": "2025-09-19T17:36:39.607145Z",
     "iopub.status.idle": "2025-09-19T17:36:39.640898Z",
     "shell.execute_reply": "2025-09-19T17:36:39.640238Z",
     "shell.execute_reply.started": "2025-09-19T17:36:39.607353Z"
    }
   },
   "outputs": [
    {
     "data": {
      "text/html": [
       "<div>\n",
       "<style scoped>\n",
       "    .dataframe tbody tr th:only-of-type {\n",
       "        vertical-align: middle;\n",
       "    }\n",
       "\n",
       "    .dataframe tbody tr th {\n",
       "        vertical-align: top;\n",
       "    }\n",
       "\n",
       "    .dataframe thead th {\n",
       "        text-align: right;\n",
       "    }\n",
       "</style>\n",
       "<table border=\"1\" class=\"dataframe\">\n",
       "  <thead>\n",
       "    <tr style=\"text-align: right;\">\n",
       "      <th></th>\n",
       "      <th>Unnamed: 0.1</th>\n",
       "      <th>Unnamed: 0</th>\n",
       "      <th>NCT Number</th>\n",
       "      <th>Study Title</th>\n",
       "      <th>Study URL</th>\n",
       "      <th>Acronym</th>\n",
       "      <th>Study Status</th>\n",
       "      <th>Brief Summary</th>\n",
       "      <th>Study Results</th>\n",
       "      <th>Conditions</th>\n",
       "      <th>...</th>\n",
       "      <th>Study Design</th>\n",
       "      <th>Other IDs</th>\n",
       "      <th>Start Date</th>\n",
       "      <th>Primary Completion Date</th>\n",
       "      <th>Completion Date</th>\n",
       "      <th>First Posted</th>\n",
       "      <th>Results First Posted</th>\n",
       "      <th>Last Update Posted</th>\n",
       "      <th>Locations</th>\n",
       "      <th>Study Documents</th>\n",
       "    </tr>\n",
       "  </thead>\n",
       "  <tbody>\n",
       "    <tr>\n",
       "      <th>0</th>\n",
       "      <td>75209</td>\n",
       "      <td>118014</td>\n",
       "      <td>NCT00559130</td>\n",
       "      <td>Efficacy Study of CytoSorb Hemoperfusion Devic...</td>\n",
       "      <td>https://clinicaltrials.gov/study/NCT00559130</td>\n",
       "      <td>NaN</td>\n",
       "      <td>COMPLETED</td>\n",
       "      <td>The hypothesis of this study is use of CytoSor...</td>\n",
       "      <td>NO</td>\n",
       "      <td>Acute Respiratory Distress Syndrome|Acute Lung...</td>\n",
       "      <td>...</td>\n",
       "      <td>Allocation: RANDOMIZED|Intervention Model: PAR...</td>\n",
       "      <td>2007-01</td>\n",
       "      <td>2007-11</td>\n",
       "      <td>2011-04</td>\n",
       "      <td>2011-06</td>\n",
       "      <td>2007-11-16</td>\n",
       "      <td>NaN</td>\n",
       "      <td>2011-06-07</td>\n",
       "      <td>Aachen, Germany|Berlin, Germany|Bonn, Germany|...</td>\n",
       "      <td>NaN</td>\n",
       "    </tr>\n",
       "    <tr>\n",
       "      <th>1</th>\n",
       "      <td>6356</td>\n",
       "      <td>9987</td>\n",
       "      <td>NCT00937664</td>\n",
       "      <td>Safety and Tolerability Study of AZD7762 in Co...</td>\n",
       "      <td>https://clinicaltrials.gov/study/NCT00937664</td>\n",
       "      <td>NaN</td>\n",
       "      <td>TERMINATED</td>\n",
       "      <td>The primary purpose of this study is to find o...</td>\n",
       "      <td>NO</td>\n",
       "      <td>Cancer|Solid Tumors|Advanced Solid Malignancies</td>\n",
       "      <td>...</td>\n",
       "      <td>Allocation: NON_RANDOMIZED|Intervention Model:...</td>\n",
       "      <td>D1040C00008</td>\n",
       "      <td>2009-07</td>\n",
       "      <td>2011-02</td>\n",
       "      <td>2011-02</td>\n",
       "      <td>2009-07-13</td>\n",
       "      <td>NaN</td>\n",
       "      <td>2011-02-07</td>\n",
       "      <td>Research Site, Minami-ku, Fukuoka, Japan</td>\n",
       "      <td>NaN</td>\n",
       "    </tr>\n",
       "    <tr>\n",
       "      <th>2</th>\n",
       "      <td>143427</td>\n",
       "      <td>226012</td>\n",
       "      <td>NCT00441597</td>\n",
       "      <td>Does Atorvastatin Reduce Ischemia-Reperfusion ...</td>\n",
       "      <td>https://clinicaltrials.gov/study/NCT00441597</td>\n",
       "      <td>NaN</td>\n",
       "      <td>COMPLETED</td>\n",
       "      <td>To study the impact of 3 day exposure to atorv...</td>\n",
       "      <td>NO</td>\n",
       "      <td>Ischemia Reperfusion Injury|Cardiovascular Dis...</td>\n",
       "      <td>...</td>\n",
       "      <td>Allocation: RANDOMIZED|Intervention Model: CRO...</td>\n",
       "      <td>atorv01</td>\n",
       "      <td>2007-02</td>\n",
       "      <td>2009-02</td>\n",
       "      <td>2009-03</td>\n",
       "      <td>2007-03-01</td>\n",
       "      <td>NaN</td>\n",
       "      <td>2009-03-17</td>\n",
       "      <td>Radboud University Nijmegen Medical Centre, Ni...</td>\n",
       "      <td>NaN</td>\n",
       "    </tr>\n",
       "    <tr>\n",
       "      <th>3</th>\n",
       "      <td>138885</td>\n",
       "      <td>218952</td>\n",
       "      <td>NCT03296228</td>\n",
       "      <td>Comparison of Dynamic Radiographs in Determini...</td>\n",
       "      <td>https://clinicaltrials.gov/study/NCT03296228</td>\n",
       "      <td>NaN</td>\n",
       "      <td>COMPLETED</td>\n",
       "      <td>The purpose of this study is to identify the f...</td>\n",
       "      <td>NO</td>\n",
       "      <td>Adolescent Idiopathic Scoliosis</td>\n",
       "      <td>...</td>\n",
       "      <td>Observational Model: |Time Perspective: p</td>\n",
       "      <td>UW 16-208</td>\n",
       "      <td>2016-05-01</td>\n",
       "      <td>2018-05-01</td>\n",
       "      <td>2018-12-31</td>\n",
       "      <td>2017-09-28</td>\n",
       "      <td>NaN</td>\n",
       "      <td>2020-05-06</td>\n",
       "      <td>Duchess of Kent Children's Hospital, Hong Kong...</td>\n",
       "      <td>NaN</td>\n",
       "    </tr>\n",
       "    <tr>\n",
       "      <th>4</th>\n",
       "      <td>9769</td>\n",
       "      <td>15382</td>\n",
       "      <td>NCT00421603</td>\n",
       "      <td>A Placebo-Controlled Study of Mixed Amphetamin...</td>\n",
       "      <td>https://clinicaltrials.gov/study/NCT00421603</td>\n",
       "      <td>TACT</td>\n",
       "      <td>COMPLETED</td>\n",
       "      <td>The proposed protocol is a double-blind, place...</td>\n",
       "      <td>YES</td>\n",
       "      <td>Cocaine Dependence</td>\n",
       "      <td>...</td>\n",
       "      <td>Allocation: RANDOMIZED|Intervention Model: PAR...</td>\n",
       "      <td>#5368|R01DA022217</td>\n",
       "      <td>2007-02</td>\n",
       "      <td>2010-05</td>\n",
       "      <td>2010-05</td>\n",
       "      <td>2007-01-12</td>\n",
       "      <td>2013-02-28</td>\n",
       "      <td>2019-04-24</td>\n",
       "      <td>STARS, New York, New York, 10032, United States</td>\n",
       "      <td>NaN</td>\n",
       "    </tr>\n",
       "  </tbody>\n",
       "</table>\n",
       "<p>5 rows × 32 columns</p>\n",
       "</div>"
      ],
      "text/plain": [
       "   Unnamed: 0.1  Unnamed: 0   NCT Number  \\\n",
       "0         75209      118014  NCT00559130   \n",
       "1          6356        9987  NCT00937664   \n",
       "2        143427      226012  NCT00441597   \n",
       "3        138885      218952  NCT03296228   \n",
       "4          9769       15382  NCT00421603   \n",
       "\n",
       "                                         Study Title  \\\n",
       "0  Efficacy Study of CytoSorb Hemoperfusion Devic...   \n",
       "1  Safety and Tolerability Study of AZD7762 in Co...   \n",
       "2  Does Atorvastatin Reduce Ischemia-Reperfusion ...   \n",
       "3  Comparison of Dynamic Radiographs in Determini...   \n",
       "4  A Placebo-Controlled Study of Mixed Amphetamin...   \n",
       "\n",
       "                                      Study URL Acronym Study Status  \\\n",
       "0  https://clinicaltrials.gov/study/NCT00559130     NaN    COMPLETED   \n",
       "1  https://clinicaltrials.gov/study/NCT00937664     NaN   TERMINATED   \n",
       "2  https://clinicaltrials.gov/study/NCT00441597     NaN    COMPLETED   \n",
       "3  https://clinicaltrials.gov/study/NCT03296228     NaN    COMPLETED   \n",
       "4  https://clinicaltrials.gov/study/NCT00421603    TACT    COMPLETED   \n",
       "\n",
       "                                       Brief Summary Study Results  \\\n",
       "0  The hypothesis of this study is use of CytoSor...            NO   \n",
       "1  The primary purpose of this study is to find o...            NO   \n",
       "2  To study the impact of 3 day exposure to atorv...            NO   \n",
       "3  The purpose of this study is to identify the f...            NO   \n",
       "4  The proposed protocol is a double-blind, place...           YES   \n",
       "\n",
       "                                          Conditions  ...  \\\n",
       "0  Acute Respiratory Distress Syndrome|Acute Lung...  ...   \n",
       "1    Cancer|Solid Tumors|Advanced Solid Malignancies  ...   \n",
       "2  Ischemia Reperfusion Injury|Cardiovascular Dis...  ...   \n",
       "3                    Adolescent Idiopathic Scoliosis  ...   \n",
       "4                                 Cocaine Dependence  ...   \n",
       "\n",
       "                                        Study Design          Other IDs  \\\n",
       "0  Allocation: RANDOMIZED|Intervention Model: PAR...            2007-01   \n",
       "1  Allocation: NON_RANDOMIZED|Intervention Model:...        D1040C00008   \n",
       "2  Allocation: RANDOMIZED|Intervention Model: CRO...            atorv01   \n",
       "3          Observational Model: |Time Perspective: p          UW 16-208   \n",
       "4  Allocation: RANDOMIZED|Intervention Model: PAR...  #5368|R01DA022217   \n",
       "\n",
       "   Start Date Primary Completion Date Completion Date First Posted  \\\n",
       "0     2007-11                 2011-04         2011-06   2007-11-16   \n",
       "1     2009-07                 2011-02         2011-02   2009-07-13   \n",
       "2     2007-02                 2009-02         2009-03   2007-03-01   \n",
       "3  2016-05-01              2018-05-01      2018-12-31   2017-09-28   \n",
       "4     2007-02                 2010-05         2010-05   2007-01-12   \n",
       "\n",
       "  Results First Posted Last Update Posted  \\\n",
       "0                  NaN         2011-06-07   \n",
       "1                  NaN         2011-02-07   \n",
       "2                  NaN         2009-03-17   \n",
       "3                  NaN         2020-05-06   \n",
       "4           2013-02-28         2019-04-24   \n",
       "\n",
       "                                           Locations  Study Documents  \n",
       "0  Aachen, Germany|Berlin, Germany|Bonn, Germany|...              NaN  \n",
       "1           Research Site, Minami-ku, Fukuoka, Japan              NaN  \n",
       "2  Radboud University Nijmegen Medical Centre, Ni...              NaN  \n",
       "3  Duchess of Kent Children's Hospital, Hong Kong...              NaN  \n",
       "4    STARS, New York, New York, 10032, United States              NaN  \n",
       "\n",
       "[5 rows x 32 columns]"
      ]
     },
     "execution_count": 2,
     "metadata": {},
     "output_type": "execute_result"
    }
   ],
   "source": [
    "novartis_data.head()"
   ]
  },
  {
   "cell_type": "code",
   "execution_count": 3,
   "metadata": {
    "execution": {
     "iopub.execute_input": "2025-09-19T17:36:39.642273Z",
     "iopub.status.busy": "2025-09-19T17:36:39.642072Z",
     "iopub.status.idle": "2025-09-19T17:36:39.646617Z",
     "shell.execute_reply": "2025-09-19T17:36:39.645966Z",
     "shell.execute_reply.started": "2025-09-19T17:36:39.642256Z"
    }
   },
   "outputs": [
    {
     "data": {
      "text/plain": [
       "(257577, 32)"
      ]
     },
     "execution_count": 3,
     "metadata": {},
     "output_type": "execute_result"
    }
   ],
   "source": [
    "novartis_data.shape"
   ]
  },
  {
   "cell_type": "code",
   "execution_count": 4,
   "metadata": {
    "execution": {
     "iopub.execute_input": "2025-09-19T17:36:39.647826Z",
     "iopub.status.busy": "2025-09-19T17:36:39.647539Z",
     "iopub.status.idle": "2025-09-19T17:36:40.079592Z",
     "shell.execute_reply": "2025-09-19T17:36:40.078719Z",
     "shell.execute_reply.started": "2025-09-19T17:36:39.647797Z"
    }
   },
   "outputs": [
    {
     "name": "stdout",
     "output_type": "stream",
     "text": [
      "<class 'pandas.core.frame.DataFrame'>\n",
      "RangeIndex: 257577 entries, 0 to 257576\n",
      "Data columns (total 32 columns):\n",
      " #   Column                      Non-Null Count   Dtype  \n",
      "---  ------                      --------------   -----  \n",
      " 0   Unnamed: 0.1                257577 non-null  int64  \n",
      " 1   Unnamed: 0                  257577 non-null  int64  \n",
      " 2   NCT Number                  257577 non-null  object \n",
      " 3   Study Title                 257577 non-null  object \n",
      " 4   Study URL                   257577 non-null  object \n",
      " 5   Acronym                     63991 non-null   object \n",
      " 6   Study Status                257577 non-null  object \n",
      " 7   Brief Summary               257577 non-null  object \n",
      " 8   Study Results               257577 non-null  object \n",
      " 9   Conditions                  257577 non-null  object \n",
      " 10  Interventions               234064 non-null  object \n",
      " 11  Primary Outcome Measures    247086 non-null  object \n",
      " 12  Secondary Outcome Measures  185779 non-null  object \n",
      " 13  Other Outcome Measures      18272 non-null   object \n",
      " 14  Sponsor                     257577 non-null  object \n",
      " 15  Collaborators               83679 non-null   object \n",
      " 16  Sex                         257317 non-null  object \n",
      " 17  Age                         257577 non-null  object \n",
      " 18  Phases                      112765 non-null  object \n",
      " 19  Enrollment                  254205 non-null  float64\n",
      " 20  Funder Type                 257577 non-null  object \n",
      " 21  Study Type                  257577 non-null  object \n",
      " 22  Study Design                257577 non-null  object \n",
      " 23  Other IDs                   257556 non-null  object \n",
      " 24  Start Date                  255245 non-null  object \n",
      " 25  Primary Completion Date     244673 non-null  object \n",
      " 26  Completion Date             249686 non-null  object \n",
      " 27  First Posted                257577 non-null  object \n",
      " 28  Results First Posted        51581 non-null   object \n",
      " 29  Last Update Posted          257577 non-null  object \n",
      " 30  Locations                   233966 non-null  object \n",
      " 31  Study Documents             25155 non-null   object \n",
      "dtypes: float64(1), int64(2), object(29)\n",
      "memory usage: 62.9+ MB\n"
     ]
    }
   ],
   "source": [
    "novartis_data.info()"
   ]
  },
  {
   "cell_type": "code",
   "execution_count": 5,
   "metadata": {
    "execution": {
     "iopub.execute_input": "2025-09-19T17:36:40.080730Z",
     "iopub.status.busy": "2025-09-19T17:36:40.080403Z",
     "iopub.status.idle": "2025-09-19T17:36:40.124610Z",
     "shell.execute_reply": "2025-09-19T17:36:40.123938Z",
     "shell.execute_reply.started": "2025-09-19T17:36:40.080697Z"
    }
   },
   "outputs": [
    {
     "data": {
      "text/html": [
       "<div>\n",
       "<style scoped>\n",
       "    .dataframe tbody tr th:only-of-type {\n",
       "        vertical-align: middle;\n",
       "    }\n",
       "\n",
       "    .dataframe tbody tr th {\n",
       "        vertical-align: top;\n",
       "    }\n",
       "\n",
       "    .dataframe thead th {\n",
       "        text-align: right;\n",
       "    }\n",
       "</style>\n",
       "<table border=\"1\" class=\"dataframe\">\n",
       "  <thead>\n",
       "    <tr style=\"text-align: right;\">\n",
       "      <th></th>\n",
       "      <th>Unnamed: 0.1</th>\n",
       "      <th>Unnamed: 0</th>\n",
       "      <th>Enrollment</th>\n",
       "    </tr>\n",
       "  </thead>\n",
       "  <tbody>\n",
       "    <tr>\n",
       "      <th>count</th>\n",
       "      <td>257577.000000</td>\n",
       "      <td>257577.000000</td>\n",
       "      <td>2.542050e+05</td>\n",
       "    </tr>\n",
       "    <tr>\n",
       "      <th>mean</th>\n",
       "      <td>160870.734336</td>\n",
       "      <td>253249.196714</td>\n",
       "      <td>4.374388e+03</td>\n",
       "    </tr>\n",
       "    <tr>\n",
       "      <th>std</th>\n",
       "      <td>92962.873081</td>\n",
       "      <td>146367.626782</td>\n",
       "      <td>4.476837e+05</td>\n",
       "    </tr>\n",
       "    <tr>\n",
       "      <th>min</th>\n",
       "      <td>0.000000</td>\n",
       "      <td>0.000000</td>\n",
       "      <td>0.000000e+00</td>\n",
       "    </tr>\n",
       "    <tr>\n",
       "      <th>25%</th>\n",
       "      <td>80347.000000</td>\n",
       "      <td>126134.000000</td>\n",
       "      <td>2.400000e+01</td>\n",
       "    </tr>\n",
       "    <tr>\n",
       "      <th>50%</th>\n",
       "      <td>160813.000000</td>\n",
       "      <td>253661.000000</td>\n",
       "      <td>6.000000e+01</td>\n",
       "    </tr>\n",
       "    <tr>\n",
       "      <th>75%</th>\n",
       "      <td>241404.000000</td>\n",
       "      <td>380220.000000</td>\n",
       "      <td>1.600000e+02</td>\n",
       "    </tr>\n",
       "    <tr>\n",
       "      <th>max</th>\n",
       "      <td>321971.000000</td>\n",
       "      <td>506541.000000</td>\n",
       "      <td>1.888141e+08</td>\n",
       "    </tr>\n",
       "  </tbody>\n",
       "</table>\n",
       "</div>"
      ],
      "text/plain": [
       "        Unnamed: 0.1     Unnamed: 0    Enrollment\n",
       "count  257577.000000  257577.000000  2.542050e+05\n",
       "mean   160870.734336  253249.196714  4.374388e+03\n",
       "std     92962.873081  146367.626782  4.476837e+05\n",
       "min         0.000000       0.000000  0.000000e+00\n",
       "25%     80347.000000  126134.000000  2.400000e+01\n",
       "50%    160813.000000  253661.000000  6.000000e+01\n",
       "75%    241404.000000  380220.000000  1.600000e+02\n",
       "max    321971.000000  506541.000000  1.888141e+08"
      ]
     },
     "execution_count": 5,
     "metadata": {},
     "output_type": "execute_result"
    }
   ],
   "source": [
    "novartis_data.describe()"
   ]
  },
  {
   "cell_type": "code",
   "execution_count": 6,
   "metadata": {
    "execution": {
     "iopub.execute_input": "2025-09-19T17:36:40.125608Z",
     "iopub.status.busy": "2025-09-19T17:36:40.125317Z",
     "iopub.status.idle": "2025-09-19T17:36:40.131260Z",
     "shell.execute_reply": "2025-09-19T17:36:40.130575Z",
     "shell.execute_reply.started": "2025-09-19T17:36:40.125587Z"
    }
   },
   "outputs": [
    {
     "data": {
      "text/plain": [
       "Unnamed: 0.1                    int64\n",
       "Unnamed: 0                      int64\n",
       "NCT Number                     object\n",
       "Study Title                    object\n",
       "Study URL                      object\n",
       "Acronym                        object\n",
       "Study Status                   object\n",
       "Brief Summary                  object\n",
       "Study Results                  object\n",
       "Conditions                     object\n",
       "Interventions                  object\n",
       "Primary Outcome Measures       object\n",
       "Secondary Outcome Measures     object\n",
       "Other Outcome Measures         object\n",
       "Sponsor                        object\n",
       "Collaborators                  object\n",
       "Sex                            object\n",
       "Age                            object\n",
       "Phases                         object\n",
       "Enrollment                    float64\n",
       "Funder Type                    object\n",
       "Study Type                     object\n",
       "Study Design                   object\n",
       "Other IDs                      object\n",
       "Start Date                     object\n",
       "Primary Completion Date        object\n",
       "Completion Date                object\n",
       "First Posted                   object\n",
       "Results First Posted           object\n",
       "Last Update Posted             object\n",
       "Locations                      object\n",
       "Study Documents                object\n",
       "dtype: object"
      ]
     },
     "execution_count": 6,
     "metadata": {},
     "output_type": "execute_result"
    }
   ],
   "source": [
    "novartis_data.dtypes"
   ]
  },
  {
   "cell_type": "code",
   "execution_count": 7,
   "metadata": {
    "execution": {
     "iopub.execute_input": "2025-09-19T17:36:40.132311Z",
     "iopub.status.busy": "2025-09-19T17:36:40.132037Z",
     "iopub.status.idle": "2025-09-19T17:36:41.724797Z",
     "shell.execute_reply": "2025-09-19T17:36:41.724040Z",
     "shell.execute_reply.started": "2025-09-19T17:36:40.132283Z"
    }
   },
   "outputs": [
    {
     "data": {
      "text/plain": [
       "Unnamed: 0.1                  257577\n",
       "Unnamed: 0                    257577\n",
       "NCT Number                    257577\n",
       "Study Title                   256885\n",
       "Study URL                     257577\n",
       "Acronym                        52454\n",
       "Study Status                       4\n",
       "Brief Summary                 256391\n",
       "Study Results                      2\n",
       "Conditions                    102973\n",
       "Interventions                 198548\n",
       "Primary Outcome Measures      244191\n",
       "Secondary Outcome Measures    184792\n",
       "Other Outcome Measures         18199\n",
       "Sponsor                        26239\n",
       "Collaborators                  35926\n",
       "Sex                                3\n",
       "Age                                6\n",
       "Phases                             7\n",
       "Enrollment                      6513\n",
       "Funder Type                        9\n",
       "Study Type                         2\n",
       "Study Design                    1443\n",
       "Other IDs                     254188\n",
       "Start Date                      8049\n",
       "Primary Completion Date         6925\n",
       "Completion Date                 6981\n",
       "First Posted                    5733\n",
       "Results First Posted            3771\n",
       "Last Update Posted              4637\n",
       "Locations                     151996\n",
       "Study Documents                25155\n",
       "dtype: int64"
      ]
     },
     "execution_count": 7,
     "metadata": {},
     "output_type": "execute_result"
    }
   ],
   "source": [
    "novartis_data.nunique()"
   ]
  },
  {
   "cell_type": "code",
   "execution_count": 8,
   "metadata": {
    "execution": {
     "iopub.execute_input": "2025-09-19T17:36:41.727360Z",
     "iopub.status.busy": "2025-09-19T17:36:41.727153Z",
     "iopub.status.idle": "2025-09-19T17:36:42.096842Z",
     "shell.execute_reply": "2025-09-19T17:36:42.095976Z",
     "shell.execute_reply.started": "2025-09-19T17:36:41.727343Z"
    }
   },
   "outputs": [
    {
     "data": {
      "text/plain": [
       "Unnamed: 0.1                       0\n",
       "Unnamed: 0                         0\n",
       "NCT Number                         0\n",
       "Study Title                        0\n",
       "Study URL                          0\n",
       "Acronym                       193586\n",
       "Study Status                       0\n",
       "Brief Summary                      0\n",
       "Study Results                      0\n",
       "Conditions                         0\n",
       "Interventions                  23513\n",
       "Primary Outcome Measures       10491\n",
       "Secondary Outcome Measures     71798\n",
       "Other Outcome Measures        239305\n",
       "Sponsor                            0\n",
       "Collaborators                 173898\n",
       "Sex                              260\n",
       "Age                                0\n",
       "Phases                        144812\n",
       "Enrollment                      3372\n",
       "Funder Type                        0\n",
       "Study Type                         0\n",
       "Study Design                       0\n",
       "Other IDs                         21\n",
       "Start Date                      2332\n",
       "Primary Completion Date        12904\n",
       "Completion Date                 7891\n",
       "First Posted                       0\n",
       "Results First Posted          205996\n",
       "Last Update Posted                 0\n",
       "Locations                      23611\n",
       "Study Documents               232422\n",
       "dtype: int64"
      ]
     },
     "execution_count": 8,
     "metadata": {},
     "output_type": "execute_result"
    }
   ],
   "source": [
    "novartis_data.isnull().sum()"
   ]
  },
  {
   "cell_type": "markdown",
   "metadata": {},
   "source": [
    "**Dropping Duplicates**"
   ]
  },
  {
   "cell_type": "code",
   "execution_count": 9,
   "metadata": {
    "execution": {
     "iopub.execute_input": "2025-09-19T17:36:42.098672Z",
     "iopub.status.busy": "2025-09-19T17:36:42.098335Z",
     "iopub.status.idle": "2025-09-19T17:36:43.345839Z",
     "shell.execute_reply": "2025-09-19T17:36:43.345046Z",
     "shell.execute_reply.started": "2025-09-19T17:36:42.098647Z"
    }
   },
   "outputs": [
    {
     "data": {
      "text/plain": [
       "False"
      ]
     },
     "execution_count": 9,
     "metadata": {},
     "output_type": "execute_result"
    }
   ],
   "source": [
    "novartis_data.duplicated().any()"
   ]
  },
  {
   "cell_type": "markdown",
   "metadata": {},
   "source": [
    "**Heat map to visualize missing values**"
   ]
  },
  {
   "cell_type": "code",
   "execution_count": 10,
   "metadata": {
    "execution": {
     "iopub.execute_input": "2025-09-19T17:36:43.347021Z",
     "iopub.status.busy": "2025-09-19T17:36:43.346699Z",
     "iopub.status.idle": "2025-09-19T17:36:53.415469Z",
     "shell.execute_reply": "2025-09-19T17:36:53.414548Z",
     "shell.execute_reply.started": "2025-09-19T17:36:43.346989Z"
    }
   },
   "outputs": [
    {
     "data": {
      "text/plain": [
       "<Axes: >"
      ]
     },
     "execution_count": 10,
     "metadata": {},
     "output_type": "execute_result"
    },
    {
     "data": {
      "image/png": "[encoded data removed]",
      "text/plain": [
       "<Figure size 640x480 with 1 Axes>"
      ]
     },
     "metadata": {},
     "output_type": "display_data"
    }
   ],
   "source": [
    "import seaborn as sns\n",
    "sns.heatmap(novartis_data.isnull(),yticklabels=False,cbar=False,cmap='viridis')"
   ]
  },
  {
   "cell_type": "code",
   "execution_count": 11,
   "metadata": {
    "execution": {
     "iopub.execute_input": "2025-09-19T17:36:53.416569Z",
     "iopub.status.busy": "2025-09-19T17:36:53.416295Z",
     "iopub.status.idle": "2025-09-19T17:36:53.450223Z",
     "shell.execute_reply": "2025-09-19T17:36:53.449527Z",
     "shell.execute_reply.started": "2025-09-19T17:36:53.416531Z"
    }
   },
   "outputs": [
    {
     "data": {
      "text/plain": [
       "Acronym\n",
       "IMPACT      61\n",
       "COVID-19    59\n",
       "SMART       58\n",
       "RCT         49\n",
       "FAST        44\n",
       "            ..\n",
       "ELATED-3     1\n",
       "GMGWP        1\n",
       "TODDY        1\n",
       "MSPi         1\n",
       "VIMOPEIL     1\n",
       "Name: count, Length: 52454, dtype: int64"
      ]
     },
     "execution_count": 11,
     "metadata": {},
     "output_type": "execute_result"
    }
   ],
   "source": [
    "novartis_data['Acronym'].value_counts()"
   ]
  },
  {
   "cell_type": "code",
   "execution_count": 12,
   "metadata": {
    "execution": {
     "iopub.execute_input": "2025-09-19T17:36:53.451210Z",
     "iopub.status.busy": "2025-09-19T17:36:53.450974Z",
     "iopub.status.idle": "2025-09-19T17:36:53.472760Z",
     "shell.execute_reply": "2025-09-19T17:36:53.471873Z",
     "shell.execute_reply.started": "2025-09-19T17:36:53.451188Z"
    }
   },
   "outputs": [
    {
     "data": {
      "text/plain": [
       "Study Status\n",
       "COMPLETED     221243\n",
       "TERMINATED     23496\n",
       "WITHDRAWN      11512\n",
       "SUSPENDED       1326\n",
       "Name: count, dtype: int64"
      ]
     },
     "execution_count": 12,
     "metadata": {},
     "output_type": "execute_result"
    }
   ],
   "source": [
    "novartis_data[\"Study Status\"].value_counts()"
   ]
  },
  {
   "cell_type": "code",
   "execution_count": 13,
   "metadata": {
    "execution": {
     "iopub.execute_input": "2025-09-19T17:36:53.474004Z",
     "iopub.status.busy": "2025-09-19T17:36:53.473717Z",
     "iopub.status.idle": "2025-09-19T17:36:53.520054Z",
     "shell.execute_reply": "2025-09-19T17:36:53.519234Z",
     "shell.execute_reply.started": "2025-09-19T17:36:53.473974Z"
    }
   },
   "outputs": [
    {
     "data": {
      "text/plain": [
       "Sponsor\n",
       "GlaxoSmithKline                                                  2672\n",
       "Pfizer                                                           2236\n",
       "AstraZeneca                                                      2177\n",
       "National Cancer Institute (NCI)                                  2085\n",
       "National Institute of Allergy and Infectious Diseases (NIAID)    1708\n",
       "                                                                 ... \n",
       "Minneamrita Therapeutics LLC                                        1\n",
       "CarThera                                                            1\n",
       "Ekaterina Pogrebtsova                                               1\n",
       "Provention Bio, a Sanofi Company                                    1\n",
       "Evon Medics LLC                                                     1\n",
       "Name: count, Length: 26239, dtype: int64"
      ]
     },
     "execution_count": 13,
     "metadata": {},
     "output_type": "execute_result"
    }
   ],
   "source": [
    "novartis_data[\"Sponsor\"].value_counts()"
   ]
  },
  {
   "cell_type": "code",
   "execution_count": 14,
   "metadata": {
    "execution": {
     "iopub.execute_input": "2025-09-19T17:36:53.521290Z",
     "iopub.status.busy": "2025-09-19T17:36:53.520964Z",
     "iopub.status.idle": "2025-09-19T17:36:53.543188Z",
     "shell.execute_reply": "2025-09-19T17:36:53.542448Z",
     "shell.execute_reply.started": "2025-09-19T17:36:53.521257Z"
    }
   },
   "outputs": [
    {
     "data": {
      "text/plain": [
       "Funder Type\n",
       "OTHER        166393\n",
       "INDUSTRY      73019\n",
       "NIH            7509\n",
       "OTHER_GOV      5109\n",
       "FED            2679\n",
       "NETWORK        2522\n",
       "INDIV           321\n",
       "UNKNOWN          23\n",
       "AMBIG             2\n",
       "Name: count, dtype: int64"
      ]
     },
     "execution_count": 14,
     "metadata": {},
     "output_type": "execute_result"
    }
   ],
   "source": [
    "novartis_data[\"Funder Type\"].value_counts()"
   ]
  },
  {
   "cell_type": "code",
   "execution_count": 15,
   "metadata": {
    "execution": {
     "iopub.execute_input": "2025-09-19T17:36:53.544142Z",
     "iopub.status.busy": "2025-09-19T17:36:53.543918Z",
     "iopub.status.idle": "2025-09-19T17:36:53.570342Z",
     "shell.execute_reply": "2025-09-19T17:36:53.569635Z",
     "shell.execute_reply.started": "2025-09-19T17:36:53.544123Z"
    }
   },
   "outputs": [
    {
     "data": {
      "text/plain": [
       "Sex\n",
       "ALL       220080\n",
       "FEMALE     24755\n",
       "MALE       12482\n",
       "Name: count, dtype: int64"
      ]
     },
     "execution_count": 15,
     "metadata": {},
     "output_type": "execute_result"
    }
   ],
   "source": [
    "novartis_data[\"Sex\"].value_counts()"
   ]
  },
  {
   "cell_type": "markdown",
   "metadata": {},
   "source": [
    "**Extracting relevant columns from the initial dataset**"
   ]
  },
  {
   "cell_type": "code",
   "execution_count": 16,
   "metadata": {
    "execution": {
     "iopub.execute_input": "2025-09-19T17:36:53.571403Z",
     "iopub.status.busy": "2025-09-19T17:36:53.571135Z",
     "iopub.status.idle": "2025-09-19T17:36:53.632275Z",
     "shell.execute_reply": "2025-09-19T17:36:53.631403Z",
     "shell.execute_reply.started": "2025-09-19T17:36:53.571374Z"
    }
   },
   "outputs": [],
   "source": [
    "novartis_data_copy = novartis_data.loc[:, [\n",
    "    \"Study Status\",\n",
    "    \"Brief Summary\",\n",
    "    \"Study Results\",\n",
    "    \"Conditions\",\n",
    "    \"Interventions\",\n",
    "    \"Primary Outcome Measures\",\n",
    "    \"Secondary Outcome Measures\",\n",
    "    \"Sponsor\",\n",
    "    \"Sex\",\n",
    "    \"Age\",\n",
    "    \"Funder Type\",\n",
    "    \"Phases\",\n",
    "    \"Enrollment\",\n",
    "    \"Study Type\",\n",
    "    \"Study Design\"\n",
    "]]\n"
   ]
  },
  {
   "cell_type": "code",
   "execution_count": 17,
   "metadata": {
    "execution": {
     "iopub.execute_input": "2025-09-19T17:36:53.633571Z",
     "iopub.status.busy": "2025-09-19T17:36:53.633214Z",
     "iopub.status.idle": "2025-09-19T17:36:53.653549Z",
     "shell.execute_reply": "2025-09-19T17:36:53.652775Z",
     "shell.execute_reply.started": "2025-09-19T17:36:53.633542Z"
    }
   },
   "outputs": [
    {
     "data": {
      "text/html": [
       "<div>\n",
       "<style scoped>\n",
       "    .dataframe tbody tr th:only-of-type {\n",
       "        vertical-align: middle;\n",
       "    }\n",
       "\n",
       "    .dataframe tbody tr th {\n",
       "        vertical-align: top;\n",
       "    }\n",
       "\n",
       "    .dataframe thead th {\n",
       "        text-align: right;\n",
       "    }\n",
       "</style>\n",
       "<table border=\"1\" class=\"dataframe\">\n",
       "  <thead>\n",
       "    <tr style=\"text-align: right;\">\n",
       "      <th></th>\n",
       "      <th>Study Status</th>\n",
       "      <th>Brief Summary</th>\n",
       "      <th>Study Results</th>\n",
       "      <th>Conditions</th>\n",
       "      <th>Interventions</th>\n",
       "      <th>Primary Outcome Measures</th>\n",
       "      <th>Secondary Outcome Measures</th>\n",
       "      <th>Sponsor</th>\n",
       "      <th>Sex</th>\n",
       "      <th>Age</th>\n",
       "      <th>Funder Type</th>\n",
       "      <th>Phases</th>\n",
       "      <th>Enrollment</th>\n",
       "      <th>Study Type</th>\n",
       "      <th>Study Design</th>\n",
       "    </tr>\n",
       "  </thead>\n",
       "  <tbody>\n",
       "    <tr>\n",
       "      <th>0</th>\n",
       "      <td>COMPLETED</td>\n",
       "      <td>The hypothesis of this study is use of CytoSor...</td>\n",
       "      <td>NO</td>\n",
       "      <td>Acute Respiratory Distress Syndrome|Acute Lung...</td>\n",
       "      <td>DEVICE: CytoSorb Hemoperfusion</td>\n",
       "      <td>Relative IL-6 levels as a percent (%) of basel...</td>\n",
       "      <td>Ventilator Free Days, Reduction cytokines TNF-...</td>\n",
       "      <td>MedaSorb Technologies, Inc</td>\n",
       "      <td>ALL</td>\n",
       "      <td>ADULT, OLDER_ADULT</td>\n",
       "      <td>INDUSTRY</td>\n",
       "      <td>NaN</td>\n",
       "      <td>100.0</td>\n",
       "      <td>INTERVENTIONAL</td>\n",
       "      <td>Allocation: RANDOMIZED|Intervention Model: PAR...</td>\n",
       "    </tr>\n",
       "    <tr>\n",
       "      <th>1</th>\n",
       "      <td>TERMINATED</td>\n",
       "      <td>The primary purpose of this study is to find o...</td>\n",
       "      <td>NO</td>\n",
       "      <td>Cancer|Solid Tumors|Advanced Solid Malignancies</td>\n",
       "      <td>DRUG: AZD7762|DRUG: gemcitabine</td>\n",
       "      <td>Assessment of adverse events (based on CTCAE v...</td>\n",
       "      <td>Pharmacokinetic effect of AZD7762 when adminis...</td>\n",
       "      <td>AstraZeneca</td>\n",
       "      <td>ALL</td>\n",
       "      <td>ADULT, OLDER_ADULT</td>\n",
       "      <td>INDUSTRY</td>\n",
       "      <td>PHASE1</td>\n",
       "      <td>24.0</td>\n",
       "      <td>INTERVENTIONAL</td>\n",
       "      <td>Allocation: NON_RANDOMIZED|Intervention Model:...</td>\n",
       "    </tr>\n",
       "    <tr>\n",
       "      <th>2</th>\n",
       "      <td>COMPLETED</td>\n",
       "      <td>To study the impact of 3 day exposure to atorv...</td>\n",
       "      <td>NO</td>\n",
       "      <td>Ischemia Reperfusion Injury|Cardiovascular Dis...</td>\n",
       "      <td>DRUG: atorvastatin</td>\n",
       "      <td>Annexin A 5 targeting in the non dominant then...</td>\n",
       "      <td>workload during ischemic exercise, workload du...</td>\n",
       "      <td>Radboud University Medical Center</td>\n",
       "      <td>MALE</td>\n",
       "      <td>ADULT</td>\n",
       "      <td>OTHER</td>\n",
       "      <td>PHASE4</td>\n",
       "      <td>30.0</td>\n",
       "      <td>INTERVENTIONAL</td>\n",
       "      <td>Allocation: RANDOMIZED|Intervention Model: CRO...</td>\n",
       "    </tr>\n",
       "    <tr>\n",
       "      <th>3</th>\n",
       "      <td>COMPLETED</td>\n",
       "      <td>The purpose of this study is to identify the f...</td>\n",
       "      <td>NO</td>\n",
       "      <td>Adolescent Idiopathic Scoliosis</td>\n",
       "      <td>RADIATION: Flexibility Radiographs (supine, su...</td>\n",
       "      <td>Investigate the flexibility equivalence of dif...</td>\n",
       "      <td>Incorporate these findings into the Lenke Clas...</td>\n",
       "      <td>The University of Hong Kong</td>\n",
       "      <td>ALL</td>\n",
       "      <td>CHILD, ADULT</td>\n",
       "      <td>OTHER</td>\n",
       "      <td>NaN</td>\n",
       "      <td>134.0</td>\n",
       "      <td>OBSERVATIONAL</td>\n",
       "      <td>Observational Model: |Time Perspective: p</td>\n",
       "    </tr>\n",
       "    <tr>\n",
       "      <th>4</th>\n",
       "      <td>COMPLETED</td>\n",
       "      <td>The proposed protocol is a double-blind, place...</td>\n",
       "      <td>YES</td>\n",
       "      <td>Cocaine Dependence</td>\n",
       "      <td>DRUG: Adderall-XR and Topiramate|DRUG: Placebo</td>\n",
       "      <td>Three Weeks of Continuous Cocaine Abstinence a...</td>\n",
       "      <td>NaN</td>\n",
       "      <td>New York State Psychiatric Institute</td>\n",
       "      <td>ALL</td>\n",
       "      <td>ADULT</td>\n",
       "      <td>OTHER</td>\n",
       "      <td>PHASE2</td>\n",
       "      <td>81.0</td>\n",
       "      <td>INTERVENTIONAL</td>\n",
       "      <td>Allocation: RANDOMIZED|Intervention Model: PAR...</td>\n",
       "    </tr>\n",
       "  </tbody>\n",
       "</table>\n",
       "</div>"
      ],
      "text/plain": [
       "  Study Status                                      Brief Summary  \\\n",
       "0    COMPLETED  The hypothesis of this study is use of CytoSor...   \n",
       "1   TERMINATED  The primary purpose of this study is to find o...   \n",
       "2    COMPLETED  To study the impact of 3 day exposure to atorv...   \n",
       "3    COMPLETED  The purpose of this study is to identify the f...   \n",
       "4    COMPLETED  The proposed protocol is a double-blind, place...   \n",
       "\n",
       "  Study Results                                         Conditions  \\\n",
       "0            NO  Acute Respiratory Distress Syndrome|Acute Lung...   \n",
       "1            NO    Cancer|Solid Tumors|Advanced Solid Malignancies   \n",
       "2            NO  Ischemia Reperfusion Injury|Cardiovascular Dis...   \n",
       "3            NO                    Adolescent Idiopathic Scoliosis   \n",
       "4           YES                                 Cocaine Dependence   \n",
       "\n",
       "                                       Interventions  \\\n",
       "0                     DEVICE: CytoSorb Hemoperfusion   \n",
       "1                    DRUG: AZD7762|DRUG: gemcitabine   \n",
       "2                                 DRUG: atorvastatin   \n",
       "3  RADIATION: Flexibility Radiographs (supine, su...   \n",
       "4     DRUG: Adderall-XR and Topiramate|DRUG: Placebo   \n",
       "\n",
       "                            Primary Outcome Measures  \\\n",
       "0  Relative IL-6 levels as a percent (%) of basel...   \n",
       "1  Assessment of adverse events (based on CTCAE v...   \n",
       "2  Annexin A 5 targeting in the non dominant then...   \n",
       "3  Investigate the flexibility equivalence of dif...   \n",
       "4  Three Weeks of Continuous Cocaine Abstinence a...   \n",
       "\n",
       "                          Secondary Outcome Measures  \\\n",
       "0  Ventilator Free Days, Reduction cytokines TNF-...   \n",
       "1  Pharmacokinetic effect of AZD7762 when adminis...   \n",
       "2  workload during ischemic exercise, workload du...   \n",
       "3  Incorporate these findings into the Lenke Clas...   \n",
       "4                                                NaN   \n",
       "\n",
       "                                Sponsor   Sex                 Age Funder Type  \\\n",
       "0            MedaSorb Technologies, Inc   ALL  ADULT, OLDER_ADULT    INDUSTRY   \n",
       "1                           AstraZeneca   ALL  ADULT, OLDER_ADULT    INDUSTRY   \n",
       "2     Radboud University Medical Center  MALE               ADULT       OTHER   \n",
       "3           The University of Hong Kong   ALL        CHILD, ADULT       OTHER   \n",
       "4  New York State Psychiatric Institute   ALL               ADULT       OTHER   \n",
       "\n",
       "   Phases  Enrollment      Study Type  \\\n",
       "0     NaN       100.0  INTERVENTIONAL   \n",
       "1  PHASE1        24.0  INTERVENTIONAL   \n",
       "2  PHASE4        30.0  INTERVENTIONAL   \n",
       "3     NaN       134.0   OBSERVATIONAL   \n",
       "4  PHASE2        81.0  INTERVENTIONAL   \n",
       "\n",
       "                                        Study Design  \n",
       "0  Allocation: RANDOMIZED|Intervention Model: PAR...  \n",
       "1  Allocation: NON_RANDOMIZED|Intervention Model:...  \n",
       "2  Allocation: RANDOMIZED|Intervention Model: CRO...  \n",
       "3          Observational Model: |Time Perspective: p  \n",
       "4  Allocation: RANDOMIZED|Intervention Model: PAR...  "
      ]
     },
     "execution_count": 17,
     "metadata": {},
     "output_type": "execute_result"
    }
   ],
   "source": [
    "novartis_data_copy.head()"
   ]
  },
  {
   "cell_type": "code",
   "execution_count": 18,
   "metadata": {
    "execution": {
     "iopub.execute_input": "2025-09-19T17:36:53.654489Z",
     "iopub.status.busy": "2025-09-19T17:36:53.654276Z",
     "iopub.status.idle": "2025-09-19T17:36:58.325441Z",
     "shell.execute_reply": "2025-09-19T17:36:58.324525Z",
     "shell.execute_reply.started": "2025-09-19T17:36:53.654471Z"
    }
   },
   "outputs": [
    {
     "data": {
      "text/plain": [
       "<Axes: >"
      ]
     },
     "execution_count": 18,
     "metadata": {},
     "output_type": "execute_result"
    },
    {
     "data": {
      "image/png": "[encoded data removed]",
      "text/plain": [
       "<Figure size 640x480 with 1 Axes>"
      ]
     },
     "metadata": {},
     "output_type": "display_data"
    }
   ],
   "source": [
    "import seaborn as sns\n",
    "sns.heatmap(novartis_data_copy.isnull(),yticklabels=False,cbar=False,cmap='viridis')"
   ]
  },
  {
   "cell_type": "code",
   "execution_count": 19,
   "metadata": {
    "execution": {
     "iopub.execute_input": "2025-09-19T17:36:58.326575Z",
     "iopub.status.busy": "2025-09-19T17:36:58.326302Z",
     "iopub.status.idle": "2025-09-19T17:36:58.344926Z",
     "shell.execute_reply": "2025-09-19T17:36:58.344282Z",
     "shell.execute_reply.started": "2025-09-19T17:36:58.326553Z"
    }
   },
   "outputs": [
    {
     "data": {
      "text/plain": [
       "count       254,205.00\n",
       "mean          4,374.39\n",
       "std         447,683.73\n",
       "min               0.00\n",
       "25%              24.00\n",
       "50%              60.00\n",
       "75%             160.00\n",
       "max     188,814,085.00\n",
       "Name: Enrollment, dtype: float64"
      ]
     },
     "execution_count": 19,
     "metadata": {},
     "output_type": "execute_result"
    }
   ],
   "source": [
    "# Set Pandas to display float numbers in normal notation\n",
    "pd.options.display.float_format = '{:,.2f}'.format\n",
    "\n",
    "# Describe the column again\n",
    "novartis_data_copy[\"Enrollment\"].describe()\n"
   ]
  },
  {
   "cell_type": "markdown",
   "metadata": {},
   "source": [
    "**Treating outliers of Enrollment**"
   ]
  },
  {
   "cell_type": "code",
   "execution_count": 20,
   "metadata": {
    "execution": {
     "iopub.execute_input": "2025-09-19T17:36:58.345949Z",
     "iopub.status.busy": "2025-09-19T17:36:58.345698Z",
     "iopub.status.idle": "2025-09-19T17:36:58.520980Z",
     "shell.execute_reply": "2025-09-19T17:36:58.520209Z",
     "shell.execute_reply.started": "2025-09-19T17:36:58.345918Z"
    }
   },
   "outputs": [
    {
     "data": {
      "image/png": "[encoded data removed]",
      "text/plain": [
       "<Figure size 1000x600 with 1 Axes>"
      ]
     },
     "metadata": {},
     "output_type": "display_data"
    }
   ],
   "source": [
    "import pandas as pd\n",
    "import matplotlib.pyplot as plt\n",
    "\n",
    "# Generate the box plot for the 'Enrollment' column\n",
    "plt.figure(figsize=(10, 6))\n",
    "plt.boxplot(novartis_data_copy[\"Enrollment\"].dropna(), vert=False, patch_artist=True)\n",
    "plt.title(\"Box Plot for Enrollment\", fontsize=16)\n",
    "plt.xlabel(\"Enrollment\", fontsize=14)\n",
    "plt.grid(True, linestyle=\"--\", alpha=0.7)\n",
    "plt.show()\n"
   ]
  },
  {
   "cell_type": "code",
   "execution_count": 21,
   "metadata": {
    "execution": {
     "iopub.execute_input": "2025-09-19T17:36:58.522196Z",
     "iopub.status.busy": "2025-09-19T17:36:58.521861Z",
     "iopub.status.idle": "2025-09-19T17:36:59.311696Z",
     "shell.execute_reply": "2025-09-19T17:36:59.310792Z",
     "shell.execute_reply.started": "2025-09-19T17:36:58.522162Z"
    }
   },
   "outputs": [
    {
     "data": {
      "image/png": "[encoded data removed]",
      "text/plain": [
       "<Figure size 1000x600 with 1 Axes>"
      ]
     },
     "metadata": {},
     "output_type": "display_data"
    }
   ],
   "source": [
    "# Generate a scatter plot for the 'Enrollment' column against its index.\n",
    "plt.figure(figsize=(10, 6))\n",
    "plt.scatter(range(len(novartis_data_copy[\"Enrollment\"])), novartis_data_copy[\"Enrollment\"], alpha=0.6)\n",
    "plt.title(\"Scatter Plot for Enrollment\", fontsize=16)\n",
    "plt.xlabel(\"Index\", fontsize=14)\n",
    "plt.ylabel(\"Enrollment\", fontsize=14)\n",
    "plt.grid(True, linestyle=\"--\", alpha=0.7)\n",
    "plt.show()\n"
   ]
  },
  {
   "cell_type": "markdown",
   "metadata": {},
   "source": [
    "**REMOVING OUTLIERS FROM THE ENROLLMENT COLUMN**"
   ]
  },
  {
   "cell_type": "code",
   "execution_count": 22,
   "metadata": {
    "execution": {
     "iopub.execute_input": "2025-09-19T17:36:59.313062Z",
     "iopub.status.busy": "2025-09-19T17:36:59.312741Z",
     "iopub.status.idle": "2025-09-19T17:36:59.368577Z",
     "shell.execute_reply": "2025-09-19T17:36:59.367667Z",
     "shell.execute_reply.started": "2025-09-19T17:36:59.313029Z"
    }
   },
   "outputs": [
    {
     "name": "stdout",
     "output_type": "stream",
     "text": [
      "Total rows before: 257577\n",
      "Total rows after: 221184\n",
      "Outliers removed: 36393\n"
     ]
    },
    {
     "name": "stderr",
     "output_type": "stream",
     "text": [
      "/usr/local/lib/python3.10/dist-packages/pandas/core/computation/expressions.py:73: RuntimeWarning: invalid value encountered in greater_equal\n",
      "  return op(a, b)\n",
      "/usr/local/lib/python3.10/dist-packages/pandas/core/computation/expressions.py:73: RuntimeWarning: invalid value encountered in less_equal\n",
      "  return op(a, b)\n"
     ]
    }
   ],
   "source": [
    "# Calculate the IQR\n",
    "Q1 = novartis_data_copy['Enrollment'].quantile(0.25)\n",
    "Q3 = novartis_data_copy['Enrollment'].quantile(0.75)\n",
    "IQR = Q3 - Q1\n",
    "\n",
    "# Define bounds\n",
    "lower_bound = Q1 - 1.5 * IQR\n",
    "upper_bound = Q3 + 1.5 * IQR\n",
    "\n",
    "# Count before filtering\n",
    "before_count = len(novartis_data_copy)\n",
    "\n",
    "# Apply filter\n",
    "novartis_data_copy = novartis_data_copy[\n",
    "    (novartis_data_copy['Enrollment'] >= lower_bound) &\n",
    "    (novartis_data_copy['Enrollment'] <= upper_bound)\n",
    "]\n",
    "\n",
    "# Count after filtering\n",
    "after_count = len(novartis_data_copy)\n",
    "\n",
    "# Number of outliers removed\n",
    "outliers_removed = before_count - after_count\n",
    "\n",
    "print(f\"Total rows before: {before_count}\")\n",
    "print(f\"Total rows after: {after_count}\")\n",
    "print(f\"Outliers removed: {outliers_removed}\")"
   ]
  },
  {
   "cell_type": "code",
   "execution_count": 23,
   "metadata": {
    "execution": {
     "iopub.execute_input": "2025-09-19T17:36:59.373099Z",
     "iopub.status.busy": "2025-09-19T17:36:59.372880Z",
     "iopub.status.idle": "2025-09-19T17:36:59.534079Z",
     "shell.execute_reply": "2025-09-19T17:36:59.533265Z",
     "shell.execute_reply.started": "2025-09-19T17:36:59.373080Z"
    }
   },
   "outputs": [
    {
     "data": {
      "image/png": "[encoded data removed]",
      "text/plain": [
       "<Figure size 1000x600 with 1 Axes>"
      ]
     },
     "metadata": {},
     "output_type": "display_data"
    }
   ],
   "source": [
    "import pandas as pd\n",
    "import matplotlib.pyplot as plt\n",
    "\n",
    "# Generate the box plot for the 'Enrollment' column\n",
    "plt.figure(figsize=(10, 6))\n",
    "plt.boxplot(novartis_data_copy[\"Enrollment\"].dropna(), vert=False, patch_artist=True)\n",
    "plt.title(\"Box Plot for Enrollment\", fontsize=16)\n",
    "plt.xlabel(\"Enrollment\", fontsize=14)\n",
    "plt.grid(True, linestyle=\"--\", alpha=0.7)\n",
    "plt.show()"
   ]
  },
  {
   "cell_type": "code",
   "execution_count": 24,
   "metadata": {
    "execution": {
     "iopub.execute_input": "2025-09-19T17:36:59.536604Z",
     "iopub.status.busy": "2025-09-19T17:36:59.536355Z",
     "iopub.status.idle": "2025-09-19T17:37:03.656192Z",
     "shell.execute_reply": "2025-09-19T17:37:03.655365Z",
     "shell.execute_reply.started": "2025-09-19T17:36:59.536584Z"
    }
   },
   "outputs": [
    {
     "data": {
      "text/plain": [
       "<Axes: >"
      ]
     },
     "execution_count": 24,
     "metadata": {},
     "output_type": "execute_result"
    },
    {
     "data": {
      "image/png": "[encoded data removed]",
      "text/plain": [
       "<Figure size 640x480 with 1 Axes>"
      ]
     },
     "metadata": {},
     "output_type": "display_data"
    }
   ],
   "source": [
    "# Treating the outliers on enrollment also helps handle missing values\n",
    "\n",
    "import seaborn as sns\n",
    "sns.heatmap(novartis_data_copy.isnull(),yticklabels=False,cbar=False,cmap='viridis')"
   ]
  },
  {
   "cell_type": "markdown",
   "metadata": {},
   "source": [
    "**Treating the skewness of Enrollment**"
   ]
  },
  {
   "cell_type": "code",
   "execution_count": 25,
   "metadata": {
    "execution": {
     "iopub.execute_input": "2025-09-19T17:37:03.657317Z",
     "iopub.status.busy": "2025-09-19T17:37:03.657003Z",
     "iopub.status.idle": "2025-09-19T17:37:05.299858Z",
     "shell.execute_reply": "2025-09-19T17:37:05.298875Z",
     "shell.execute_reply.started": "2025-09-19T17:37:03.657287Z"
    }
   },
   "outputs": [
    {
     "data": {
      "image/png": "[encoded data removed]",
      "text/plain": [
       "<Figure size 640x480 with 1 Axes>"
      ]
     },
     "metadata": {},
     "output_type": "display_data"
    },
    {
     "name": "stderr",
     "output_type": "stream",
     "text": [
      "/usr/local/lib/python3.10/dist-packages/seaborn/_oldcore.py:1119: FutureWarning: use_inf_as_na option is deprecated and will be removed in a future version. Convert inf values to NaN before operating instead.\n",
      "  with pd.option_context('mode.use_inf_as_na', True):\n"
     ]
    },
    {
     "data": {
      "image/png": "[encoded data removed]",
      "text/plain": [
       "<Figure size 800x500 with 1 Axes>"
      ]
     },
     "metadata": {},
     "output_type": "display_data"
    }
   ],
   "source": [
    "# plotting the Q-Q curve and the histogram plot for Enrollment\n",
    "\n",
    "import scipy.stats as stats\n",
    "import matplotlib.pyplot as plt\n",
    "import seaborn as sns\n",
    "\n",
    "# Q-Q Plot for the 'Enrollment' column\n",
    "stats.probplot(novartis_data_copy['Enrollment'], dist=\"norm\", plot=plt)\n",
    "plt.title(\"Q-Q Plot for Enrollment\")\n",
    "plt.show()\n",
    "\n",
    "# Histogram to visualize skewness\n",
    "plt.figure(figsize=(8, 5))\n",
    "sns.histplot(novartis_data_copy['Enrollment'], kde=True, bins=30, color='skyblue')\n",
    "plt.title(\"Histogram of Enrollment\")\n",
    "plt.xlabel(\"Enrollment\")\n",
    "plt.ylabel(\"Frequency\")\n",
    "plt.show()"
   ]
  },
  {
   "cell_type": "markdown",
   "metadata": {},
   "source": [
    "**Handling the Skewness of Enrollment using Square root transformation**"
   ]
  },
  {
   "cell_type": "code",
   "execution_count": 26,
   "metadata": {
    "execution": {
     "iopub.execute_input": "2025-09-19T17:37:05.301178Z",
     "iopub.status.busy": "2025-09-19T17:37:05.300860Z",
     "iopub.status.idle": "2025-09-19T17:37:05.314828Z",
     "shell.execute_reply": "2025-09-19T17:37:05.314172Z",
     "shell.execute_reply.started": "2025-09-19T17:37:05.301146Z"
    }
   },
   "outputs": [],
   "source": [
    "# Add a small constant to handle zero or negative values, if any\n",
    "novartis_data_copy['Enrollment'] = np.sqrt(novartis_data_copy['Enrollment'] + 1e-6)  # Adding 1e-6 as a small constant"
   ]
  },
  {
   "cell_type": "code",
   "execution_count": 27,
   "metadata": {
    "execution": {
     "iopub.execute_input": "2025-09-19T17:37:05.315774Z",
     "iopub.status.busy": "2025-09-19T17:37:05.315558Z",
     "iopub.status.idle": "2025-09-19T17:37:06.994007Z",
     "shell.execute_reply": "2025-09-19T17:37:06.993297Z",
     "shell.execute_reply.started": "2025-09-19T17:37:05.315755Z"
    }
   },
   "outputs": [
    {
     "data": {
      "image/png": "[encoded data removed]",
      "text/plain": [
       "<Figure size 640x480 with 1 Axes>"
      ]
     },
     "metadata": {},
     "output_type": "display_data"
    },
    {
     "name": "stderr",
     "output_type": "stream",
     "text": [
      "/usr/local/lib/python3.10/dist-packages/seaborn/_oldcore.py:1119: FutureWarning: use_inf_as_na option is deprecated and will be removed in a future version. Convert inf values to NaN before operating instead.\n",
      "  with pd.option_context('mode.use_inf_as_na', True):\n"
     ]
    },
    {
     "data": {
      "image/png": "[encoded data removed]",
      "text/plain": [
       "<Figure size 800x500 with 1 Axes>"
      ]
     },
     "metadata": {},
     "output_type": "display_data"
    },
    {
     "data": {
      "image/png": "[encoded data removed]",
      "text/plain": [
       "<Figure size 800x500 with 1 Axes>"
      ]
     },
     "metadata": {},
     "output_type": "display_data"
    }
   ],
   "source": [
    "import scipy.stats as stats\n",
    "import matplotlib.pyplot as plt\n",
    "import seaborn as sns\n",
    "\n",
    "# Q-Q Plot for the 'Enrollment' column\n",
    "stats.probplot(novartis_data_copy['Enrollment'], dist=\"norm\", plot=plt)\n",
    "plt.title(\"Q-Q Plot for Enrollment\")\n",
    "plt.show()\n",
    "\n",
    "# Histogram to visualize skewness\n",
    "plt.figure(figsize=(8, 5))\n",
    "sns.histplot(novartis_data_copy['Enrollment'], kde=True, bins=30, color='skyblue')\n",
    "plt.title(\"Histogram of Enrollment\")\n",
    "plt.xlabel(\"Enrollment\")\n",
    "plt.ylabel(\"Frequency\")\n",
    "plt.show()\n",
    "\n",
    "# Box plot to detect skewness and outliers\n",
    "plt.figure(figsize=(8, 5))\n",
    "sns.boxplot(x=novartis_data_copy['Enrollment'], color='lightcoral')\n",
    "plt.title(\"Box Plot of Enrollment\")\n",
    "plt.show()\n"
   ]
  },
  {
   "cell_type": "code",
   "execution_count": 28,
   "metadata": {
    "execution": {
     "iopub.execute_input": "2025-09-19T17:37:06.995061Z",
     "iopub.status.busy": "2025-09-19T17:37:06.994773Z",
     "iopub.status.idle": "2025-09-19T17:37:07.008590Z",
     "shell.execute_reply": "2025-09-19T17:37:07.007772Z",
     "shell.execute_reply.started": "2025-09-19T17:37:06.995038Z"
    }
   },
   "outputs": [
    {
     "data": {
      "text/html": [
       "<div>\n",
       "<style scoped>\n",
       "    .dataframe tbody tr th:only-of-type {\n",
       "        vertical-align: middle;\n",
       "    }\n",
       "\n",
       "    .dataframe tbody tr th {\n",
       "        vertical-align: top;\n",
       "    }\n",
       "\n",
       "    .dataframe thead th {\n",
       "        text-align: right;\n",
       "    }\n",
       "</style>\n",
       "<table border=\"1\" class=\"dataframe\">\n",
       "  <thead>\n",
       "    <tr style=\"text-align: right;\">\n",
       "      <th></th>\n",
       "      <th>Study Status</th>\n",
       "      <th>Brief Summary</th>\n",
       "      <th>Study Results</th>\n",
       "      <th>Conditions</th>\n",
       "      <th>Interventions</th>\n",
       "      <th>Primary Outcome Measures</th>\n",
       "      <th>Secondary Outcome Measures</th>\n",
       "      <th>Sponsor</th>\n",
       "      <th>Sex</th>\n",
       "      <th>Age</th>\n",
       "      <th>Funder Type</th>\n",
       "      <th>Phases</th>\n",
       "      <th>Enrollment</th>\n",
       "      <th>Study Type</th>\n",
       "      <th>Study Design</th>\n",
       "    </tr>\n",
       "  </thead>\n",
       "  <tbody>\n",
       "    <tr>\n",
       "      <th>0</th>\n",
       "      <td>COMPLETED</td>\n",
       "      <td>The hypothesis of this study is use of CytoSor...</td>\n",
       "      <td>NO</td>\n",
       "      <td>Acute Respiratory Distress Syndrome|Acute Lung...</td>\n",
       "      <td>DEVICE: CytoSorb Hemoperfusion</td>\n",
       "      <td>Relative IL-6 levels as a percent (%) of basel...</td>\n",
       "      <td>Ventilator Free Days, Reduction cytokines TNF-...</td>\n",
       "      <td>MedaSorb Technologies, Inc</td>\n",
       "      <td>ALL</td>\n",
       "      <td>ADULT, OLDER_ADULT</td>\n",
       "      <td>INDUSTRY</td>\n",
       "      <td>NaN</td>\n",
       "      <td>10.00</td>\n",
       "      <td>INTERVENTIONAL</td>\n",
       "      <td>Allocation: RANDOMIZED|Intervention Model: PAR...</td>\n",
       "    </tr>\n",
       "    <tr>\n",
       "      <th>1</th>\n",
       "      <td>TERMINATED</td>\n",
       "      <td>The primary purpose of this study is to find o...</td>\n",
       "      <td>NO</td>\n",
       "      <td>Cancer|Solid Tumors|Advanced Solid Malignancies</td>\n",
       "      <td>DRUG: AZD7762|DRUG: gemcitabine</td>\n",
       "      <td>Assessment of adverse events (based on CTCAE v...</td>\n",
       "      <td>Pharmacokinetic effect of AZD7762 when adminis...</td>\n",
       "      <td>AstraZeneca</td>\n",
       "      <td>ALL</td>\n",
       "      <td>ADULT, OLDER_ADULT</td>\n",
       "      <td>INDUSTRY</td>\n",
       "      <td>PHASE1</td>\n",
       "      <td>4.90</td>\n",
       "      <td>INTERVENTIONAL</td>\n",
       "      <td>Allocation: NON_RANDOMIZED|Intervention Model:...</td>\n",
       "    </tr>\n",
       "    <tr>\n",
       "      <th>2</th>\n",
       "      <td>COMPLETED</td>\n",
       "      <td>To study the impact of 3 day exposure to atorv...</td>\n",
       "      <td>NO</td>\n",
       "      <td>Ischemia Reperfusion Injury|Cardiovascular Dis...</td>\n",
       "      <td>DRUG: atorvastatin</td>\n",
       "      <td>Annexin A 5 targeting in the non dominant then...</td>\n",
       "      <td>workload during ischemic exercise, workload du...</td>\n",
       "      <td>Radboud University Medical Center</td>\n",
       "      <td>MALE</td>\n",
       "      <td>ADULT</td>\n",
       "      <td>OTHER</td>\n",
       "      <td>PHASE4</td>\n",
       "      <td>5.48</td>\n",
       "      <td>INTERVENTIONAL</td>\n",
       "      <td>Allocation: RANDOMIZED|Intervention Model: CRO...</td>\n",
       "    </tr>\n",
       "    <tr>\n",
       "      <th>3</th>\n",
       "      <td>COMPLETED</td>\n",
       "      <td>The purpose of this study is to identify the f...</td>\n",
       "      <td>NO</td>\n",
       "      <td>Adolescent Idiopathic Scoliosis</td>\n",
       "      <td>RADIATION: Flexibility Radiographs (supine, su...</td>\n",
       "      <td>Investigate the flexibility equivalence of dif...</td>\n",
       "      <td>Incorporate these findings into the Lenke Clas...</td>\n",
       "      <td>The University of Hong Kong</td>\n",
       "      <td>ALL</td>\n",
       "      <td>CHILD, ADULT</td>\n",
       "      <td>OTHER</td>\n",
       "      <td>NaN</td>\n",
       "      <td>11.58</td>\n",
       "      <td>OBSERVATIONAL</td>\n",
       "      <td>Observational Model: |Time Perspective: p</td>\n",
       "    </tr>\n",
       "    <tr>\n",
       "      <th>4</th>\n",
       "      <td>COMPLETED</td>\n",
       "      <td>The proposed protocol is a double-blind, place...</td>\n",
       "      <td>YES</td>\n",
       "      <td>Cocaine Dependence</td>\n",
       "      <td>DRUG: Adderall-XR and Topiramate|DRUG: Placebo</td>\n",
       "      <td>Three Weeks of Continuous Cocaine Abstinence a...</td>\n",
       "      <td>NaN</td>\n",
       "      <td>New York State Psychiatric Institute</td>\n",
       "      <td>ALL</td>\n",
       "      <td>ADULT</td>\n",
       "      <td>OTHER</td>\n",
       "      <td>PHASE2</td>\n",
       "      <td>9.00</td>\n",
       "      <td>INTERVENTIONAL</td>\n",
       "      <td>Allocation: RANDOMIZED|Intervention Model: PAR...</td>\n",
       "    </tr>\n",
       "  </tbody>\n",
       "</table>\n",
       "</div>"
      ],
      "text/plain": [
       "  Study Status                                      Brief Summary  \\\n",
       "0    COMPLETED  The hypothesis of this study is use of CytoSor...   \n",
       "1   TERMINATED  The primary purpose of this study is to find o...   \n",
       "2    COMPLETED  To study the impact of 3 day exposure to atorv...   \n",
       "3    COMPLETED  The purpose of this study is to identify the f...   \n",
       "4    COMPLETED  The proposed protocol is a double-blind, place...   \n",
       "\n",
       "  Study Results                                         Conditions  \\\n",
       "0            NO  Acute Respiratory Distress Syndrome|Acute Lung...   \n",
       "1            NO    Cancer|Solid Tumors|Advanced Solid Malignancies   \n",
       "2            NO  Ischemia Reperfusion Injury|Cardiovascular Dis...   \n",
       "3            NO                    Adolescent Idiopathic Scoliosis   \n",
       "4           YES                                 Cocaine Dependence   \n",
       "\n",
       "                                       Interventions  \\\n",
       "0                     DEVICE: CytoSorb Hemoperfusion   \n",
       "1                    DRUG: AZD7762|DRUG: gemcitabine   \n",
       "2                                 DRUG: atorvastatin   \n",
       "3  RADIATION: Flexibility Radiographs (supine, su...   \n",
       "4     DRUG: Adderall-XR and Topiramate|DRUG: Placebo   \n",
       "\n",
       "                            Primary Outcome Measures  \\\n",
       "0  Relative IL-6 levels as a percent (%) of basel...   \n",
       "1  Assessment of adverse events (based on CTCAE v...   \n",
       "2  Annexin A 5 targeting in the non dominant then...   \n",
       "3  Investigate the flexibility equivalence of dif...   \n",
       "4  Three Weeks of Continuous Cocaine Abstinence a...   \n",
       "\n",
       "                          Secondary Outcome Measures  \\\n",
       "0  Ventilator Free Days, Reduction cytokines TNF-...   \n",
       "1  Pharmacokinetic effect of AZD7762 when adminis...   \n",
       "2  workload during ischemic exercise, workload du...   \n",
       "3  Incorporate these findings into the Lenke Clas...   \n",
       "4                                                NaN   \n",
       "\n",
       "                                Sponsor   Sex                 Age Funder Type  \\\n",
       "0            MedaSorb Technologies, Inc   ALL  ADULT, OLDER_ADULT    INDUSTRY   \n",
       "1                           AstraZeneca   ALL  ADULT, OLDER_ADULT    INDUSTRY   \n",
       "2     Radboud University Medical Center  MALE               ADULT       OTHER   \n",
       "3           The University of Hong Kong   ALL        CHILD, ADULT       OTHER   \n",
       "4  New York State Psychiatric Institute   ALL               ADULT       OTHER   \n",
       "\n",
       "   Phases  Enrollment      Study Type  \\\n",
       "0     NaN       10.00  INTERVENTIONAL   \n",
       "1  PHASE1        4.90  INTERVENTIONAL   \n",
       "2  PHASE4        5.48  INTERVENTIONAL   \n",
       "3     NaN       11.58   OBSERVATIONAL   \n",
       "4  PHASE2        9.00  INTERVENTIONAL   \n",
       "\n",
       "                                        Study Design  \n",
       "0  Allocation: RANDOMIZED|Intervention Model: PAR...  \n",
       "1  Allocation: NON_RANDOMIZED|Intervention Model:...  \n",
       "2  Allocation: RANDOMIZED|Intervention Model: CRO...  \n",
       "3          Observational Model: |Time Perspective: p  \n",
       "4  Allocation: RANDOMIZED|Intervention Model: PAR...  "
      ]
     },
     "execution_count": 28,
     "metadata": {},
     "output_type": "execute_result"
    }
   ],
   "source": [
    "novartis_data_copy.head()"
   ]
  },
  {
   "cell_type": "markdown",
   "metadata": {},
   "source": [
    "**Downsampling Phases to remove biasness in this feature**"
   ]
  },
  {
   "cell_type": "code",
   "execution_count": 29,
   "metadata": {
    "execution": {
     "iopub.execute_input": "2025-09-19T17:37:07.009776Z",
     "iopub.status.busy": "2025-09-19T17:37:07.009478Z",
     "iopub.status.idle": "2025-09-19T17:37:07.034979Z",
     "shell.execute_reply": "2025-09-19T17:37:07.034207Z",
     "shell.execute_reply.started": "2025-09-19T17:37:07.009746Z"
    }
   },
   "outputs": [
    {
     "data": {
      "text/plain": [
       "Phases\n",
       "PHASE2           29570\n",
       "PHASE1           26486\n",
       "PHASE4           16244\n",
       "PHASE3           14339\n",
       "PHASE1|PHASE2     6908\n",
       "PHASE2|PHASE3     2961\n",
       "EARLY_PHASE1      2151\n",
       "Name: count, dtype: int64"
      ]
     },
     "execution_count": 29,
     "metadata": {},
     "output_type": "execute_result"
    }
   ],
   "source": [
    "novartis_data_copy[\"Phases\"].value_counts()"
   ]
  },
  {
   "cell_type": "code",
   "execution_count": 30,
   "metadata": {
    "execution": {
     "iopub.execute_input": "2025-09-19T17:37:07.036050Z",
     "iopub.status.busy": "2025-09-19T17:37:07.035804Z",
     "iopub.status.idle": "2025-09-19T17:37:07.077007Z",
     "shell.execute_reply": "2025-09-19T17:37:07.076301Z",
     "shell.execute_reply.started": "2025-09-19T17:37:07.036018Z"
    }
   },
   "outputs": [
    {
     "name": "stdout",
     "output_type": "stream",
     "text": [
      "Phases\n",
      "Unknown          122525\n",
      "PHASE2            29570\n",
      "PHASE1            26486\n",
      "PHASE4            16244\n",
      "PHASE3            14339\n",
      "PHASE1|PHASE2      6908\n",
      "PHASE2|PHASE3      2961\n",
      "EARLY_PHASE1       2151\n",
      "Name: count, dtype: int64\n"
     ]
    }
   ],
   "source": [
    "# Fill null values in the \"Phases\" column with \"Unknown\"\n",
    "novartis_data_copy[\"Phases\"] = novartis_data_copy[\"Phases\"].fillna(\"Unknown\")\n",
    "\n",
    "# Verify the changes\n",
    "print(novartis_data_copy[\"Phases\"].value_counts())"
   ]
  },
  {
   "cell_type": "code",
   "execution_count": 31,
   "metadata": {
    "execution": {
     "iopub.execute_input": "2025-09-19T17:37:07.077981Z",
     "iopub.status.busy": "2025-09-19T17:37:07.077720Z",
     "iopub.status.idle": "2025-09-19T17:37:07.220509Z",
     "shell.execute_reply": "2025-09-19T17:37:07.219530Z",
     "shell.execute_reply.started": "2025-09-19T17:37:07.077961Z"
    }
   },
   "outputs": [
    {
     "name": "stdout",
     "output_type": "stream",
     "text": [
      "Phases\n",
      "Unknown          30000\n",
      "PHASE2           29570\n",
      "PHASE1           26486\n",
      "PHASE4           16244\n",
      "PHASE3           14339\n",
      "PHASE1|PHASE2     6908\n",
      "PHASE2|PHASE3     2961\n",
      "EARLY_PHASE1      2151\n",
      "Name: count, dtype: int64\n"
     ]
    }
   ],
   "source": [
    "# Example of downsampling \"Unknown\"\n",
    "unknown_sample = novartis_data_copy[novartis_data_copy[\"Phases\"] == \"Unknown\"].sample(n=30000, random_state=42)\n",
    "other_data = novartis_data_copy[novartis_data_copy[\"Phases\"] != \"Unknown\"]\n",
    "balanced_data = pd.concat([unknown_sample, other_data])\n",
    "\n",
    "print(balanced_data[\"Phases\"].value_counts())"
   ]
  },
  {
   "cell_type": "code",
   "execution_count": 32,
   "metadata": {
    "execution": {
     "iopub.execute_input": "2025-09-19T17:37:07.221881Z",
     "iopub.status.busy": "2025-09-19T17:37:07.221537Z",
     "iopub.status.idle": "2025-09-19T17:37:07.359382Z",
     "shell.execute_reply": "2025-09-19T17:37:07.358549Z",
     "shell.execute_reply.started": "2025-09-19T17:37:07.221843Z"
    }
   },
   "outputs": [
    {
     "name": "stdout",
     "output_type": "stream",
     "text": [
      "Study Status                  0.00\n",
      "Brief Summary                 0.00\n",
      "Study Results                 0.00\n",
      "Conditions                    0.00\n",
      "Interventions                 3.25\n",
      "Primary Outcome Measures      2.89\n",
      "Secondary Outcome Measures   23.38\n",
      "Sponsor                       0.00\n",
      "Sex                           0.07\n",
      "Age                           0.00\n",
      "Funder Type                   0.00\n",
      "Phases                        0.00\n",
      "Enrollment                    0.00\n",
      "Study Type                    0.00\n",
      "Study Design                  0.00\n",
      "dtype: float64\n"
     ]
    }
   ],
   "source": [
    "# Calculate the percentage of missing values for each column\n",
    "missing_percentage = (balanced_data.isnull().sum() / len(balanced_data)) * 100\n",
    "\n",
    "print(missing_percentage)"
   ]
  },
  {
   "cell_type": "markdown",
   "metadata": {},
   "source": [
    "**Extracting features (Derived Features) from Study Design and later encoding them**"
   ]
  },
  {
   "cell_type": "code",
   "execution_count": 33,
   "metadata": {
    "execution": {
     "iopub.execute_input": "2025-09-19T17:37:07.360734Z",
     "iopub.status.busy": "2025-09-19T17:37:07.360416Z",
     "iopub.status.idle": "2025-09-19T17:37:07.703570Z",
     "shell.execute_reply": "2025-09-19T17:37:07.702787Z",
     "shell.execute_reply.started": "2025-09-19T17:37:07.360710Z"
    }
   },
   "outputs": [
    {
     "name": "stdout",
     "output_type": "stream",
     "text": [
      "Unique Attributes in Study Design: ['Allocation', 'Intervention Model', 'Masking', 'Observational Model', 'Primary Purpose', 'Time Perspective']\n"
     ]
    }
   ],
   "source": [
    "# Extract all unique attributes dynamically from the Study Design column\n",
    "unique_attributes = set()\n",
    "\n",
    "# Iterate through the Study Design column to collect all unique attributes\n",
    "for study_design in balanced_data['Study Design']:\n",
    "    if pd.notna(study_design):  # Skip NaN values\n",
    "        for part in study_design.split('|'):  # Split by '|'\n",
    "            if ':' in part:  # Check if it's a valid key-value pair\n",
    "                key = part.split(':', 1)[0].strip()  # Extract the key\n",
    "                unique_attributes.add(key)  # Add the key to the set\n",
    "\n",
    "# Convert to a sorted list for consistent order\n",
    "unique_attributes = sorted(unique_attributes)\n",
    "\n",
    "# Display the unique attributes \n",
    "print(\"Unique Attributes in Study Design:\", unique_attributes)"
   ]
  },
  {
   "cell_type": "markdown",
   "metadata": {},
   "source": [
    "**Saving the `unique_attributes` for Inference**"
   ]
  },
  {
   "cell_type": "code",
   "execution_count": 34,
   "metadata": {
    "execution": {
     "iopub.execute_input": "2025-09-19T17:37:07.704712Z",
     "iopub.status.busy": "2025-09-19T17:37:07.704373Z",
     "iopub.status.idle": "2025-09-19T17:37:07.710095Z",
     "shell.execute_reply": "2025-09-19T17:37:07.709437Z",
     "shell.execute_reply.started": "2025-09-19T17:37:07.704678Z"
    }
   },
   "outputs": [
    {
     "data": {
      "text/plain": [
       "['study_design_attributes.pkl']"
      ]
     },
     "execution_count": 34,
     "metadata": {},
     "output_type": "execute_result"
    }
   ],
   "source": [
    "import joblib\n",
    "joblib.dump(unique_attributes, \"study_design_attributes.pkl\")"
   ]
  },
  {
   "cell_type": "code",
   "execution_count": 35,
   "metadata": {
    "execution": {
     "iopub.execute_input": "2025-09-19T17:37:07.710975Z",
     "iopub.status.busy": "2025-09-19T17:37:07.710727Z",
     "iopub.status.idle": "2025-09-19T17:37:08.345406Z",
     "shell.execute_reply": "2025-09-19T17:37:08.344605Z",
     "shell.execute_reply.started": "2025-09-19T17:37:07.710956Z"
    }
   },
   "outputs": [
    {
     "name": "stdout",
     "output_type": "stream",
     "text": [
      "Number of rows in original DataFrame: 128659\n",
      "Number of rows in parsed DataFrame: 128659\n"
     ]
    }
   ],
   "source": [
    "def parse_study_design_dynamic(study_design, all_attributes):\n",
    "    attributes = {attr: \"Unknown\" for attr in all_attributes}  # Initialize with \"Unknown\"\n",
    "    if study_design != \"Unknown\":  # Avoid parsing \"Unknown\"\n",
    "        for part in study_design.split('|'):  # Split by '|'\n",
    "            if ':' in part:\n",
    "                key, value = part.split(':', 1)  # Split into key-value pair\n",
    "                key = key.strip()\n",
    "                value = value.strip()\n",
    "                attributes[key] = value  # Assign the value to the corresponding key\n",
    "    return attributes\n",
    "\n",
    "# Parse the Study Design column dynamically\n",
    "parsed_study_design_dynamic = balanced_data['Study Design'].apply(\n",
    "    lambda x: parse_study_design_dynamic(x, unique_attributes)\n",
    ")\n",
    "\n",
    "# Convert the parsed data into a DataFrame and set the same index as the original DataFrame\n",
    "study_design_dynamic_df = pd.DataFrame(parsed_study_design_dynamic.tolist(), index=balanced_data.index)\n",
    "\n",
    "# Concatenate the new columns with the original DataFrame\n",
    "balanced_data = pd.concat([balanced_data, study_design_dynamic_df], axis=1)\n",
    "\n",
    "# Drop the original Study Design column if no longer needed\n",
    "balanced_data.drop(columns=['Study Design'], inplace=True)\n",
    "\n",
    "# Verify alignment\n",
    "print(\"Number of rows in original DataFrame:\", len(balanced_data))\n",
    "print(\"Number of rows in parsed DataFrame:\", len(study_design_dynamic_df))"
   ]
  },
  {
   "cell_type": "code",
   "execution_count": 36,
   "metadata": {
    "execution": {
     "iopub.execute_input": "2025-09-19T17:37:08.346540Z",
     "iopub.status.busy": "2025-09-19T17:37:08.346226Z",
     "iopub.status.idle": "2025-09-19T17:37:08.361450Z",
     "shell.execute_reply": "2025-09-19T17:37:08.360669Z",
     "shell.execute_reply.started": "2025-09-19T17:37:08.346509Z"
    }
   },
   "outputs": [
    {
     "data": {
      "text/html": [
       "<div>\n",
       "<style scoped>\n",
       "    .dataframe tbody tr th:only-of-type {\n",
       "        vertical-align: middle;\n",
       "    }\n",
       "\n",
       "    .dataframe tbody tr th {\n",
       "        vertical-align: top;\n",
       "    }\n",
       "\n",
       "    .dataframe thead th {\n",
       "        text-align: right;\n",
       "    }\n",
       "</style>\n",
       "<table border=\"1\" class=\"dataframe\">\n",
       "  <thead>\n",
       "    <tr style=\"text-align: right;\">\n",
       "      <th></th>\n",
       "      <th>Study Status</th>\n",
       "      <th>Brief Summary</th>\n",
       "      <th>Study Results</th>\n",
       "      <th>Conditions</th>\n",
       "      <th>Interventions</th>\n",
       "      <th>Primary Outcome Measures</th>\n",
       "      <th>Secondary Outcome Measures</th>\n",
       "      <th>Sponsor</th>\n",
       "      <th>Sex</th>\n",
       "      <th>Age</th>\n",
       "      <th>Funder Type</th>\n",
       "      <th>Phases</th>\n",
       "      <th>Enrollment</th>\n",
       "      <th>Study Type</th>\n",
       "      <th>Allocation</th>\n",
       "      <th>Intervention Model</th>\n",
       "      <th>Masking</th>\n",
       "      <th>Observational Model</th>\n",
       "      <th>Primary Purpose</th>\n",
       "      <th>Time Perspective</th>\n",
       "    </tr>\n",
       "  </thead>\n",
       "  <tbody>\n",
       "    <tr>\n",
       "      <th>211241</th>\n",
       "      <td>COMPLETED</td>\n",
       "      <td>The purpose of this study is to compare oxidat...</td>\n",
       "      <td>YES</td>\n",
       "      <td>HIV Infections</td>\n",
       "      <td>NaN</td>\n",
       "      <td>Total Glutathione, The total glutathione conte...</td>\n",
       "      <td>Catalase Activity, Antioxidant activity of the...</td>\n",
       "      <td>Hospital de Clinicas de Porto Alegre</td>\n",
       "      <td>ALL</td>\n",
       "      <td>ADULT</td>\n",
       "      <td>OTHER</td>\n",
       "      <td>Unknown</td>\n",
       "      <td>5.29</td>\n",
       "      <td>OBSERVATIONAL</td>\n",
       "      <td>Unknown</td>\n",
       "      <td>Unknown</td>\n",
       "      <td>Unknown</td>\n",
       "      <td></td>\n",
       "      <td>Unknown</td>\n",
       "      <td>p</td>\n",
       "    </tr>\n",
       "    <tr>\n",
       "      <th>134970</th>\n",
       "      <td>COMPLETED</td>\n",
       "      <td>Obsessional compulsive disorder (OCD) is a ver...</td>\n",
       "      <td>NO</td>\n",
       "      <td>Obsessive Compulsive Disorder</td>\n",
       "      <td>BEHAVIORAL: Cognitive behavior therapy|BEHAVIO...</td>\n",
       "      <td>Yale-Brown Obsessive-Compulsive Scale (Y-BOCS)...</td>\n",
       "      <td>Vancouver Obsessional Compulsive Inventory (VO...</td>\n",
       "      <td>Centre de Recherche de l'Institut Universitair...</td>\n",
       "      <td>ALL</td>\n",
       "      <td>ADULT, OLDER_ADULT</td>\n",
       "      <td>OTHER</td>\n",
       "      <td>Unknown</td>\n",
       "      <td>10.54</td>\n",
       "      <td>INTERVENTIONAL</td>\n",
       "      <td>RANDOMIZED</td>\n",
       "      <td>PARALLEL</td>\n",
       "      <td>SINGLE (OUTCOMES_ASSESSOR)</td>\n",
       "      <td>Unknown</td>\n",
       "      <td>TREATMENT</td>\n",
       "      <td>Unknown</td>\n",
       "    </tr>\n",
       "    <tr>\n",
       "      <th>88399</th>\n",
       "      <td>TERMINATED</td>\n",
       "      <td>Metabolic syndrome and hyperuricemia were both...</td>\n",
       "      <td>NO</td>\n",
       "      <td>Hyperuricemia|Metabolic Syndrome|Left Ventricu...</td>\n",
       "      <td>DIAGNOSTIC_TEST: hyperuricemia</td>\n",
       "      <td>Left ventricle diastolic dysfunction with elev...</td>\n",
       "      <td>high-sensitivity C-reactive protein, determine...</td>\n",
       "      <td>National Defense Medical Center, Taiwan</td>\n",
       "      <td>ALL</td>\n",
       "      <td>ADULT, OLDER_ADULT</td>\n",
       "      <td>OTHER</td>\n",
       "      <td>Unknown</td>\n",
       "      <td>8.19</td>\n",
       "      <td>OBSERVATIONAL</td>\n",
       "      <td>Unknown</td>\n",
       "      <td>Unknown</td>\n",
       "      <td>Unknown</td>\n",
       "      <td></td>\n",
       "      <td>Unknown</td>\n",
       "      <td>p</td>\n",
       "    </tr>\n",
       "    <tr>\n",
       "      <th>197115</th>\n",
       "      <td>COMPLETED</td>\n",
       "      <td>Clinical management of cochlear implant (CI) r...</td>\n",
       "      <td>YES</td>\n",
       "      <td>Hearing Loss, Sensorineural|Hearing Loss, Bila...</td>\n",
       "      <td>DEVICE: Cochlear Implant (CI)-CI500 series, CI...</td>\n",
       "      <td>Number of Participants Who While Using the Fin...</td>\n",
       "      <td>NaN</td>\n",
       "      <td>Cochlear</td>\n",
       "      <td>ALL</td>\n",
       "      <td>ADULT, OLDER_ADULT</td>\n",
       "      <td>INDUSTRY</td>\n",
       "      <td>Unknown</td>\n",
       "      <td>3.87</td>\n",
       "      <td>INTERVENTIONAL</td>\n",
       "      <td>NA</td>\n",
       "      <td>SINGLE_GROUP</td>\n",
       "      <td>NONE</td>\n",
       "      <td>Unknown</td>\n",
       "      <td>SUPPORTIVE_CARE</td>\n",
       "      <td>Unknown</td>\n",
       "    </tr>\n",
       "    <tr>\n",
       "      <th>30457</th>\n",
       "      <td>COMPLETED</td>\n",
       "      <td>This prospective, randomized study,control stu...</td>\n",
       "      <td>NO</td>\n",
       "      <td>Laparoscopic Renal Surgery|Pain Management|Ner...</td>\n",
       "      <td>PROCEDURE: single-injection QLB(quadratus lumb...</td>\n",
       "      <td>cumulative morphine consumption, within 48 pos...</td>\n",
       "      <td>The pain scores determined by the numeric rati...</td>\n",
       "      <td>Cui Xulei</td>\n",
       "      <td>ALL</td>\n",
       "      <td>CHILD, ADULT, OLDER_ADULT</td>\n",
       "      <td>OTHER</td>\n",
       "      <td>Unknown</td>\n",
       "      <td>5.48</td>\n",
       "      <td>INTERVENTIONAL</td>\n",
       "      <td>RANDOMIZED</td>\n",
       "      <td>PARALLEL</td>\n",
       "      <td>DOUBLE (INVESTIGATOR, OUTCOMES_ASSESSOR)</td>\n",
       "      <td>Unknown</td>\n",
       "      <td>SUPPORTIVE_CARE</td>\n",
       "      <td>Unknown</td>\n",
       "    </tr>\n",
       "  </tbody>\n",
       "</table>\n",
       "</div>"
      ],
      "text/plain": [
       "       Study Status                                      Brief Summary  \\\n",
       "211241    COMPLETED  The purpose of this study is to compare oxidat...   \n",
       "134970    COMPLETED  Obsessional compulsive disorder (OCD) is a ver...   \n",
       "88399    TERMINATED  Metabolic syndrome and hyperuricemia were both...   \n",
       "197115    COMPLETED  Clinical management of cochlear implant (CI) r...   \n",
       "30457     COMPLETED  This prospective, randomized study,control stu...   \n",
       "\n",
       "       Study Results                                         Conditions  \\\n",
       "211241           YES                                     HIV Infections   \n",
       "134970            NO                      Obsessive Compulsive Disorder   \n",
       "88399             NO  Hyperuricemia|Metabolic Syndrome|Left Ventricu...   \n",
       "197115           YES  Hearing Loss, Sensorineural|Hearing Loss, Bila...   \n",
       "30457             NO  Laparoscopic Renal Surgery|Pain Management|Ner...   \n",
       "\n",
       "                                            Interventions  \\\n",
       "211241                                                NaN   \n",
       "134970  BEHAVIORAL: Cognitive behavior therapy|BEHAVIO...   \n",
       "88399                      DIAGNOSTIC_TEST: hyperuricemia   \n",
       "197115  DEVICE: Cochlear Implant (CI)-CI500 series, CI...   \n",
       "30457   PROCEDURE: single-injection QLB(quadratus lumb...   \n",
       "\n",
       "                                 Primary Outcome Measures  \\\n",
       "211241  Total Glutathione, The total glutathione conte...   \n",
       "134970  Yale-Brown Obsessive-Compulsive Scale (Y-BOCS)...   \n",
       "88399   Left ventricle diastolic dysfunction with elev...   \n",
       "197115  Number of Participants Who While Using the Fin...   \n",
       "30457   cumulative morphine consumption, within 48 pos...   \n",
       "\n",
       "                               Secondary Outcome Measures  \\\n",
       "211241  Catalase Activity, Antioxidant activity of the...   \n",
       "134970  Vancouver Obsessional Compulsive Inventory (VO...   \n",
       "88399   high-sensitivity C-reactive protein, determine...   \n",
       "197115                                                NaN   \n",
       "30457   The pain scores determined by the numeric rati...   \n",
       "\n",
       "                                                  Sponsor  Sex  \\\n",
       "211241               Hospital de Clinicas de Porto Alegre  ALL   \n",
       "134970  Centre de Recherche de l'Institut Universitair...  ALL   \n",
       "88399             National Defense Medical Center, Taiwan  ALL   \n",
       "197115                                           Cochlear  ALL   \n",
       "30457                                           Cui Xulei  ALL   \n",
       "\n",
       "                              Age Funder Type   Phases  Enrollment  \\\n",
       "211241                      ADULT       OTHER  Unknown        5.29   \n",
       "134970         ADULT, OLDER_ADULT       OTHER  Unknown       10.54   \n",
       "88399          ADULT, OLDER_ADULT       OTHER  Unknown        8.19   \n",
       "197115         ADULT, OLDER_ADULT    INDUSTRY  Unknown        3.87   \n",
       "30457   CHILD, ADULT, OLDER_ADULT       OTHER  Unknown        5.48   \n",
       "\n",
       "            Study Type  Allocation Intervention Model  \\\n",
       "211241   OBSERVATIONAL     Unknown            Unknown   \n",
       "134970  INTERVENTIONAL  RANDOMIZED           PARALLEL   \n",
       "88399    OBSERVATIONAL     Unknown            Unknown   \n",
       "197115  INTERVENTIONAL          NA       SINGLE_GROUP   \n",
       "30457   INTERVENTIONAL  RANDOMIZED           PARALLEL   \n",
       "\n",
       "                                         Masking Observational Model  \\\n",
       "211241                                   Unknown                       \n",
       "134970                SINGLE (OUTCOMES_ASSESSOR)             Unknown   \n",
       "88399                                    Unknown                       \n",
       "197115                                      NONE             Unknown   \n",
       "30457   DOUBLE (INVESTIGATOR, OUTCOMES_ASSESSOR)             Unknown   \n",
       "\n",
       "        Primary Purpose Time Perspective  \n",
       "211241          Unknown                p  \n",
       "134970        TREATMENT          Unknown  \n",
       "88399           Unknown                p  \n",
       "197115  SUPPORTIVE_CARE          Unknown  \n",
       "30457   SUPPORTIVE_CARE          Unknown  "
      ]
     },
     "execution_count": 36,
     "metadata": {},
     "output_type": "execute_result"
    }
   ],
   "source": [
    "balanced_data.head()"
   ]
  },
  {
   "cell_type": "code",
   "execution_count": 37,
   "metadata": {
    "execution": {
     "iopub.execute_input": "2025-09-19T17:37:08.362445Z",
     "iopub.status.busy": "2025-09-19T17:37:08.362234Z",
     "iopub.status.idle": "2025-09-19T17:37:08.439977Z",
     "shell.execute_reply": "2025-09-19T17:37:08.439112Z",
     "shell.execute_reply.started": "2025-09-19T17:37:08.362426Z"
    }
   },
   "outputs": [
    {
     "name": "stdout",
     "output_type": "stream",
     "text": [
      "Value counts for 'Allocation':\n",
      "Allocation\n",
      "RANDOMIZED        73935\n",
      "NA                27579\n",
      "NON_RANDOMIZED    15344\n",
      "Unknown            9653\n",
      "                   2148\n",
      "Name: count, dtype: int64\n",
      "\n",
      "Value counts for 'Intervention Model':\n",
      "Intervention Model\n",
      "PARALLEL        62535\n",
      "SINGLE_GROUP    36952\n",
      "CROSSOVER       12797\n",
      "Unknown          9653\n",
      "SEQUENTIAL       3180\n",
      "                 2313\n",
      "FACTORIAL        1229\n",
      "Name: count, dtype: int64\n",
      "\n",
      "Value counts for 'Masking':\n",
      "Masking\n",
      "NONE                                                                       65899\n",
      "QUADRUPLE (PARTICIPANT, CARE_PROVIDER, INVESTIGATOR, OUTCOMES_ASSESSOR)    14239\n",
      "DOUBLE (PARTICIPANT, INVESTIGATOR)                                         10540\n",
      "Unknown                                                                     9653\n",
      "SINGLE (PARTICIPANT)                                                        4720\n",
      "TRIPLE (PARTICIPANT, CARE_PROVIDER, INVESTIGATOR)                           4392\n",
      "SINGLE (OUTCOMES_ASSESSOR)                                                  4311\n",
      "TRIPLE (PARTICIPANT, INVESTIGATOR, OUTCOMES_ASSESSOR)                       3396\n",
      "DOUBLE                                                                      2819\n",
      "DOUBLE (PARTICIPANT, OUTCOMES_ASSESSOR)                                     1987\n",
      "                                                                            1822\n",
      "SINGLE (INVESTIGATOR)                                                       1449\n",
      "DOUBLE (PARTICIPANT, CARE_PROVIDER)                                          949\n",
      "TRIPLE (PARTICIPANT, CARE_PROVIDER, OUTCOMES_ASSESSOR)                       707\n",
      "DOUBLE (INVESTIGATOR, OUTCOMES_ASSESSOR)                                     704\n",
      "SINGLE                                                                       485\n",
      "SINGLE (CARE_PROVIDER)                                                       197\n",
      "TRIPLE (CARE_PROVIDER, INVESTIGATOR, OUTCOMES_ASSESSOR)                      175\n",
      "DOUBLE (CARE_PROVIDER, OUTCOMES_ASSESSOR)                                    112\n",
      "DOUBLE (CARE_PROVIDER, INVESTIGATOR)                                         103\n",
      "Name: count, dtype: int64\n",
      "\n",
      "Value counts for 'Observational Model':\n",
      "Observational Model\n",
      "Unknown    119006\n",
      "             9653\n",
      "Name: count, dtype: int64\n",
      "\n",
      "Value counts for 'Primary Purpose':\n",
      "Primary Purpose\n",
      "TREATMENT                   86531\n",
      "PREVENTION                   9675\n",
      "Unknown                      9653\n",
      "BASIC_SCIENCE                6149\n",
      "OTHER                        4915\n",
      "SUPPORTIVE_CARE              3784\n",
      "DIAGNOSTIC                   3364\n",
      "                             2676\n",
      "HEALTH_SERVICES_RESEARCH     1255\n",
      "SCREENING                     456\n",
      "DEVICE_FEASIBILITY            171\n",
      "ECT                            30\n",
      "Name: count, dtype: int64\n",
      "\n",
      "Value counts for 'Time Perspective':\n",
      "Time Perspective\n",
      "Unknown    119006\n",
      "p            9653\n",
      "Name: count, dtype: int64\n",
      "\n"
     ]
    }
   ],
   "source": [
    "# List of columns for which you want value counts\n",
    "columns_to_analyze = [\n",
    "    \"Allocation\", \n",
    "    \"Intervention Model\", \n",
    "    \"Masking\", \n",
    "    \"Observational Model\", \n",
    "    \"Primary Purpose\", \n",
    "    \"Time Perspective\"\n",
    "]\n",
    "\n",
    "# Apply value_counts to each column and display the results\n",
    "value_counts_per_column = {col: balanced_data[col].value_counts() for col in columns_to_analyze}\n",
    "\n",
    "# Display the value counts for each column\n",
    "for col, counts in value_counts_per_column.items():\n",
    "    print(f\"Value counts for '{col}':\\n{counts}\\n\")\n"
   ]
  },
  {
   "cell_type": "code",
   "execution_count": 38,
   "metadata": {
    "execution": {
     "iopub.execute_input": "2025-09-19T17:37:08.441125Z",
     "iopub.status.busy": "2025-09-19T17:37:08.440830Z",
     "iopub.status.idle": "2025-09-19T17:37:08.473672Z",
     "shell.execute_reply": "2025-09-19T17:37:08.472732Z",
     "shell.execute_reply.started": "2025-09-19T17:37:08.441095Z"
    }
   },
   "outputs": [],
   "source": [
    "balanced_data = balanced_data.drop(columns=['Sponsor', 'Observational Model', 'Time Perspective'])"
   ]
  },
  {
   "cell_type": "code",
   "execution_count": 39,
   "metadata": {
    "execution": {
     "iopub.execute_input": "2025-09-19T17:37:08.474862Z",
     "iopub.status.busy": "2025-09-19T17:37:08.474621Z",
     "iopub.status.idle": "2025-09-19T17:37:12.557283Z",
     "shell.execute_reply": "2025-09-19T17:37:12.556393Z",
     "shell.execute_reply.started": "2025-09-19T17:37:08.474842Z"
    }
   },
   "outputs": [
    {
     "data": {
      "text/plain": [
       "<Axes: >"
      ]
     },
     "execution_count": 39,
     "metadata": {},
     "output_type": "execute_result"
    },
    {
     "data": {
      "image/png": "[encoded data removed]",
      "text/plain": [
       "<Figure size 640x480 with 1 Axes>"
      ]
     },
     "metadata": {},
     "output_type": "display_data"
    }
   ],
   "source": [
    "import seaborn as sns\n",
    "sns.heatmap(novartis_data_copy.isnull(),yticklabels=False,cbar=False,cmap='viridis')"
   ]
  },
  {
   "cell_type": "code",
   "execution_count": 40,
   "metadata": {
    "execution": {
     "iopub.execute_input": "2025-09-19T17:37:12.558442Z",
     "iopub.status.busy": "2025-09-19T17:37:12.558124Z",
     "iopub.status.idle": "2025-09-19T17:37:12.634881Z",
     "shell.execute_reply": "2025-09-19T17:37:12.633937Z",
     "shell.execute_reply.started": "2025-09-19T17:37:12.558409Z"
    }
   },
   "outputs": [],
   "source": [
    "# filling the missing values of remaining textual columns with \"No info provided\"\n",
    "\n",
    "import pandas as pd\n",
    "\n",
    "# Replace missing values in textual columns with a placeholder\n",
    "placeholder_text = \"No information provided\"\n",
    "\n",
    "balanced_data['Interventions'] = balanced_data['Interventions'].fillna(placeholder_text)\n",
    "balanced_data['Primary Outcome Measures'] = balanced_data['Primary Outcome Measures'].fillna(placeholder_text)\n",
    "balanced_data['Secondary Outcome Measures'] = balanced_data['Secondary Outcome Measures'].fillna(placeholder_text)"
   ]
  },
  {
   "cell_type": "code",
   "execution_count": 41,
   "metadata": {
    "execution": {
     "iopub.execute_input": "2025-09-19T17:37:12.636151Z",
     "iopub.status.busy": "2025-09-19T17:37:12.635825Z",
     "iopub.status.idle": "2025-09-19T17:37:15.449950Z",
     "shell.execute_reply": "2025-09-19T17:37:15.449046Z",
     "shell.execute_reply.started": "2025-09-19T17:37:12.636117Z"
    }
   },
   "outputs": [
    {
     "data": {
      "text/plain": [
       "<Axes: >"
      ]
     },
     "execution_count": 41,
     "metadata": {},
     "output_type": "execute_result"
    },
    {
     "data": {
      "image/png": "[encoded data removed]",
      "text/plain": [
       "<Figure size 640x480 with 1 Axes>"
      ]
     },
     "metadata": {},
     "output_type": "display_data"
    }
   ],
   "source": [
    "import seaborn as sns\n",
    "sns.heatmap(balanced_data.isnull(),yticklabels=False,cbar=False,cmap='viridis')"
   ]
  },
  {
   "cell_type": "code",
   "execution_count": 42,
   "metadata": {
    "execution": {
     "iopub.execute_input": "2025-09-19T17:37:15.451180Z",
     "iopub.status.busy": "2025-09-19T17:37:15.450871Z",
     "iopub.status.idle": "2025-09-19T17:37:15.465260Z",
     "shell.execute_reply": "2025-09-19T17:37:15.464231Z",
     "shell.execute_reply.started": "2025-09-19T17:37:15.451157Z"
    }
   },
   "outputs": [
    {
     "data": {
      "text/html": [
       "<div>\n",
       "<style scoped>\n",
       "    .dataframe tbody tr th:only-of-type {\n",
       "        vertical-align: middle;\n",
       "    }\n",
       "\n",
       "    .dataframe tbody tr th {\n",
       "        vertical-align: top;\n",
       "    }\n",
       "\n",
       "    .dataframe thead th {\n",
       "        text-align: right;\n",
       "    }\n",
       "</style>\n",
       "<table border=\"1\" class=\"dataframe\">\n",
       "  <thead>\n",
       "    <tr style=\"text-align: right;\">\n",
       "      <th></th>\n",
       "      <th>Study Status</th>\n",
       "      <th>Brief Summary</th>\n",
       "      <th>Study Results</th>\n",
       "      <th>Conditions</th>\n",
       "      <th>Interventions</th>\n",
       "      <th>Primary Outcome Measures</th>\n",
       "      <th>Secondary Outcome Measures</th>\n",
       "      <th>Sex</th>\n",
       "      <th>Age</th>\n",
       "      <th>Funder Type</th>\n",
       "      <th>Phases</th>\n",
       "      <th>Enrollment</th>\n",
       "      <th>Study Type</th>\n",
       "      <th>Allocation</th>\n",
       "      <th>Intervention Model</th>\n",
       "      <th>Masking</th>\n",
       "      <th>Primary Purpose</th>\n",
       "    </tr>\n",
       "  </thead>\n",
       "  <tbody>\n",
       "    <tr>\n",
       "      <th>211241</th>\n",
       "      <td>COMPLETED</td>\n",
       "      <td>The purpose of this study is to compare oxidat...</td>\n",
       "      <td>YES</td>\n",
       "      <td>HIV Infections</td>\n",
       "      <td>No information provided</td>\n",
       "      <td>Total Glutathione, The total glutathione conte...</td>\n",
       "      <td>Catalase Activity, Antioxidant activity of the...</td>\n",
       "      <td>ALL</td>\n",
       "      <td>ADULT</td>\n",
       "      <td>OTHER</td>\n",
       "      <td>Unknown</td>\n",
       "      <td>5.29</td>\n",
       "      <td>OBSERVATIONAL</td>\n",
       "      <td>Unknown</td>\n",
       "      <td>Unknown</td>\n",
       "      <td>Unknown</td>\n",
       "      <td>Unknown</td>\n",
       "    </tr>\n",
       "    <tr>\n",
       "      <th>134970</th>\n",
       "      <td>COMPLETED</td>\n",
       "      <td>Obsessional compulsive disorder (OCD) is a ver...</td>\n",
       "      <td>NO</td>\n",
       "      <td>Obsessive Compulsive Disorder</td>\n",
       "      <td>BEHAVIORAL: Cognitive behavior therapy|BEHAVIO...</td>\n",
       "      <td>Yale-Brown Obsessive-Compulsive Scale (Y-BOCS)...</td>\n",
       "      <td>Vancouver Obsessional Compulsive Inventory (VO...</td>\n",
       "      <td>ALL</td>\n",
       "      <td>ADULT, OLDER_ADULT</td>\n",
       "      <td>OTHER</td>\n",
       "      <td>Unknown</td>\n",
       "      <td>10.54</td>\n",
       "      <td>INTERVENTIONAL</td>\n",
       "      <td>RANDOMIZED</td>\n",
       "      <td>PARALLEL</td>\n",
       "      <td>SINGLE (OUTCOMES_ASSESSOR)</td>\n",
       "      <td>TREATMENT</td>\n",
       "    </tr>\n",
       "    <tr>\n",
       "      <th>88399</th>\n",
       "      <td>TERMINATED</td>\n",
       "      <td>Metabolic syndrome and hyperuricemia were both...</td>\n",
       "      <td>NO</td>\n",
       "      <td>Hyperuricemia|Metabolic Syndrome|Left Ventricu...</td>\n",
       "      <td>DIAGNOSTIC_TEST: hyperuricemia</td>\n",
       "      <td>Left ventricle diastolic dysfunction with elev...</td>\n",
       "      <td>high-sensitivity C-reactive protein, determine...</td>\n",
       "      <td>ALL</td>\n",
       "      <td>ADULT, OLDER_ADULT</td>\n",
       "      <td>OTHER</td>\n",
       "      <td>Unknown</td>\n",
       "      <td>8.19</td>\n",
       "      <td>OBSERVATIONAL</td>\n",
       "      <td>Unknown</td>\n",
       "      <td>Unknown</td>\n",
       "      <td>Unknown</td>\n",
       "      <td>Unknown</td>\n",
       "    </tr>\n",
       "    <tr>\n",
       "      <th>197115</th>\n",
       "      <td>COMPLETED</td>\n",
       "      <td>Clinical management of cochlear implant (CI) r...</td>\n",
       "      <td>YES</td>\n",
       "      <td>Hearing Loss, Sensorineural|Hearing Loss, Bila...</td>\n",
       "      <td>DEVICE: Cochlear Implant (CI)-CI500 series, CI...</td>\n",
       "      <td>Number of Participants Who While Using the Fin...</td>\n",
       "      <td>No information provided</td>\n",
       "      <td>ALL</td>\n",
       "      <td>ADULT, OLDER_ADULT</td>\n",
       "      <td>INDUSTRY</td>\n",
       "      <td>Unknown</td>\n",
       "      <td>3.87</td>\n",
       "      <td>INTERVENTIONAL</td>\n",
       "      <td>NA</td>\n",
       "      <td>SINGLE_GROUP</td>\n",
       "      <td>NONE</td>\n",
       "      <td>SUPPORTIVE_CARE</td>\n",
       "    </tr>\n",
       "    <tr>\n",
       "      <th>30457</th>\n",
       "      <td>COMPLETED</td>\n",
       "      <td>This prospective, randomized study,control stu...</td>\n",
       "      <td>NO</td>\n",
       "      <td>Laparoscopic Renal Surgery|Pain Management|Ner...</td>\n",
       "      <td>PROCEDURE: single-injection QLB(quadratus lumb...</td>\n",
       "      <td>cumulative morphine consumption, within 48 pos...</td>\n",
       "      <td>The pain scores determined by the numeric rati...</td>\n",
       "      <td>ALL</td>\n",
       "      <td>CHILD, ADULT, OLDER_ADULT</td>\n",
       "      <td>OTHER</td>\n",
       "      <td>Unknown</td>\n",
       "      <td>5.48</td>\n",
       "      <td>INTERVENTIONAL</td>\n",
       "      <td>RANDOMIZED</td>\n",
       "      <td>PARALLEL</td>\n",
       "      <td>DOUBLE (INVESTIGATOR, OUTCOMES_ASSESSOR)</td>\n",
       "      <td>SUPPORTIVE_CARE</td>\n",
       "    </tr>\n",
       "  </tbody>\n",
       "</table>\n",
       "</div>"
      ],
      "text/plain": [
       "       Study Status                                      Brief Summary  \\\n",
       "211241    COMPLETED  The purpose of this study is to compare oxidat...   \n",
       "134970    COMPLETED  Obsessional compulsive disorder (OCD) is a ver...   \n",
       "88399    TERMINATED  Metabolic syndrome and hyperuricemia were both...   \n",
       "197115    COMPLETED  Clinical management of cochlear implant (CI) r...   \n",
       "30457     COMPLETED  This prospective, randomized study,control stu...   \n",
       "\n",
       "       Study Results                                         Conditions  \\\n",
       "211241           YES                                     HIV Infections   \n",
       "134970            NO                      Obsessive Compulsive Disorder   \n",
       "88399             NO  Hyperuricemia|Metabolic Syndrome|Left Ventricu...   \n",
       "197115           YES  Hearing Loss, Sensorineural|Hearing Loss, Bila...   \n",
       "30457             NO  Laparoscopic Renal Surgery|Pain Management|Ner...   \n",
       "\n",
       "                                            Interventions  \\\n",
       "211241                            No information provided   \n",
       "134970  BEHAVIORAL: Cognitive behavior therapy|BEHAVIO...   \n",
       "88399                      DIAGNOSTIC_TEST: hyperuricemia   \n",
       "197115  DEVICE: Cochlear Implant (CI)-CI500 series, CI...   \n",
       "30457   PROCEDURE: single-injection QLB(quadratus lumb...   \n",
       "\n",
       "                                 Primary Outcome Measures  \\\n",
       "211241  Total Glutathione, The total glutathione conte...   \n",
       "134970  Yale-Brown Obsessive-Compulsive Scale (Y-BOCS)...   \n",
       "88399   Left ventricle diastolic dysfunction with elev...   \n",
       "197115  Number of Participants Who While Using the Fin...   \n",
       "30457   cumulative morphine consumption, within 48 pos...   \n",
       "\n",
       "                               Secondary Outcome Measures  Sex  \\\n",
       "211241  Catalase Activity, Antioxidant activity of the...  ALL   \n",
       "134970  Vancouver Obsessional Compulsive Inventory (VO...  ALL   \n",
       "88399   high-sensitivity C-reactive protein, determine...  ALL   \n",
       "197115                            No information provided  ALL   \n",
       "30457   The pain scores determined by the numeric rati...  ALL   \n",
       "\n",
       "                              Age Funder Type   Phases  Enrollment  \\\n",
       "211241                      ADULT       OTHER  Unknown        5.29   \n",
       "134970         ADULT, OLDER_ADULT       OTHER  Unknown       10.54   \n",
       "88399          ADULT, OLDER_ADULT       OTHER  Unknown        8.19   \n",
       "197115         ADULT, OLDER_ADULT    INDUSTRY  Unknown        3.87   \n",
       "30457   CHILD, ADULT, OLDER_ADULT       OTHER  Unknown        5.48   \n",
       "\n",
       "            Study Type  Allocation Intervention Model  \\\n",
       "211241   OBSERVATIONAL     Unknown            Unknown   \n",
       "134970  INTERVENTIONAL  RANDOMIZED           PARALLEL   \n",
       "88399    OBSERVATIONAL     Unknown            Unknown   \n",
       "197115  INTERVENTIONAL          NA       SINGLE_GROUP   \n",
       "30457   INTERVENTIONAL  RANDOMIZED           PARALLEL   \n",
       "\n",
       "                                         Masking  Primary Purpose  \n",
       "211241                                   Unknown          Unknown  \n",
       "134970                SINGLE (OUTCOMES_ASSESSOR)        TREATMENT  \n",
       "88399                                    Unknown          Unknown  \n",
       "197115                                      NONE  SUPPORTIVE_CARE  \n",
       "30457   DOUBLE (INVESTIGATOR, OUTCOMES_ASSESSOR)  SUPPORTIVE_CARE  "
      ]
     },
     "execution_count": 42,
     "metadata": {},
     "output_type": "execute_result"
    }
   ],
   "source": [
    "balanced_data.head()"
   ]
  },
  {
   "cell_type": "markdown",
   "metadata": {},
   "source": [
    "**Saving the preprocessed data into a dataframe**"
   ]
  },
  {
   "cell_type": "code",
   "execution_count": 43,
   "metadata": {
    "execution": {
     "iopub.execute_input": "2025-09-19T17:37:15.466544Z",
     "iopub.status.busy": "2025-09-19T17:37:15.466232Z",
     "iopub.status.idle": "2025-09-19T17:37:24.235834Z",
     "shell.execute_reply": "2025-09-19T17:37:24.234861Z",
     "shell.execute_reply.started": "2025-09-19T17:37:15.466513Z"
    }
   },
   "outputs": [],
   "source": [
    "balanced_data.to_csv(\"Pre-processed Data.csv\")\n",
    "balanced_data.to_parquet(\"Pre-processed Data.parquet\")"
   ]
  },
  {
   "cell_type": "markdown",
   "metadata": {},
   "source": [
    "### **Handling Numerical + Categorical Columns**"
   ]
  },
  {
   "cell_type": "markdown",
   "metadata": {},
   "source": [
    "**Now, we will be dealing with categorical columns only to train rf classifier later, so removing the textual columns as of now (will be dealing with them in the later half of the code)**"
   ]
  },
  {
   "cell_type": "code",
   "execution_count": 44,
   "metadata": {
    "execution": {
     "iopub.execute_input": "2025-09-19T17:37:24.237115Z",
     "iopub.status.busy": "2025-09-19T17:37:24.236871Z",
     "iopub.status.idle": "2025-09-19T17:37:24.255630Z",
     "shell.execute_reply": "2025-09-19T17:37:24.254898Z",
     "shell.execute_reply.started": "2025-09-19T17:37:24.237094Z"
    }
   },
   "outputs": [],
   "source": [
    "Non_textual_data = balanced_data.drop(columns=['Brief Summary', 'Conditions', 'Interventions', 'Primary Outcome Measures', 'Secondary Outcome Measures'])"
   ]
  },
  {
   "cell_type": "code",
   "execution_count": 45,
   "metadata": {
    "execution": {
     "iopub.execute_input": "2025-09-19T17:37:24.256986Z",
     "iopub.status.busy": "2025-09-19T17:37:24.256646Z",
     "iopub.status.idle": "2025-09-19T17:37:24.270145Z",
     "shell.execute_reply": "2025-09-19T17:37:24.269071Z",
     "shell.execute_reply.started": "2025-09-19T17:37:24.256953Z"
    }
   },
   "outputs": [
    {
     "data": {
      "text/html": [
       "<div>\n",
       "<style scoped>\n",
       "    .dataframe tbody tr th:only-of-type {\n",
       "        vertical-align: middle;\n",
       "    }\n",
       "\n",
       "    .dataframe tbody tr th {\n",
       "        vertical-align: top;\n",
       "    }\n",
       "\n",
       "    .dataframe thead th {\n",
       "        text-align: right;\n",
       "    }\n",
       "</style>\n",
       "<table border=\"1\" class=\"dataframe\">\n",
       "  <thead>\n",
       "    <tr style=\"text-align: right;\">\n",
       "      <th></th>\n",
       "      <th>Study Status</th>\n",
       "      <th>Study Results</th>\n",
       "      <th>Sex</th>\n",
       "      <th>Age</th>\n",
       "      <th>Funder Type</th>\n",
       "      <th>Phases</th>\n",
       "      <th>Enrollment</th>\n",
       "      <th>Study Type</th>\n",
       "      <th>Allocation</th>\n",
       "      <th>Intervention Model</th>\n",
       "      <th>Masking</th>\n",
       "      <th>Primary Purpose</th>\n",
       "    </tr>\n",
       "  </thead>\n",
       "  <tbody>\n",
       "    <tr>\n",
       "      <th>211241</th>\n",
       "      <td>COMPLETED</td>\n",
       "      <td>YES</td>\n",
       "      <td>ALL</td>\n",
       "      <td>ADULT</td>\n",
       "      <td>OTHER</td>\n",
       "      <td>Unknown</td>\n",
       "      <td>5.29</td>\n",
       "      <td>OBSERVATIONAL</td>\n",
       "      <td>Unknown</td>\n",
       "      <td>Unknown</td>\n",
       "      <td>Unknown</td>\n",
       "      <td>Unknown</td>\n",
       "    </tr>\n",
       "    <tr>\n",
       "      <th>134970</th>\n",
       "      <td>COMPLETED</td>\n",
       "      <td>NO</td>\n",
       "      <td>ALL</td>\n",
       "      <td>ADULT, OLDER_ADULT</td>\n",
       "      <td>OTHER</td>\n",
       "      <td>Unknown</td>\n",
       "      <td>10.54</td>\n",
       "      <td>INTERVENTIONAL</td>\n",
       "      <td>RANDOMIZED</td>\n",
       "      <td>PARALLEL</td>\n",
       "      <td>SINGLE (OUTCOMES_ASSESSOR)</td>\n",
       "      <td>TREATMENT</td>\n",
       "    </tr>\n",
       "    <tr>\n",
       "      <th>88399</th>\n",
       "      <td>TERMINATED</td>\n",
       "      <td>NO</td>\n",
       "      <td>ALL</td>\n",
       "      <td>ADULT, OLDER_ADULT</td>\n",
       "      <td>OTHER</td>\n",
       "      <td>Unknown</td>\n",
       "      <td>8.19</td>\n",
       "      <td>OBSERVATIONAL</td>\n",
       "      <td>Unknown</td>\n",
       "      <td>Unknown</td>\n",
       "      <td>Unknown</td>\n",
       "      <td>Unknown</td>\n",
       "    </tr>\n",
       "    <tr>\n",
       "      <th>197115</th>\n",
       "      <td>COMPLETED</td>\n",
       "      <td>YES</td>\n",
       "      <td>ALL</td>\n",
       "      <td>ADULT, OLDER_ADULT</td>\n",
       "      <td>INDUSTRY</td>\n",
       "      <td>Unknown</td>\n",
       "      <td>3.87</td>\n",
       "      <td>INTERVENTIONAL</td>\n",
       "      <td>NA</td>\n",
       "      <td>SINGLE_GROUP</td>\n",
       "      <td>NONE</td>\n",
       "      <td>SUPPORTIVE_CARE</td>\n",
       "    </tr>\n",
       "    <tr>\n",
       "      <th>30457</th>\n",
       "      <td>COMPLETED</td>\n",
       "      <td>NO</td>\n",
       "      <td>ALL</td>\n",
       "      <td>CHILD, ADULT, OLDER_ADULT</td>\n",
       "      <td>OTHER</td>\n",
       "      <td>Unknown</td>\n",
       "      <td>5.48</td>\n",
       "      <td>INTERVENTIONAL</td>\n",
       "      <td>RANDOMIZED</td>\n",
       "      <td>PARALLEL</td>\n",
       "      <td>DOUBLE (INVESTIGATOR, OUTCOMES_ASSESSOR)</td>\n",
       "      <td>SUPPORTIVE_CARE</td>\n",
       "    </tr>\n",
       "  </tbody>\n",
       "</table>\n",
       "</div>"
      ],
      "text/plain": [
       "       Study Status Study Results  Sex                        Age Funder Type  \\\n",
       "211241    COMPLETED           YES  ALL                      ADULT       OTHER   \n",
       "134970    COMPLETED            NO  ALL         ADULT, OLDER_ADULT       OTHER   \n",
       "88399    TERMINATED            NO  ALL         ADULT, OLDER_ADULT       OTHER   \n",
       "197115    COMPLETED           YES  ALL         ADULT, OLDER_ADULT    INDUSTRY   \n",
       "30457     COMPLETED            NO  ALL  CHILD, ADULT, OLDER_ADULT       OTHER   \n",
       "\n",
       "         Phases  Enrollment      Study Type  Allocation Intervention Model  \\\n",
       "211241  Unknown        5.29   OBSERVATIONAL     Unknown            Unknown   \n",
       "134970  Unknown       10.54  INTERVENTIONAL  RANDOMIZED           PARALLEL   \n",
       "88399   Unknown        8.19   OBSERVATIONAL     Unknown            Unknown   \n",
       "197115  Unknown        3.87  INTERVENTIONAL          NA       SINGLE_GROUP   \n",
       "30457   Unknown        5.48  INTERVENTIONAL  RANDOMIZED           PARALLEL   \n",
       "\n",
       "                                         Masking  Primary Purpose  \n",
       "211241                                   Unknown          Unknown  \n",
       "134970                SINGLE (OUTCOMES_ASSESSOR)        TREATMENT  \n",
       "88399                                    Unknown          Unknown  \n",
       "197115                                      NONE  SUPPORTIVE_CARE  \n",
       "30457   DOUBLE (INVESTIGATOR, OUTCOMES_ASSESSOR)  SUPPORTIVE_CARE  "
      ]
     },
     "execution_count": 45,
     "metadata": {},
     "output_type": "execute_result"
    }
   ],
   "source": [
    "Non_textual_data.head()"
   ]
  },
  {
   "cell_type": "code",
   "execution_count": 46,
   "metadata": {
    "execution": {
     "iopub.execute_input": "2025-09-19T17:37:24.271415Z",
     "iopub.status.busy": "2025-09-19T17:37:24.271101Z",
     "iopub.status.idle": "2025-09-19T17:37:24.495512Z",
     "shell.execute_reply": "2025-09-19T17:37:24.494762Z",
     "shell.execute_reply.started": "2025-09-19T17:37:24.271385Z"
    }
   },
   "outputs": [],
   "source": [
    "# List of columns to clean\n",
    "columns_to_clean = ['Allocation', 'Intervention Model', 'Masking', 'Primary Purpose']\n",
    "\n",
    "# Replace values in each column\n",
    "for col in columns_to_clean:\n",
    "    Non_textual_data[col] = Non_textual_data[col].replace(['Unknown', 'NA', '', ' '], 'Unknown')  # Replace known 'unknown' values\n",
    "    Non_textual_data[col] = Non_textual_data[col].fillna('Unknown')  # Replace actual NaN with 'Unknown'"
   ]
  },
  {
   "cell_type": "code",
   "execution_count": 47,
   "metadata": {
    "execution": {
     "iopub.execute_input": "2025-09-19T17:37:24.496602Z",
     "iopub.status.busy": "2025-09-19T17:37:24.496354Z",
     "iopub.status.idle": "2025-09-19T17:37:24.508524Z",
     "shell.execute_reply": "2025-09-19T17:37:24.507482Z",
     "shell.execute_reply.started": "2025-09-19T17:37:24.496581Z"
    }
   },
   "outputs": [
    {
     "data": {
      "text/html": [
       "<div>\n",
       "<style scoped>\n",
       "    .dataframe tbody tr th:only-of-type {\n",
       "        vertical-align: middle;\n",
       "    }\n",
       "\n",
       "    .dataframe tbody tr th {\n",
       "        vertical-align: top;\n",
       "    }\n",
       "\n",
       "    .dataframe thead th {\n",
       "        text-align: right;\n",
       "    }\n",
       "</style>\n",
       "<table border=\"1\" class=\"dataframe\">\n",
       "  <thead>\n",
       "    <tr style=\"text-align: right;\">\n",
       "      <th></th>\n",
       "      <th>Study Status</th>\n",
       "      <th>Study Results</th>\n",
       "      <th>Sex</th>\n",
       "      <th>Age</th>\n",
       "      <th>Funder Type</th>\n",
       "      <th>Phases</th>\n",
       "      <th>Enrollment</th>\n",
       "      <th>Study Type</th>\n",
       "      <th>Allocation</th>\n",
       "      <th>Intervention Model</th>\n",
       "      <th>Masking</th>\n",
       "      <th>Primary Purpose</th>\n",
       "    </tr>\n",
       "  </thead>\n",
       "  <tbody>\n",
       "    <tr>\n",
       "      <th>211241</th>\n",
       "      <td>COMPLETED</td>\n",
       "      <td>YES</td>\n",
       "      <td>ALL</td>\n",
       "      <td>ADULT</td>\n",
       "      <td>OTHER</td>\n",
       "      <td>Unknown</td>\n",
       "      <td>5.29</td>\n",
       "      <td>OBSERVATIONAL</td>\n",
       "      <td>Unknown</td>\n",
       "      <td>Unknown</td>\n",
       "      <td>Unknown</td>\n",
       "      <td>Unknown</td>\n",
       "    </tr>\n",
       "    <tr>\n",
       "      <th>134970</th>\n",
       "      <td>COMPLETED</td>\n",
       "      <td>NO</td>\n",
       "      <td>ALL</td>\n",
       "      <td>ADULT, OLDER_ADULT</td>\n",
       "      <td>OTHER</td>\n",
       "      <td>Unknown</td>\n",
       "      <td>10.54</td>\n",
       "      <td>INTERVENTIONAL</td>\n",
       "      <td>RANDOMIZED</td>\n",
       "      <td>PARALLEL</td>\n",
       "      <td>SINGLE (OUTCOMES_ASSESSOR)</td>\n",
       "      <td>TREATMENT</td>\n",
       "    </tr>\n",
       "    <tr>\n",
       "      <th>88399</th>\n",
       "      <td>TERMINATED</td>\n",
       "      <td>NO</td>\n",
       "      <td>ALL</td>\n",
       "      <td>ADULT, OLDER_ADULT</td>\n",
       "      <td>OTHER</td>\n",
       "      <td>Unknown</td>\n",
       "      <td>8.19</td>\n",
       "      <td>OBSERVATIONAL</td>\n",
       "      <td>Unknown</td>\n",
       "      <td>Unknown</td>\n",
       "      <td>Unknown</td>\n",
       "      <td>Unknown</td>\n",
       "    </tr>\n",
       "    <tr>\n",
       "      <th>197115</th>\n",
       "      <td>COMPLETED</td>\n",
       "      <td>YES</td>\n",
       "      <td>ALL</td>\n",
       "      <td>ADULT, OLDER_ADULT</td>\n",
       "      <td>INDUSTRY</td>\n",
       "      <td>Unknown</td>\n",
       "      <td>3.87</td>\n",
       "      <td>INTERVENTIONAL</td>\n",
       "      <td>Unknown</td>\n",
       "      <td>SINGLE_GROUP</td>\n",
       "      <td>NONE</td>\n",
       "      <td>SUPPORTIVE_CARE</td>\n",
       "    </tr>\n",
       "    <tr>\n",
       "      <th>30457</th>\n",
       "      <td>COMPLETED</td>\n",
       "      <td>NO</td>\n",
       "      <td>ALL</td>\n",
       "      <td>CHILD, ADULT, OLDER_ADULT</td>\n",
       "      <td>OTHER</td>\n",
       "      <td>Unknown</td>\n",
       "      <td>5.48</td>\n",
       "      <td>INTERVENTIONAL</td>\n",
       "      <td>RANDOMIZED</td>\n",
       "      <td>PARALLEL</td>\n",
       "      <td>DOUBLE (INVESTIGATOR, OUTCOMES_ASSESSOR)</td>\n",
       "      <td>SUPPORTIVE_CARE</td>\n",
       "    </tr>\n",
       "  </tbody>\n",
       "</table>\n",
       "</div>"
      ],
      "text/plain": [
       "       Study Status Study Results  Sex                        Age Funder Type  \\\n",
       "211241    COMPLETED           YES  ALL                      ADULT       OTHER   \n",
       "134970    COMPLETED            NO  ALL         ADULT, OLDER_ADULT       OTHER   \n",
       "88399    TERMINATED            NO  ALL         ADULT, OLDER_ADULT       OTHER   \n",
       "197115    COMPLETED           YES  ALL         ADULT, OLDER_ADULT    INDUSTRY   \n",
       "30457     COMPLETED            NO  ALL  CHILD, ADULT, OLDER_ADULT       OTHER   \n",
       "\n",
       "         Phases  Enrollment      Study Type  Allocation Intervention Model  \\\n",
       "211241  Unknown        5.29   OBSERVATIONAL     Unknown            Unknown   \n",
       "134970  Unknown       10.54  INTERVENTIONAL  RANDOMIZED           PARALLEL   \n",
       "88399   Unknown        8.19   OBSERVATIONAL     Unknown            Unknown   \n",
       "197115  Unknown        3.87  INTERVENTIONAL     Unknown       SINGLE_GROUP   \n",
       "30457   Unknown        5.48  INTERVENTIONAL  RANDOMIZED           PARALLEL   \n",
       "\n",
       "                                         Masking  Primary Purpose  \n",
       "211241                                   Unknown          Unknown  \n",
       "134970                SINGLE (OUTCOMES_ASSESSOR)        TREATMENT  \n",
       "88399                                    Unknown          Unknown  \n",
       "197115                                      NONE  SUPPORTIVE_CARE  \n",
       "30457   DOUBLE (INVESTIGATOR, OUTCOMES_ASSESSOR)  SUPPORTIVE_CARE  "
      ]
     },
     "execution_count": 47,
     "metadata": {},
     "output_type": "execute_result"
    }
   ],
   "source": [
    "Non_textual_data.head()"
   ]
  },
  {
   "cell_type": "code",
   "execution_count": 48,
   "metadata": {
    "execution": {
     "iopub.execute_input": "2025-09-19T17:37:24.509864Z",
     "iopub.status.busy": "2025-09-19T17:37:24.509503Z",
     "iopub.status.idle": "2025-09-19T17:37:24.596290Z",
     "shell.execute_reply": "2025-09-19T17:37:24.595555Z",
     "shell.execute_reply.started": "2025-09-19T17:37:24.509825Z"
    }
   },
   "outputs": [
    {
     "data": {
      "text/plain": [
       "Study Status           0\n",
       "Study Results          0\n",
       "Sex                   93\n",
       "Age                    0\n",
       "Funder Type            0\n",
       "Phases                 0\n",
       "Enrollment             0\n",
       "Study Type             0\n",
       "Allocation             0\n",
       "Intervention Model     0\n",
       "Masking                0\n",
       "Primary Purpose        0\n",
       "dtype: int64"
      ]
     },
     "execution_count": 48,
     "metadata": {},
     "output_type": "execute_result"
    }
   ],
   "source": [
    "Non_textual_data.isnull().sum()"
   ]
  },
  {
   "cell_type": "code",
   "execution_count": 49,
   "metadata": {
    "execution": {
     "iopub.execute_input": "2025-09-19T17:37:24.597342Z",
     "iopub.status.busy": "2025-09-19T17:37:24.597122Z",
     "iopub.status.idle": "2025-09-19T17:37:24.609127Z",
     "shell.execute_reply": "2025-09-19T17:37:24.608293Z",
     "shell.execute_reply.started": "2025-09-19T17:37:24.597323Z"
    }
   },
   "outputs": [],
   "source": [
    "Non_textual_data[\"Sex\"] = Non_textual_data[\"Sex\"].fillna(\"Unknown\")"
   ]
  },
  {
   "cell_type": "code",
   "execution_count": 50,
   "metadata": {
    "execution": {
     "iopub.execute_input": "2025-09-19T17:37:24.610434Z",
     "iopub.status.busy": "2025-09-19T17:37:24.610131Z",
     "iopub.status.idle": "2025-09-19T17:37:24.695179Z",
     "shell.execute_reply": "2025-09-19T17:37:24.694469Z",
     "shell.execute_reply.started": "2025-09-19T17:37:24.610412Z"
    }
   },
   "outputs": [
    {
     "data": {
      "text/plain": [
       "Study Status          0\n",
       "Study Results         0\n",
       "Sex                   0\n",
       "Age                   0\n",
       "Funder Type           0\n",
       "Phases                0\n",
       "Enrollment            0\n",
       "Study Type            0\n",
       "Allocation            0\n",
       "Intervention Model    0\n",
       "Masking               0\n",
       "Primary Purpose       0\n",
       "dtype: int64"
      ]
     },
     "execution_count": 50,
     "metadata": {},
     "output_type": "execute_result"
    }
   ],
   "source": [
    "Non_textual_data.isnull().sum()"
   ]
  },
  {
   "cell_type": "code",
   "execution_count": 51,
   "metadata": {
    "execution": {
     "iopub.execute_input": "2025-09-19T17:37:24.696264Z",
     "iopub.status.busy": "2025-09-19T17:37:24.696019Z",
     "iopub.status.idle": "2025-09-19T17:37:24.710230Z",
     "shell.execute_reply": "2025-09-19T17:37:24.709533Z",
     "shell.execute_reply.started": "2025-09-19T17:37:24.696245Z"
    }
   },
   "outputs": [
    {
     "data": {
      "text/plain": [
       "Study Results\n",
       "NO     95623\n",
       "YES    33036\n",
       "Name: count, dtype: int64"
      ]
     },
     "execution_count": 51,
     "metadata": {},
     "output_type": "execute_result"
    }
   ],
   "source": [
    "Non_textual_data[\"Study Results\"].value_counts()"
   ]
  },
  {
   "cell_type": "code",
   "execution_count": 52,
   "metadata": {
    "execution": {
     "iopub.execute_input": "2025-09-19T17:37:24.711367Z",
     "iopub.status.busy": "2025-09-19T17:37:24.711089Z",
     "iopub.status.idle": "2025-09-19T17:37:24.731060Z",
     "shell.execute_reply": "2025-09-19T17:37:24.730240Z",
     "shell.execute_reply.started": "2025-09-19T17:37:24.711334Z"
    }
   },
   "outputs": [
    {
     "data": {
      "text/plain": [
       "Sex\n",
       "ALL        109920\n",
       "FEMALE      10968\n",
       "MALE         7678\n",
       "Unknown        93\n",
       "Name: count, dtype: int64"
      ]
     },
     "execution_count": 52,
     "metadata": {},
     "output_type": "execute_result"
    }
   ],
   "source": [
    "Non_textual_data[\"Sex\"].value_counts()"
   ]
  },
  {
   "cell_type": "code",
   "execution_count": 53,
   "metadata": {
    "execution": {
     "iopub.execute_input": "2025-09-19T17:37:24.732021Z",
     "iopub.status.busy": "2025-09-19T17:37:24.731835Z",
     "iopub.status.idle": "2025-09-19T17:37:24.750795Z",
     "shell.execute_reply": "2025-09-19T17:37:24.749980Z",
     "shell.execute_reply.started": "2025-09-19T17:37:24.732004Z"
    }
   },
   "outputs": [
    {
     "data": {
      "text/plain": [
       "Age\n",
       "ADULT, OLDER_ADULT           84514\n",
       "ADULT                        22435\n",
       "CHILD, ADULT, OLDER_ADULT     8789\n",
       "CHILD                         6890\n",
       "CHILD, ADULT                  4627\n",
       "OLDER_ADULT                   1404\n",
       "Name: count, dtype: int64"
      ]
     },
     "execution_count": 53,
     "metadata": {},
     "output_type": "execute_result"
    }
   ],
   "source": [
    "Non_textual_data[\"Age\"].value_counts()"
   ]
  },
  {
   "cell_type": "code",
   "execution_count": 54,
   "metadata": {
    "execution": {
     "iopub.execute_input": "2025-09-19T17:37:24.751946Z",
     "iopub.status.busy": "2025-09-19T17:37:24.751740Z",
     "iopub.status.idle": "2025-09-19T17:37:24.772191Z",
     "shell.execute_reply": "2025-09-19T17:37:24.771365Z",
     "shell.execute_reply.started": "2025-09-19T17:37:24.751927Z"
    }
   },
   "outputs": [
    {
     "data": {
      "text/plain": [
       "Study Type\n",
       "INTERVENTIONAL    119006\n",
       "OBSERVATIONAL       9653\n",
       "Name: count, dtype: int64"
      ]
     },
     "execution_count": 54,
     "metadata": {},
     "output_type": "execute_result"
    }
   ],
   "source": [
    "Non_textual_data[\"Study Type\"].value_counts()"
   ]
  },
  {
   "cell_type": "code",
   "execution_count": 55,
   "metadata": {
    "execution": {
     "iopub.execute_input": "2025-09-19T17:37:24.773233Z",
     "iopub.status.busy": "2025-09-19T17:37:24.773031Z",
     "iopub.status.idle": "2025-09-19T17:37:24.792543Z",
     "shell.execute_reply": "2025-09-19T17:37:24.791747Z",
     "shell.execute_reply.started": "2025-09-19T17:37:24.773216Z"
    }
   },
   "outputs": [
    {
     "data": {
      "text/plain": [
       "Funder Type\n",
       "OTHER        71219\n",
       "INDUSTRY     48326\n",
       "NIH           4455\n",
       "OTHER_GOV     2008\n",
       "NETWORK       1370\n",
       "FED           1050\n",
       "INDIV          217\n",
       "UNKNOWN         13\n",
       "AMBIG            1\n",
       "Name: count, dtype: int64"
      ]
     },
     "execution_count": 55,
     "metadata": {},
     "output_type": "execute_result"
    }
   ],
   "source": [
    "Non_textual_data[\"Funder Type\"].value_counts()"
   ]
  },
  {
   "cell_type": "code",
   "execution_count": 56,
   "metadata": {
    "execution": {
     "iopub.execute_input": "2025-09-19T17:37:24.793752Z",
     "iopub.status.busy": "2025-09-19T17:37:24.793480Z",
     "iopub.status.idle": "2025-09-19T17:37:24.813092Z",
     "shell.execute_reply": "2025-09-19T17:37:24.812290Z",
     "shell.execute_reply.started": "2025-09-19T17:37:24.793724Z"
    }
   },
   "outputs": [
    {
     "data": {
      "text/plain": [
       "Phases\n",
       "Unknown          30000\n",
       "PHASE2           29570\n",
       "PHASE1           26486\n",
       "PHASE4           16244\n",
       "PHASE3           14339\n",
       "PHASE1|PHASE2     6908\n",
       "PHASE2|PHASE3     2961\n",
       "EARLY_PHASE1      2151\n",
       "Name: count, dtype: int64"
      ]
     },
     "execution_count": 56,
     "metadata": {},
     "output_type": "execute_result"
    }
   ],
   "source": [
    "Non_textual_data[\"Phases\"].value_counts()"
   ]
  },
  {
   "cell_type": "code",
   "execution_count": 57,
   "metadata": {
    "execution": {
     "iopub.execute_input": "2025-09-19T17:37:24.814439Z",
     "iopub.status.busy": "2025-09-19T17:37:24.814138Z",
     "iopub.status.idle": "2025-09-19T17:37:24.839314Z",
     "shell.execute_reply": "2025-09-19T17:37:24.838506Z",
     "shell.execute_reply.started": "2025-09-19T17:37:24.814409Z"
    }
   },
   "outputs": [
    {
     "data": {
      "text/plain": [
       "Masking\n",
       "NONE                                                                       65899\n",
       "QUADRUPLE (PARTICIPANT, CARE_PROVIDER, INVESTIGATOR, OUTCOMES_ASSESSOR)    14239\n",
       "Unknown                                                                    11475\n",
       "DOUBLE (PARTICIPANT, INVESTIGATOR)                                         10540\n",
       "SINGLE (PARTICIPANT)                                                        4720\n",
       "TRIPLE (PARTICIPANT, CARE_PROVIDER, INVESTIGATOR)                           4392\n",
       "SINGLE (OUTCOMES_ASSESSOR)                                                  4311\n",
       "TRIPLE (PARTICIPANT, INVESTIGATOR, OUTCOMES_ASSESSOR)                       3396\n",
       "DOUBLE                                                                      2819\n",
       "DOUBLE (PARTICIPANT, OUTCOMES_ASSESSOR)                                     1987\n",
       "SINGLE (INVESTIGATOR)                                                       1449\n",
       "DOUBLE (PARTICIPANT, CARE_PROVIDER)                                          949\n",
       "TRIPLE (PARTICIPANT, CARE_PROVIDER, OUTCOMES_ASSESSOR)                       707\n",
       "DOUBLE (INVESTIGATOR, OUTCOMES_ASSESSOR)                                     704\n",
       "SINGLE                                                                       485\n",
       "SINGLE (CARE_PROVIDER)                                                       197\n",
       "TRIPLE (CARE_PROVIDER, INVESTIGATOR, OUTCOMES_ASSESSOR)                      175\n",
       "DOUBLE (CARE_PROVIDER, OUTCOMES_ASSESSOR)                                    112\n",
       "DOUBLE (CARE_PROVIDER, INVESTIGATOR)                                         103\n",
       "Name: count, dtype: int64"
      ]
     },
     "execution_count": 57,
     "metadata": {},
     "output_type": "execute_result"
    }
   ],
   "source": [
    "Non_textual_data[\"Masking\"].value_counts()"
   ]
  },
  {
   "cell_type": "code",
   "execution_count": 58,
   "metadata": {
    "execution": {
     "iopub.execute_input": "2025-09-19T17:37:24.840448Z",
     "iopub.status.busy": "2025-09-19T17:37:24.840168Z",
     "iopub.status.idle": "2025-09-19T17:37:24.866505Z",
     "shell.execute_reply": "2025-09-19T17:37:24.865628Z",
     "shell.execute_reply.started": "2025-09-19T17:37:24.840421Z"
    }
   },
   "outputs": [
    {
     "data": {
      "text/plain": [
       "Intervention Model\n",
       "PARALLEL        62535\n",
       "SINGLE_GROUP    36952\n",
       "CROSSOVER       12797\n",
       "Unknown         11966\n",
       "SEQUENTIAL       3180\n",
       "FACTORIAL        1229\n",
       "Name: count, dtype: int64"
      ]
     },
     "execution_count": 58,
     "metadata": {},
     "output_type": "execute_result"
    }
   ],
   "source": [
    "Non_textual_data[\"Intervention Model\"].value_counts()"
   ]
  },
  {
   "cell_type": "markdown",
   "metadata": {},
   "source": [
    "**Encoding the data using Label Encoder**"
   ]
  },
  {
   "cell_type": "code",
   "execution_count": 59,
   "metadata": {
    "execution": {
     "iopub.execute_input": "2025-09-19T17:37:24.867638Z",
     "iopub.status.busy": "2025-09-19T17:37:24.867352Z",
     "iopub.status.idle": "2025-09-19T17:37:24.940527Z",
     "shell.execute_reply": "2025-09-19T17:37:24.939560Z",
     "shell.execute_reply.started": "2025-09-19T17:37:24.867617Z"
    }
   },
   "outputs": [
    {
     "data": {
      "text/html": [
       "<div>\n",
       "<style scoped>\n",
       "    .dataframe tbody tr th:only-of-type {\n",
       "        vertical-align: middle;\n",
       "    }\n",
       "\n",
       "    .dataframe tbody tr th {\n",
       "        vertical-align: top;\n",
       "    }\n",
       "\n",
       "    .dataframe thead th {\n",
       "        text-align: right;\n",
       "    }\n",
       "</style>\n",
       "<table border=\"1\" class=\"dataframe\">\n",
       "  <thead>\n",
       "    <tr style=\"text-align: right;\">\n",
       "      <th></th>\n",
       "      <th>Study Status</th>\n",
       "      <th>Study Results</th>\n",
       "      <th>Sex</th>\n",
       "      <th>Age</th>\n",
       "      <th>Funder Type</th>\n",
       "      <th>Phases</th>\n",
       "      <th>Enrollment</th>\n",
       "      <th>Study Type</th>\n",
       "      <th>Allocation</th>\n",
       "      <th>Intervention Model</th>\n",
       "      <th>Masking</th>\n",
       "      <th>Primary Purpose</th>\n",
       "    </tr>\n",
       "  </thead>\n",
       "  <tbody>\n",
       "    <tr>\n",
       "      <th>211241</th>\n",
       "      <td>0</td>\n",
       "      <td>YES</td>\n",
       "      <td>ALL</td>\n",
       "      <td>ADULT</td>\n",
       "      <td>OTHER</td>\n",
       "      <td>Unknown</td>\n",
       "      <td>5.29</td>\n",
       "      <td>OBSERVATIONAL</td>\n",
       "      <td>Unknown</td>\n",
       "      <td>Unknown</td>\n",
       "      <td>Unknown</td>\n",
       "      <td>Unknown</td>\n",
       "    </tr>\n",
       "    <tr>\n",
       "      <th>134970</th>\n",
       "      <td>0</td>\n",
       "      <td>NO</td>\n",
       "      <td>ALL</td>\n",
       "      <td>ADULT, OLDER_ADULT</td>\n",
       "      <td>OTHER</td>\n",
       "      <td>Unknown</td>\n",
       "      <td>10.54</td>\n",
       "      <td>INTERVENTIONAL</td>\n",
       "      <td>RANDOMIZED</td>\n",
       "      <td>PARALLEL</td>\n",
       "      <td>SINGLE (OUTCOMES_ASSESSOR)</td>\n",
       "      <td>TREATMENT</td>\n",
       "    </tr>\n",
       "    <tr>\n",
       "      <th>88399</th>\n",
       "      <td>2</td>\n",
       "      <td>NO</td>\n",
       "      <td>ALL</td>\n",
       "      <td>ADULT, OLDER_ADULT</td>\n",
       "      <td>OTHER</td>\n",
       "      <td>Unknown</td>\n",
       "      <td>8.19</td>\n",
       "      <td>OBSERVATIONAL</td>\n",
       "      <td>Unknown</td>\n",
       "      <td>Unknown</td>\n",
       "      <td>Unknown</td>\n",
       "      <td>Unknown</td>\n",
       "    </tr>\n",
       "    <tr>\n",
       "      <th>197115</th>\n",
       "      <td>0</td>\n",
       "      <td>YES</td>\n",
       "      <td>ALL</td>\n",
       "      <td>ADULT, OLDER_ADULT</td>\n",
       "      <td>INDUSTRY</td>\n",
       "      <td>Unknown</td>\n",
       "      <td>3.87</td>\n",
       "      <td>INTERVENTIONAL</td>\n",
       "      <td>Unknown</td>\n",
       "      <td>SINGLE_GROUP</td>\n",
       "      <td>NONE</td>\n",
       "      <td>SUPPORTIVE_CARE</td>\n",
       "    </tr>\n",
       "    <tr>\n",
       "      <th>30457</th>\n",
       "      <td>0</td>\n",
       "      <td>NO</td>\n",
       "      <td>ALL</td>\n",
       "      <td>CHILD, ADULT, OLDER_ADULT</td>\n",
       "      <td>OTHER</td>\n",
       "      <td>Unknown</td>\n",
       "      <td>5.48</td>\n",
       "      <td>INTERVENTIONAL</td>\n",
       "      <td>RANDOMIZED</td>\n",
       "      <td>PARALLEL</td>\n",
       "      <td>DOUBLE (INVESTIGATOR, OUTCOMES_ASSESSOR)</td>\n",
       "      <td>SUPPORTIVE_CARE</td>\n",
       "    </tr>\n",
       "  </tbody>\n",
       "</table>\n",
       "</div>"
      ],
      "text/plain": [
       "        Study Status Study Results  Sex                        Age  \\\n",
       "211241             0           YES  ALL                      ADULT   \n",
       "134970             0            NO  ALL         ADULT, OLDER_ADULT   \n",
       "88399              2            NO  ALL         ADULT, OLDER_ADULT   \n",
       "197115             0           YES  ALL         ADULT, OLDER_ADULT   \n",
       "30457              0            NO  ALL  CHILD, ADULT, OLDER_ADULT   \n",
       "\n",
       "       Funder Type   Phases  Enrollment      Study Type  Allocation  \\\n",
       "211241       OTHER  Unknown        5.29   OBSERVATIONAL     Unknown   \n",
       "134970       OTHER  Unknown       10.54  INTERVENTIONAL  RANDOMIZED   \n",
       "88399        OTHER  Unknown        8.19   OBSERVATIONAL     Unknown   \n",
       "197115    INDUSTRY  Unknown        3.87  INTERVENTIONAL     Unknown   \n",
       "30457        OTHER  Unknown        5.48  INTERVENTIONAL  RANDOMIZED   \n",
       "\n",
       "       Intervention Model                                   Masking  \\\n",
       "211241            Unknown                                   Unknown   \n",
       "134970           PARALLEL                SINGLE (OUTCOMES_ASSESSOR)   \n",
       "88399             Unknown                                   Unknown   \n",
       "197115       SINGLE_GROUP                                      NONE   \n",
       "30457            PARALLEL  DOUBLE (INVESTIGATOR, OUTCOMES_ASSESSOR)   \n",
       "\n",
       "        Primary Purpose  \n",
       "211241          Unknown  \n",
       "134970        TREATMENT  \n",
       "88399           Unknown  \n",
       "197115  SUPPORTIVE_CARE  \n",
       "30457   SUPPORTIVE_CARE  "
      ]
     },
     "execution_count": 59,
     "metadata": {},
     "output_type": "execute_result"
    }
   ],
   "source": [
    "from sklearn.preprocessing import LabelEncoder\n",
    "import joblib\n",
    "\n",
    "target_label_encoder = LabelEncoder()\n",
    "Non_textual_data[\"Study Status\"] = target_label_encoder.fit_transform(Non_textual_data[\"Study Status\"])\n",
    "\n",
    "Non_textual_data.head()"
   ]
  },
  {
   "cell_type": "code",
   "execution_count": 60,
   "metadata": {
    "execution": {
     "iopub.execute_input": "2025-09-19T17:37:24.941727Z",
     "iopub.status.busy": "2025-09-19T17:37:24.941418Z",
     "iopub.status.idle": "2025-09-19T17:37:24.946945Z",
     "shell.execute_reply": "2025-09-19T17:37:24.946222Z",
     "shell.execute_reply.started": "2025-09-19T17:37:24.941699Z"
    }
   },
   "outputs": [
    {
     "data": {
      "text/plain": [
       "['target_label_encoder.pkl']"
      ]
     },
     "execution_count": 60,
     "metadata": {},
     "output_type": "execute_result"
    }
   ],
   "source": [
    "# Save the target encoder\n",
    "joblib.dump(target_label_encoder, \"target_label_encoder.pkl\")"
   ]
  },
  {
   "cell_type": "code",
   "execution_count": 61,
   "metadata": {
    "execution": {
     "iopub.execute_input": "2025-09-19T17:37:24.947918Z",
     "iopub.status.busy": "2025-09-19T17:37:24.947642Z",
     "iopub.status.idle": "2025-09-19T17:37:26.403255Z",
     "shell.execute_reply": "2025-09-19T17:37:26.402275Z",
     "shell.execute_reply.started": "2025-09-19T17:37:24.947892Z"
    }
   },
   "outputs": [
    {
     "data": {
      "text/html": [
       "<div>\n",
       "<style scoped>\n",
       "    .dataframe tbody tr th:only-of-type {\n",
       "        vertical-align: middle;\n",
       "    }\n",
       "\n",
       "    .dataframe tbody tr th {\n",
       "        vertical-align: top;\n",
       "    }\n",
       "\n",
       "    .dataframe thead th {\n",
       "        text-align: right;\n",
       "    }\n",
       "</style>\n",
       "<table border=\"1\" class=\"dataframe\">\n",
       "  <thead>\n",
       "    <tr style=\"text-align: right;\">\n",
       "      <th></th>\n",
       "      <th>Study Status</th>\n",
       "      <th>Study Results</th>\n",
       "      <th>Sex</th>\n",
       "      <th>Age</th>\n",
       "      <th>Funder Type</th>\n",
       "      <th>Phases</th>\n",
       "      <th>Enrollment</th>\n",
       "      <th>Study Type</th>\n",
       "      <th>Allocation</th>\n",
       "      <th>Intervention Model</th>\n",
       "      <th>Masking</th>\n",
       "      <th>Primary Purpose</th>\n",
       "    </tr>\n",
       "  </thead>\n",
       "  <tbody>\n",
       "    <tr>\n",
       "      <th>211241</th>\n",
       "      <td>0</td>\n",
       "      <td>2</td>\n",
       "      <td>0</td>\n",
       "      <td>0</td>\n",
       "      <td>6</td>\n",
       "      <td>7</td>\n",
       "      <td>5.29</td>\n",
       "      <td>1</td>\n",
       "      <td>2</td>\n",
       "      <td>5</td>\n",
       "      <td>18</td>\n",
       "      <td>10</td>\n",
       "    </tr>\n",
       "    <tr>\n",
       "      <th>134970</th>\n",
       "      <td>0</td>\n",
       "      <td>0</td>\n",
       "      <td>0</td>\n",
       "      <td>1</td>\n",
       "      <td>6</td>\n",
       "      <td>7</td>\n",
       "      <td>10.54</td>\n",
       "      <td>0</td>\n",
       "      <td>1</td>\n",
       "      <td>2</td>\n",
       "      <td>12</td>\n",
       "      <td>9</td>\n",
       "    </tr>\n",
       "    <tr>\n",
       "      <th>88399</th>\n",
       "      <td>2</td>\n",
       "      <td>0</td>\n",
       "      <td>0</td>\n",
       "      <td>1</td>\n",
       "      <td>6</td>\n",
       "      <td>7</td>\n",
       "      <td>8.19</td>\n",
       "      <td>1</td>\n",
       "      <td>2</td>\n",
       "      <td>5</td>\n",
       "      <td>18</td>\n",
       "      <td>10</td>\n",
       "    </tr>\n",
       "    <tr>\n",
       "      <th>197115</th>\n",
       "      <td>0</td>\n",
       "      <td>2</td>\n",
       "      <td>0</td>\n",
       "      <td>1</td>\n",
       "      <td>3</td>\n",
       "      <td>7</td>\n",
       "      <td>3.87</td>\n",
       "      <td>0</td>\n",
       "      <td>2</td>\n",
       "      <td>4</td>\n",
       "      <td>7</td>\n",
       "      <td>8</td>\n",
       "    </tr>\n",
       "    <tr>\n",
       "      <th>30457</th>\n",
       "      <td>0</td>\n",
       "      <td>0</td>\n",
       "      <td>0</td>\n",
       "      <td>4</td>\n",
       "      <td>6</td>\n",
       "      <td>7</td>\n",
       "      <td>5.48</td>\n",
       "      <td>0</td>\n",
       "      <td>1</td>\n",
       "      <td>2</td>\n",
       "      <td>3</td>\n",
       "      <td>8</td>\n",
       "    </tr>\n",
       "  </tbody>\n",
       "</table>\n",
       "</div>"
      ],
      "text/plain": [
       "        Study Status  Study Results  Sex  Age  Funder Type  Phases  \\\n",
       "211241             0              2    0    0            6       7   \n",
       "134970             0              0    0    1            6       7   \n",
       "88399              2              0    0    1            6       7   \n",
       "197115             0              2    0    1            3       7   \n",
       "30457              0              0    0    4            6       7   \n",
       "\n",
       "        Enrollment  Study Type  Allocation  Intervention Model  Masking  \\\n",
       "211241        5.29           1           2                   5       18   \n",
       "134970       10.54           0           1                   2       12   \n",
       "88399         8.19           1           2                   5       18   \n",
       "197115        3.87           0           2                   4        7   \n",
       "30457         5.48           0           1                   2        3   \n",
       "\n",
       "        Primary Purpose  \n",
       "211241               10  \n",
       "134970                9  \n",
       "88399                10  \n",
       "197115                8  \n",
       "30457                 8  "
      ]
     },
     "execution_count": 61,
     "metadata": {},
     "output_type": "execute_result"
    }
   ],
   "source": [
    "from sklearn.preprocessing import LabelEncoder\n",
    "\n",
    "# List of categorical columns\n",
    "categorical_columns = ['Study Results', 'Sex', 'Age', 'Funder Type', 'Phases', 'Study Type', 'Allocation', 'Intervention Model', 'Masking',  'Primary Purpose']\n",
    "\n",
    "# Initialize the label encoder\n",
    "feature_label_encoders = {col: LabelEncoder() for col in categorical_columns}\n",
    "\n",
    "# Apply label encoding to each categorical column\n",
    "for col in categorical_columns:\n",
    "    values = Non_textual_data[col].astype(str).tolist()\n",
    "    feature_label_encoders[col].fit(values + [\"Unknown\"])   # include Unknown in training\n",
    "    Non_textual_data[col] = feature_label_encoders[col].transform(values)  # transform only real data\n",
    "\n",
    "# 'enrollment' remains numerical; no changes needed for it\n",
    "Non_textual_data.head()"
   ]
  },
  {
   "cell_type": "markdown",
   "metadata": {},
   "source": [
    "**Saving the Label Encoders for Inference**"
   ]
  },
  {
   "cell_type": "code",
   "execution_count": 62,
   "metadata": {
    "execution": {
     "iopub.execute_input": "2025-09-19T17:37:26.404541Z",
     "iopub.status.busy": "2025-09-19T17:37:26.404190Z",
     "iopub.status.idle": "2025-09-19T17:37:26.412209Z",
     "shell.execute_reply": "2025-09-19T17:37:26.411364Z",
     "shell.execute_reply.started": "2025-09-19T17:37:26.404507Z"
    }
   },
   "outputs": [
    {
     "data": {
      "text/plain": [
       "['feature_label_encoders.pkl']"
      ]
     },
     "execution_count": 62,
     "metadata": {},
     "output_type": "execute_result"
    }
   ],
   "source": [
    "import joblib\n",
    "joblib.dump(feature_label_encoders, \"feature_label_encoders.pkl\")"
   ]
  },
  {
   "cell_type": "code",
   "execution_count": 63,
   "metadata": {
    "execution": {
     "iopub.execute_input": "2025-09-19T17:37:26.413501Z",
     "iopub.status.busy": "2025-09-19T17:37:26.413196Z",
     "iopub.status.idle": "2025-09-19T17:37:27.380047Z",
     "shell.execute_reply": "2025-09-19T17:37:27.379268Z",
     "shell.execute_reply.started": "2025-09-19T17:37:26.413452Z"
    }
   },
   "outputs": [
    {
     "data": {
      "text/plain": [
       "Sex\n",
       "0    109920\n",
       "1     10968\n",
       "2      7678\n",
       "3        93\n",
       "Name: count, dtype: int64"
      ]
     },
     "execution_count": 63,
     "metadata": {},
     "output_type": "execute_result"
    }
   ],
   "source": [
    "Non_textual_data[\"Sex\"].value_counts()"
   ]
  },
  {
   "cell_type": "code",
   "execution_count": 64,
   "metadata": {
    "execution": {
     "iopub.execute_input": "2025-09-19T17:37:27.381245Z",
     "iopub.status.busy": "2025-09-19T17:37:27.380949Z",
     "iopub.status.idle": "2025-09-19T17:37:27.394347Z",
     "shell.execute_reply": "2025-09-19T17:37:27.393492Z",
     "shell.execute_reply.started": "2025-09-19T17:37:27.381212Z"
    }
   },
   "outputs": [
    {
     "data": {
      "text/plain": [
       "Study Results\n",
       "0    95623\n",
       "2    33036\n",
       "Name: count, dtype: int64"
      ]
     },
     "execution_count": 64,
     "metadata": {},
     "output_type": "execute_result"
    }
   ],
   "source": [
    "Non_textual_data[\"Study Results\"].value_counts()"
   ]
  },
  {
   "cell_type": "code",
   "execution_count": 65,
   "metadata": {
    "execution": {
     "iopub.execute_input": "2025-09-19T17:37:27.395674Z",
     "iopub.status.busy": "2025-09-19T17:37:27.395387Z",
     "iopub.status.idle": "2025-09-19T17:37:27.407660Z",
     "shell.execute_reply": "2025-09-19T17:37:27.406931Z",
     "shell.execute_reply.started": "2025-09-19T17:37:27.395654Z"
    }
   },
   "outputs": [
    {
     "data": {
      "text/plain": [
       "Study Type\n",
       "0    119006\n",
       "1      9653\n",
       "Name: count, dtype: int64"
      ]
     },
     "execution_count": 65,
     "metadata": {},
     "output_type": "execute_result"
    }
   ],
   "source": [
    "Non_textual_data[\"Study Type\"].value_counts()"
   ]
  },
  {
   "cell_type": "code",
   "execution_count": 66,
   "metadata": {
    "execution": {
     "iopub.execute_input": "2025-09-19T17:37:27.408702Z",
     "iopub.status.busy": "2025-09-19T17:37:27.408419Z",
     "iopub.status.idle": "2025-09-19T17:37:27.421355Z",
     "shell.execute_reply": "2025-09-19T17:37:27.420525Z",
     "shell.execute_reply.started": "2025-09-19T17:37:27.408673Z"
    }
   },
   "outputs": [
    {
     "data": {
      "text/plain": [
       "Funder Type\n",
       "6    71219\n",
       "3    48326\n",
       "5     4455\n",
       "7     2008\n",
       "4     1370\n",
       "1     1050\n",
       "2      217\n",
       "8       13\n",
       "0        1\n",
       "Name: count, dtype: int64"
      ]
     },
     "execution_count": 66,
     "metadata": {},
     "output_type": "execute_result"
    }
   ],
   "source": [
    "Non_textual_data[\"Funder Type\"].value_counts()"
   ]
  },
  {
   "cell_type": "code",
   "execution_count": 67,
   "metadata": {
    "execution": {
     "iopub.execute_input": "2025-09-19T17:37:27.422550Z",
     "iopub.status.busy": "2025-09-19T17:37:27.422237Z",
     "iopub.status.idle": "2025-09-19T17:37:27.435236Z",
     "shell.execute_reply": "2025-09-19T17:37:27.434610Z",
     "shell.execute_reply.started": "2025-09-19T17:37:27.422522Z"
    }
   },
   "outputs": [
    {
     "data": {
      "text/plain": [
       "Age\n",
       "1    84514\n",
       "0    22435\n",
       "4     8789\n",
       "2     6890\n",
       "3     4627\n",
       "5     1404\n",
       "Name: count, dtype: int64"
      ]
     },
     "execution_count": 67,
     "metadata": {},
     "output_type": "execute_result"
    }
   ],
   "source": [
    "Non_textual_data[\"Age\"].value_counts()"
   ]
  },
  {
   "cell_type": "code",
   "execution_count": 68,
   "metadata": {
    "execution": {
     "iopub.execute_input": "2025-09-19T17:37:27.441051Z",
     "iopub.status.busy": "2025-09-19T17:37:27.440853Z",
     "iopub.status.idle": "2025-09-19T17:37:27.452148Z",
     "shell.execute_reply": "2025-09-19T17:37:27.451431Z",
     "shell.execute_reply.started": "2025-09-19T17:37:27.441034Z"
    }
   },
   "outputs": [
    {
     "data": {
      "text/plain": [
       "Phases\n",
       "7    30000\n",
       "3    29570\n",
       "1    26486\n",
       "6    16244\n",
       "5    14339\n",
       "2     6908\n",
       "4     2961\n",
       "0     2151\n",
       "Name: count, dtype: int64"
      ]
     },
     "execution_count": 68,
     "metadata": {},
     "output_type": "execute_result"
    }
   ],
   "source": [
    "Non_textual_data[\"Phases\"].value_counts()"
   ]
  },
  {
   "cell_type": "code",
   "execution_count": 69,
   "metadata": {
    "execution": {
     "iopub.execute_input": "2025-09-19T17:37:27.453516Z",
     "iopub.status.busy": "2025-09-19T17:37:27.453211Z",
     "iopub.status.idle": "2025-09-19T17:37:27.466511Z",
     "shell.execute_reply": "2025-09-19T17:37:27.465791Z",
     "shell.execute_reply.started": "2025-09-19T17:37:27.453486Z"
    }
   },
   "outputs": [
    {
     "data": {
      "text/plain": [
       "Masking\n",
       "7     65899\n",
       "8     14239\n",
       "18    11475\n",
       "5     10540\n",
       "13     4720\n",
       "15     4392\n",
       "12     4311\n",
       "17     3396\n",
       "0      2819\n",
       "6      1987\n",
       "11     1449\n",
       "4       949\n",
       "16      707\n",
       "3       704\n",
       "9       485\n",
       "10      197\n",
       "14      175\n",
       "2       112\n",
       "1       103\n",
       "Name: count, dtype: int64"
      ]
     },
     "execution_count": 69,
     "metadata": {},
     "output_type": "execute_result"
    }
   ],
   "source": [
    "Non_textual_data[\"Masking\"].value_counts()"
   ]
  },
  {
   "cell_type": "code",
   "execution_count": 70,
   "metadata": {
    "execution": {
     "iopub.execute_input": "2025-09-19T17:37:27.467583Z",
     "iopub.status.busy": "2025-09-19T17:37:27.467232Z",
     "iopub.status.idle": "2025-09-19T17:37:27.478495Z",
     "shell.execute_reply": "2025-09-19T17:37:27.477805Z",
     "shell.execute_reply.started": "2025-09-19T17:37:27.467549Z"
    }
   },
   "outputs": [
    {
     "data": {
      "text/plain": [
       "Intervention Model\n",
       "2    62535\n",
       "4    36952\n",
       "0    12797\n",
       "5    11966\n",
       "3     3180\n",
       "1     1229\n",
       "Name: count, dtype: int64"
      ]
     },
     "execution_count": 70,
     "metadata": {},
     "output_type": "execute_result"
    }
   ],
   "source": [
    "Non_textual_data[\"Intervention Model\"].value_counts()"
   ]
  },
  {
   "cell_type": "code",
   "execution_count": 71,
   "metadata": {
    "execution": {
     "iopub.execute_input": "2025-09-19T17:39:49.066007Z",
     "iopub.status.busy": "2025-09-19T17:39:49.065705Z",
     "iopub.status.idle": "2025-09-19T17:39:49.077726Z",
     "shell.execute_reply": "2025-09-19T17:39:49.076900Z",
     "shell.execute_reply.started": "2025-09-19T17:39:49.065987Z"
    }
   },
   "outputs": [
    {
     "name": "stdout",
     "output_type": "stream",
     "text": [
      "Value counts for 'Allocation':\n",
      "Allocation\n",
      "1    73935\n",
      "2    39380\n",
      "0    15344\n",
      "Name: count, dtype: int64\n",
      "\n",
      "Value counts for 'Intervention Model':\n",
      "Intervention Model\n",
      "2    62535\n",
      "4    36952\n",
      "0    12797\n",
      "5    11966\n",
      "3     3180\n",
      "1     1229\n",
      "Name: count, dtype: int64\n",
      "\n",
      "Value counts for 'Masking':\n",
      "Masking\n",
      "7     65899\n",
      "8     14239\n",
      "18    11475\n",
      "5     10540\n",
      "13     4720\n",
      "15     4392\n",
      "12     4311\n",
      "17     3396\n",
      "0      2819\n",
      "6      1987\n",
      "11     1449\n",
      "4       949\n",
      "16      707\n",
      "3       704\n",
      "9       485\n",
      "10      197\n",
      "14      175\n",
      "2       112\n",
      "1       103\n",
      "Name: count, dtype: int64\n",
      "\n",
      "Value counts for 'Primary Purpose':\n",
      "Primary Purpose\n",
      "9     86531\n",
      "10    12329\n",
      "6      9675\n",
      "0      6149\n",
      "5      4915\n",
      "8      3784\n",
      "2      3364\n",
      "4      1255\n",
      "7       456\n",
      "1       171\n",
      "3        30\n",
      "Name: count, dtype: int64\n",
      "\n"
     ]
    }
   ],
   "source": [
    "# List of columns for which you want value counts\n",
    "columns_to_analyze = [\n",
    "    \"Allocation\",\n",
    "    \"Intervention Model\",\n",
    "    \"Masking\",\n",
    "    \"Primary Purpose\",\n",
    "]\n",
    "\n",
    "# Apply value_counts to each column and display the results\n",
    "value_counts_per_column = {col: Non_textual_data[col].value_counts() for col in columns_to_analyze}\n",
    "\n",
    "# Display the value counts for each column\n",
    "for col, counts in value_counts_per_column.items():\n",
    "    print(f\"Value counts for '{col}':\\n{counts}\\n\")"
   ]
  },
  {
   "cell_type": "code",
   "execution_count": 72,
   "metadata": {
    "execution": {
     "iopub.execute_input": "2025-09-19T17:39:58.910642Z",
     "iopub.status.busy": "2025-09-19T17:39:58.910327Z",
     "iopub.status.idle": "2025-09-19T17:39:58.917769Z",
     "shell.execute_reply": "2025-09-19T17:39:58.916884Z",
     "shell.execute_reply.started": "2025-09-19T17:39:58.910618Z"
    }
   },
   "outputs": [
    {
     "data": {
      "text/plain": [
       "Study Status\n",
       "0    105451\n",
       "2     15441\n",
       "3      7075\n",
       "1       692\n",
       "Name: count, dtype: int64"
      ]
     },
     "execution_count": 72,
     "metadata": {},
     "output_type": "execute_result"
    }
   ],
   "source": [
    "Non_textual_data['Study Status'].value_counts()"
   ]
  },
  {
   "cell_type": "markdown",
   "metadata": {},
   "source": [
    "**0 means COMPLETED and 1,2,3 means NOT COMPLETED (TERMINATED, WITHDRAWN, SUSPENDED)**"
   ]
  },
  {
   "cell_type": "code",
   "execution_count": 73,
   "metadata": {
    "execution": {
     "iopub.execute_input": "2025-09-19T17:40:06.871673Z",
     "iopub.status.busy": "2025-09-19T17:40:06.871332Z",
     "iopub.status.idle": "2025-09-19T17:40:06.920846Z",
     "shell.execute_reply": "2025-09-19T17:40:06.919923Z",
     "shell.execute_reply.started": "2025-09-19T17:40:06.871646Z"
    }
   },
   "outputs": [
    {
     "name": "stdout",
     "output_type": "stream",
     "text": [
      "Unique values in Study Status column: [1 0]\n",
      "Study Status\n",
      "1    105451\n",
      "0     23208\n",
      "Name: count, dtype: int64\n"
     ]
    }
   ],
   "source": [
    "# Modify the 'Study Status' column\n",
    "Non_textual_data['Study Status'] = Non_textual_data['Study Status'].apply(\n",
    "    lambda x: 1 if x == 0 else 0\n",
    ")\n",
    "\n",
    "# Check the unique values after transformation\n",
    "print(\"Unique values in Study Status column:\", Non_textual_data['Study Status'].unique())\n",
    "\n",
    "# Display the value counts after modification\n",
    "print(Non_textual_data['Study Status'].value_counts())"
   ]
  },
  {
   "cell_type": "code",
   "execution_count": 74,
   "metadata": {
    "execution": {
     "iopub.execute_input": "2025-09-19T17:40:09.887094Z",
     "iopub.status.busy": "2025-09-19T17:40:09.886648Z",
     "iopub.status.idle": "2025-09-19T17:40:09.900686Z",
     "shell.execute_reply": "2025-09-19T17:40:09.899615Z",
     "shell.execute_reply.started": "2025-09-19T17:40:09.887051Z"
    }
   },
   "outputs": [
    {
     "data": {
      "text/html": [
       "<div>\n",
       "<style scoped>\n",
       "    .dataframe tbody tr th:only-of-type {\n",
       "        vertical-align: middle;\n",
       "    }\n",
       "\n",
       "    .dataframe tbody tr th {\n",
       "        vertical-align: top;\n",
       "    }\n",
       "\n",
       "    .dataframe thead th {\n",
       "        text-align: right;\n",
       "    }\n",
       "</style>\n",
       "<table border=\"1\" class=\"dataframe\">\n",
       "  <thead>\n",
       "    <tr style=\"text-align: right;\">\n",
       "      <th></th>\n",
       "      <th>Study Status</th>\n",
       "      <th>Study Results</th>\n",
       "      <th>Sex</th>\n",
       "      <th>Age</th>\n",
       "      <th>Funder Type</th>\n",
       "      <th>Phases</th>\n",
       "      <th>Enrollment</th>\n",
       "      <th>Study Type</th>\n",
       "      <th>Allocation</th>\n",
       "      <th>Intervention Model</th>\n",
       "      <th>Masking</th>\n",
       "      <th>Primary Purpose</th>\n",
       "    </tr>\n",
       "  </thead>\n",
       "  <tbody>\n",
       "    <tr>\n",
       "      <th>211241</th>\n",
       "      <td>1</td>\n",
       "      <td>2</td>\n",
       "      <td>0</td>\n",
       "      <td>0</td>\n",
       "      <td>6</td>\n",
       "      <td>7</td>\n",
       "      <td>5.29</td>\n",
       "      <td>1</td>\n",
       "      <td>2</td>\n",
       "      <td>5</td>\n",
       "      <td>18</td>\n",
       "      <td>10</td>\n",
       "    </tr>\n",
       "    <tr>\n",
       "      <th>134970</th>\n",
       "      <td>1</td>\n",
       "      <td>0</td>\n",
       "      <td>0</td>\n",
       "      <td>1</td>\n",
       "      <td>6</td>\n",
       "      <td>7</td>\n",
       "      <td>10.54</td>\n",
       "      <td>0</td>\n",
       "      <td>1</td>\n",
       "      <td>2</td>\n",
       "      <td>12</td>\n",
       "      <td>9</td>\n",
       "    </tr>\n",
       "    <tr>\n",
       "      <th>88399</th>\n",
       "      <td>0</td>\n",
       "      <td>0</td>\n",
       "      <td>0</td>\n",
       "      <td>1</td>\n",
       "      <td>6</td>\n",
       "      <td>7</td>\n",
       "      <td>8.19</td>\n",
       "      <td>1</td>\n",
       "      <td>2</td>\n",
       "      <td>5</td>\n",
       "      <td>18</td>\n",
       "      <td>10</td>\n",
       "    </tr>\n",
       "    <tr>\n",
       "      <th>197115</th>\n",
       "      <td>1</td>\n",
       "      <td>2</td>\n",
       "      <td>0</td>\n",
       "      <td>1</td>\n",
       "      <td>3</td>\n",
       "      <td>7</td>\n",
       "      <td>3.87</td>\n",
       "      <td>0</td>\n",
       "      <td>2</td>\n",
       "      <td>4</td>\n",
       "      <td>7</td>\n",
       "      <td>8</td>\n",
       "    </tr>\n",
       "    <tr>\n",
       "      <th>30457</th>\n",
       "      <td>1</td>\n",
       "      <td>0</td>\n",
       "      <td>0</td>\n",
       "      <td>4</td>\n",
       "      <td>6</td>\n",
       "      <td>7</td>\n",
       "      <td>5.48</td>\n",
       "      <td>0</td>\n",
       "      <td>1</td>\n",
       "      <td>2</td>\n",
       "      <td>3</td>\n",
       "      <td>8</td>\n",
       "    </tr>\n",
       "  </tbody>\n",
       "</table>\n",
       "</div>"
      ],
      "text/plain": [
       "        Study Status  Study Results  Sex  Age  Funder Type  Phases  \\\n",
       "211241             1              2    0    0            6       7   \n",
       "134970             1              0    0    1            6       7   \n",
       "88399              0              0    0    1            6       7   \n",
       "197115             1              2    0    1            3       7   \n",
       "30457              1              0    0    4            6       7   \n",
       "\n",
       "        Enrollment  Study Type  Allocation  Intervention Model  Masking  \\\n",
       "211241        5.29           1           2                   5       18   \n",
       "134970       10.54           0           1                   2       12   \n",
       "88399         8.19           1           2                   5       18   \n",
       "197115        3.87           0           2                   4        7   \n",
       "30457         5.48           0           1                   2        3   \n",
       "\n",
       "        Primary Purpose  \n",
       "211241               10  \n",
       "134970                9  \n",
       "88399                10  \n",
       "197115                8  \n",
       "30457                 8  "
      ]
     },
     "execution_count": 74,
     "metadata": {},
     "output_type": "execute_result"
    }
   ],
   "source": [
    "Non_textual_data.head()"
   ]
  },
  {
   "cell_type": "markdown",
   "metadata": {},
   "source": [
    "**Confirming No Null Values**"
   ]
  },
  {
   "cell_type": "code",
   "execution_count": 75,
   "metadata": {
    "execution": {
     "iopub.execute_input": "2025-09-19T17:40:37.984758Z",
     "iopub.status.busy": "2025-09-19T17:40:37.984411Z",
     "iopub.status.idle": "2025-09-19T17:40:37.993936Z",
     "shell.execute_reply": "2025-09-19T17:40:37.993138Z",
     "shell.execute_reply.started": "2025-09-19T17:40:37.984731Z"
    }
   },
   "outputs": [
    {
     "data": {
      "text/plain": [
       "Study Status          0\n",
       "Study Results         0\n",
       "Sex                   0\n",
       "Age                   0\n",
       "Funder Type           0\n",
       "Phases                0\n",
       "Enrollment            0\n",
       "Study Type            0\n",
       "Allocation            0\n",
       "Intervention Model    0\n",
       "Masking               0\n",
       "Primary Purpose       0\n",
       "dtype: int64"
      ]
     },
     "execution_count": 75,
     "metadata": {},
     "output_type": "execute_result"
    }
   ],
   "source": [
    "Non_textual_data.isnull().sum()"
   ]
  },
  {
   "cell_type": "code",
   "execution_count": 76,
   "metadata": {
    "execution": {
     "iopub.execute_input": "2025-09-19T17:40:41.464969Z",
     "iopub.status.busy": "2025-09-19T17:40:41.464689Z",
     "iopub.status.idle": "2025-09-19T17:40:43.310823Z",
     "shell.execute_reply": "2025-09-19T17:40:43.309924Z",
     "shell.execute_reply.started": "2025-09-19T17:40:41.464947Z"
    }
   },
   "outputs": [
    {
     "data": {
      "text/plain": [
       "<Axes: >"
      ]
     },
     "execution_count": 76,
     "metadata": {},
     "output_type": "execute_result"
    },
    {
     "data": {
      "image/png": "[encoded data removed]",
      "text/plain": [
       "<Figure size 640x480 with 1 Axes>"
      ]
     },
     "metadata": {},
     "output_type": "display_data"
    }
   ],
   "source": [
    "import seaborn as sns\n",
    "sns.heatmap(Non_textual_data.isnull(),yticklabels=False,cbar=False,cmap='viridis')"
   ]
  },
  {
   "cell_type": "code",
   "execution_count": 77,
   "metadata": {
    "execution": {
     "iopub.execute_input": "2025-09-19T17:40:46.786894Z",
     "iopub.status.busy": "2025-09-19T17:40:46.786606Z",
     "iopub.status.idle": "2025-09-19T17:40:46.797637Z",
     "shell.execute_reply": "2025-09-19T17:40:46.796866Z",
     "shell.execute_reply.started": "2025-09-19T17:40:46.786874Z"
    }
   },
   "outputs": [],
   "source": [
    "encoded_data = Non_textual_data.copy()"
   ]
  },
  {
   "cell_type": "markdown",
   "metadata": {},
   "source": [
    "**Feature Engineering using chi-square test and correlation matrix**"
   ]
  },
  {
   "cell_type": "code",
   "execution_count": 78,
   "metadata": {
    "execution": {
     "iopub.execute_input": "2025-09-19T17:40:49.336019Z",
     "iopub.status.busy": "2025-09-19T17:40:49.335702Z",
     "iopub.status.idle": "2025-09-19T17:40:49.645735Z",
     "shell.execute_reply": "2025-09-19T17:40:49.644814Z",
     "shell.execute_reply.started": "2025-09-19T17:40:49.335991Z"
    }
   },
   "outputs": [
    {
     "name": "stdout",
     "output_type": "stream",
     "text": [
      "Chi-Square Test Results:\n",
      "              Feature  Chi-Square Score  p-Value\n",
      "8             Masking            472.27     0.00\n",
      "7  Intervention Model            306.05     0.00\n",
      "4              Phases            293.88     0.00\n",
      "1                 Sex            277.51     0.00\n",
      "5          Study Type            194.05     0.00\n",
      "9     Primary Purpose            188.53     0.00\n",
      "2                 Age             55.62     0.00\n",
      "3         Funder Type             41.53     0.00\n",
      "6          Allocation              6.92     0.01\n",
      "0       Study Results              2.88     0.09\n"
     ]
    }
   ],
   "source": [
    "#chi - square test // feature selection for categorical features only\n",
    "from sklearn.feature_selection import chi2\n",
    "import pandas as pd\n",
    "\n",
    "# Assuming 'encoded_data' is already loaded as a DataFrame\n",
    "\n",
    "# Separate features (X) and target variable (y)\n",
    "X = encoded_data.drop(columns= ['Study Status','Enrollment'])  # Features\n",
    "y = encoded_data[\"Study Status\"]  # Target\n",
    "\n",
    "# Apply Chi-Square test\n",
    "chi_scores, p_values = chi2(X, y)\n",
    "\n",
    "# Create a DataFrame to display results\n",
    "chi_square_results = pd.DataFrame({\n",
    "    \"Feature\": X.columns,\n",
    "    \"Chi-Square Score\": chi_scores,\n",
    "    \"p-Value\": p_values\n",
    "}).sort_values(by=\"p-Value\")\n",
    "\n",
    "# Display the results\n",
    "print(\"Chi-Square Test Results:\")\n",
    "print(chi_square_results)\n",
    "\n"
   ]
  },
  {
   "cell_type": "code",
   "execution_count": 79,
   "metadata": {
    "execution": {
     "iopub.execute_input": "2025-09-19T17:40:53.309181Z",
     "iopub.status.busy": "2025-09-19T17:40:53.308883Z",
     "iopub.status.idle": "2025-09-19T17:40:53.818134Z",
     "shell.execute_reply": "2025-09-19T17:40:53.817293Z",
     "shell.execute_reply.started": "2025-09-19T17:40:53.309157Z"
    }
   },
   "outputs": [
    {
     "data": {
      "image/png": "[encoded data removed]",
      "text/plain": [
       "<Figure size 1200x800 with 1 Axes>"
      ]
     },
     "metadata": {},
     "output_type": "display_data"
    }
   ],
   "source": [
    "# Assuming 'balanced_data' is already created and available\n",
    "# Importing libraries\n",
    "import seaborn as sns\n",
    "import matplotlib.pyplot as plt\n",
    "\n",
    "# Ensure the column data type is consistent (convert all to strings for visualization purposes)\n",
    "balanced_data['Phases'] = balanced_data['Phases'].astype(str)\n",
    "\n",
    "# Set Seaborn style\n",
    "sns.set_style('whitegrid')\n",
    "\n",
    "# Create the countplot\n",
    "plt.figure(figsize=(12, 8))\n",
    "ax = sns.countplot(x='Study Status', hue='Phases', data=balanced_data, palette='RdBu_r')\n",
    "\n",
    "# Adjust legend\n",
    "plt.legend(title='Phases', bbox_to_anchor=(1.05, 1), loc='upper left')\n",
    "plt.title('Study Status vs Phases', fontsize=16)\n",
    "plt.xlabel('Study Status', fontsize=14)\n",
    "plt.ylabel('Count', fontsize=14)\n",
    "plt.xticks(rotation=45)\n",
    "plt.tight_layout()\n",
    "\n",
    "# Display the plot\n",
    "plt.show()"
   ]
  },
  {
   "cell_type": "code",
   "execution_count": 80,
   "metadata": {
    "execution": {
     "iopub.execute_input": "2025-09-19T17:40:58.354439Z",
     "iopub.status.busy": "2025-09-19T17:40:58.354116Z",
     "iopub.status.idle": "2025-09-19T17:40:58.365343Z",
     "shell.execute_reply": "2025-09-19T17:40:58.364489Z",
     "shell.execute_reply.started": "2025-09-19T17:40:58.354416Z"
    }
   },
   "outputs": [
    {
     "name": "stdout",
     "output_type": "stream",
     "text": [
      "Study Status   1.00\n",
      "Enrollment     0.38\n",
      "Name: Study Status, dtype: float64\n"
     ]
    }
   ],
   "source": [
    "# Select relevant columns for the correlation matrix\n",
    "correlation_columns = ['Enrollment', 'Study Status']\n",
    "\n",
    "# Compute the correlation matrix\n",
    "correlation_matrix = encoded_data[correlation_columns].corr()\n",
    "\n",
    "# Print the correlation of each feature with 'Study Status', sorted in descending order\n",
    "print(correlation_matrix[\"Study Status\"].sort_values(ascending=False))"
   ]
  },
  {
   "cell_type": "markdown",
   "metadata": {},
   "source": [
    "**TRAIN TEST SPLIT (80-20)**"
   ]
  },
  {
   "cell_type": "code",
   "execution_count": 81,
   "metadata": {
    "execution": {
     "iopub.execute_input": "2025-09-19T17:41:02.835095Z",
     "iopub.status.busy": "2025-09-19T17:41:02.834785Z",
     "iopub.status.idle": "2025-09-19T17:41:02.888432Z",
     "shell.execute_reply": "2025-09-19T17:41:02.887467Z",
     "shell.execute_reply.started": "2025-09-19T17:41:02.835070Z"
    }
   },
   "outputs": [],
   "source": [
    "from sklearn.model_selection import train_test_split\n",
    "from sklearn.preprocessing import StandardScaler\n",
    "\n",
    "\n",
    "\n",
    "# Define X and y based on the resampled data\n",
    "X = encoded_data.drop(columns=['Study Status'])  # Features\n",
    "y = encoded_data['Study Status']  # Target\n",
    "\n",
    "# Splitting the data into training and testing sets\n",
    "X_train, X_test, y_train, y_test = train_test_split(\n",
    "    X, y, test_size=0.2, random_state=42,stratify=y\n",
    ")"
   ]
  },
  {
   "cell_type": "code",
   "execution_count": 82,
   "metadata": {
    "execution": {
     "iopub.execute_input": "2025-09-19T17:41:06.743495Z",
     "iopub.status.busy": "2025-09-19T17:41:06.743172Z",
     "iopub.status.idle": "2025-09-19T17:41:06.748740Z",
     "shell.execute_reply": "2025-09-19T17:41:06.747837Z",
     "shell.execute_reply.started": "2025-09-19T17:41:06.743451Z"
    }
   },
   "outputs": [
    {
     "data": {
      "text/plain": [
       "(102927, 11)"
      ]
     },
     "execution_count": 82,
     "metadata": {},
     "output_type": "execute_result"
    }
   ],
   "source": [
    "X_train.shape"
   ]
  },
  {
   "cell_type": "code",
   "execution_count": 83,
   "metadata": {
    "execution": {
     "iopub.execute_input": "2025-09-19T17:41:08.285449Z",
     "iopub.status.busy": "2025-09-19T17:41:08.285053Z",
     "iopub.status.idle": "2025-09-19T17:41:08.290483Z",
     "shell.execute_reply": "2025-09-19T17:41:08.289679Z",
     "shell.execute_reply.started": "2025-09-19T17:41:08.285415Z"
    }
   },
   "outputs": [
    {
     "data": {
      "text/plain": [
       "(25732, 11)"
      ]
     },
     "execution_count": 83,
     "metadata": {},
     "output_type": "execute_result"
    }
   ],
   "source": [
    "X_test.shape"
   ]
  },
  {
   "cell_type": "code",
   "execution_count": 84,
   "metadata": {
    "execution": {
     "iopub.execute_input": "2025-09-19T17:41:11.884844Z",
     "iopub.status.busy": "2025-09-19T17:41:11.884394Z",
     "iopub.status.idle": "2025-09-19T17:41:11.891738Z",
     "shell.execute_reply": "2025-09-19T17:41:11.890864Z",
     "shell.execute_reply.started": "2025-09-19T17:41:11.884814Z"
    }
   },
   "outputs": [
    {
     "data": {
      "text/plain": [
       "Study Status\n",
       "1    84361\n",
       "0    18566\n",
       "Name: count, dtype: int64"
      ]
     },
     "execution_count": 84,
     "metadata": {},
     "output_type": "execute_result"
    }
   ],
   "source": [
    "y_train.value_counts()"
   ]
  },
  {
   "cell_type": "markdown",
   "metadata": {},
   "source": [
    "**Using SMOTENC to oversample the minority class (here, NOT COMPLETED) to remove biasness**"
   ]
  },
  {
   "cell_type": "code",
   "execution_count": 85,
   "metadata": {
    "execution": {
     "iopub.execute_input": "2025-09-19T17:41:17.687624Z",
     "iopub.status.busy": "2025-09-19T17:41:17.687277Z",
     "iopub.status.idle": "2025-09-19T17:41:46.632493Z",
     "shell.execute_reply": "2025-09-19T17:41:46.631697Z",
     "shell.execute_reply.started": "2025-09-19T17:41:17.687596Z"
    }
   },
   "outputs": [
    {
     "data": {
      "text/plain": [
       "Study Status\n",
       "1    84361\n",
       "0    84361\n",
       "Name: count, dtype: int64"
      ]
     },
     "execution_count": 85,
     "metadata": {},
     "output_type": "execute_result"
    }
   ],
   "source": [
    "from imblearn.over_sampling import SMOTENC\n",
    "\n",
    "# Assume encoded_data is your dataset with the specified columns\n",
    "# Identify categorical and numerical columns\n",
    "categorical_columns = [ 'Study Results', 'Sex', 'Age', 'Funder Type', 'Phases', 'Study Type','Allocation', 'Intervention Model', 'Masking', 'Primary Purpose']\n",
    "numerical_columns = ['Enrollment']\n",
    "\n",
    "# Separate features (X) and target (y)\n",
    "X = X_train[categorical_columns + numerical_columns]\n",
    "y = y_train  # Assuming Study Status is the target\n",
    "\n",
    "# Identify categorical feature indices (based on X.columns)\n",
    "categorical_feature_indices = [X.columns.get_loc(col) for col in categorical_columns]\n",
    "\n",
    "# Apply SMOTENC to handle both categorical and numerical data\n",
    "smotenc = SMOTENC(categorical_features=categorical_feature_indices, random_state=42)\n",
    "X_resampled, y_resampled = smotenc.fit_resample(X, y)\n",
    "\n",
    "# Display the resampled dataset\n",
    "X_resampled.head()\n",
    "X_train= X_resampled\n",
    "y_train = y_resampled\n",
    "y_train.value_counts()"
   ]
  },
  {
   "cell_type": "code",
   "execution_count": 86,
   "metadata": {
    "execution": {
     "iopub.execute_input": "2025-09-19T17:42:16.321432Z",
     "iopub.status.busy": "2025-09-19T17:42:16.320985Z",
     "iopub.status.idle": "2025-09-19T17:42:16.330978Z",
     "shell.execute_reply": "2025-09-19T17:42:16.330088Z",
     "shell.execute_reply.started": "2025-09-19T17:42:16.321408Z"
    }
   },
   "outputs": [
    {
     "data": {
      "text/html": [
       "<div>\n",
       "<style scoped>\n",
       "    .dataframe tbody tr th:only-of-type {\n",
       "        vertical-align: middle;\n",
       "    }\n",
       "\n",
       "    .dataframe tbody tr th {\n",
       "        vertical-align: top;\n",
       "    }\n",
       "\n",
       "    .dataframe thead th {\n",
       "        text-align: right;\n",
       "    }\n",
       "</style>\n",
       "<table border=\"1\" class=\"dataframe\">\n",
       "  <thead>\n",
       "    <tr style=\"text-align: right;\">\n",
       "      <th></th>\n",
       "      <th>Study Results</th>\n",
       "      <th>Sex</th>\n",
       "      <th>Age</th>\n",
       "      <th>Funder Type</th>\n",
       "      <th>Phases</th>\n",
       "      <th>Study Type</th>\n",
       "      <th>Allocation</th>\n",
       "      <th>Intervention Model</th>\n",
       "      <th>Masking</th>\n",
       "      <th>Primary Purpose</th>\n",
       "      <th>Enrollment</th>\n",
       "    </tr>\n",
       "  </thead>\n",
       "  <tbody>\n",
       "    <tr>\n",
       "      <th>0</th>\n",
       "      <td>2</td>\n",
       "      <td>0</td>\n",
       "      <td>1</td>\n",
       "      <td>2</td>\n",
       "      <td>7</td>\n",
       "      <td>0</td>\n",
       "      <td>1</td>\n",
       "      <td>2</td>\n",
       "      <td>7</td>\n",
       "      <td>9</td>\n",
       "      <td>9.33</td>\n",
       "    </tr>\n",
       "    <tr>\n",
       "      <th>1</th>\n",
       "      <td>0</td>\n",
       "      <td>0</td>\n",
       "      <td>3</td>\n",
       "      <td>6</td>\n",
       "      <td>7</td>\n",
       "      <td>0</td>\n",
       "      <td>1</td>\n",
       "      <td>2</td>\n",
       "      <td>0</td>\n",
       "      <td>9</td>\n",
       "      <td>8.25</td>\n",
       "    </tr>\n",
       "    <tr>\n",
       "      <th>2</th>\n",
       "      <td>0</td>\n",
       "      <td>0</td>\n",
       "      <td>3</td>\n",
       "      <td>6</td>\n",
       "      <td>3</td>\n",
       "      <td>0</td>\n",
       "      <td>1</td>\n",
       "      <td>1</td>\n",
       "      <td>7</td>\n",
       "      <td>9</td>\n",
       "      <td>17.20</td>\n",
       "    </tr>\n",
       "    <tr>\n",
       "      <th>3</th>\n",
       "      <td>0</td>\n",
       "      <td>0</td>\n",
       "      <td>1</td>\n",
       "      <td>3</td>\n",
       "      <td>6</td>\n",
       "      <td>0</td>\n",
       "      <td>1</td>\n",
       "      <td>2</td>\n",
       "      <td>17</td>\n",
       "      <td>9</td>\n",
       "      <td>8.66</td>\n",
       "    </tr>\n",
       "    <tr>\n",
       "      <th>4</th>\n",
       "      <td>0</td>\n",
       "      <td>0</td>\n",
       "      <td>1</td>\n",
       "      <td>3</td>\n",
       "      <td>2</td>\n",
       "      <td>0</td>\n",
       "      <td>2</td>\n",
       "      <td>4</td>\n",
       "      <td>7</td>\n",
       "      <td>9</td>\n",
       "      <td>3.46</td>\n",
       "    </tr>\n",
       "  </tbody>\n",
       "</table>\n",
       "</div>"
      ],
      "text/plain": [
       "   Study Results  Sex  Age  Funder Type  Phases  Study Type  Allocation  \\\n",
       "0              2    0    1            2       7           0           1   \n",
       "1              0    0    3            6       7           0           1   \n",
       "2              0    0    3            6       3           0           1   \n",
       "3              0    0    1            3       6           0           1   \n",
       "4              0    0    1            3       2           0           2   \n",
       "\n",
       "   Intervention Model  Masking  Primary Purpose  Enrollment  \n",
       "0                   2        7                9        9.33  \n",
       "1                   2        0                9        8.25  \n",
       "2                   1        7                9       17.20  \n",
       "3                   2       17                9        8.66  \n",
       "4                   4        7                9        3.46  "
      ]
     },
     "execution_count": 86,
     "metadata": {},
     "output_type": "execute_result"
    }
   ],
   "source": [
    "X_train.head()"
   ]
  },
  {
   "cell_type": "code",
   "execution_count": 87,
   "metadata": {
    "execution": {
     "iopub.execute_input": "2025-09-19T17:42:18.759801Z",
     "iopub.status.busy": "2025-09-19T17:42:18.759495Z",
     "iopub.status.idle": "2025-09-19T17:42:18.769371Z",
     "shell.execute_reply": "2025-09-19T17:42:18.768658Z",
     "shell.execute_reply.started": "2025-09-19T17:42:18.759778Z"
    }
   },
   "outputs": [
    {
     "data": {
      "text/html": [
       "<div>\n",
       "<style scoped>\n",
       "    .dataframe tbody tr th:only-of-type {\n",
       "        vertical-align: middle;\n",
       "    }\n",
       "\n",
       "    .dataframe tbody tr th {\n",
       "        vertical-align: top;\n",
       "    }\n",
       "\n",
       "    .dataframe thead th {\n",
       "        text-align: right;\n",
       "    }\n",
       "</style>\n",
       "<table border=\"1\" class=\"dataframe\">\n",
       "  <thead>\n",
       "    <tr style=\"text-align: right;\">\n",
       "      <th></th>\n",
       "      <th>Study Results</th>\n",
       "      <th>Sex</th>\n",
       "      <th>Age</th>\n",
       "      <th>Funder Type</th>\n",
       "      <th>Phases</th>\n",
       "      <th>Enrollment</th>\n",
       "      <th>Study Type</th>\n",
       "      <th>Allocation</th>\n",
       "      <th>Intervention Model</th>\n",
       "      <th>Masking</th>\n",
       "      <th>Primary Purpose</th>\n",
       "    </tr>\n",
       "  </thead>\n",
       "  <tbody>\n",
       "    <tr>\n",
       "      <th>201829</th>\n",
       "      <td>2</td>\n",
       "      <td>0</td>\n",
       "      <td>2</td>\n",
       "      <td>3</td>\n",
       "      <td>1</td>\n",
       "      <td>5.29</td>\n",
       "      <td>0</td>\n",
       "      <td>2</td>\n",
       "      <td>4</td>\n",
       "      <td>7</td>\n",
       "      <td>9</td>\n",
       "    </tr>\n",
       "    <tr>\n",
       "      <th>95910</th>\n",
       "      <td>0</td>\n",
       "      <td>0</td>\n",
       "      <td>2</td>\n",
       "      <td>6</td>\n",
       "      <td>1</td>\n",
       "      <td>4.12</td>\n",
       "      <td>0</td>\n",
       "      <td>1</td>\n",
       "      <td>0</td>\n",
       "      <td>16</td>\n",
       "      <td>9</td>\n",
       "    </tr>\n",
       "    <tr>\n",
       "      <th>108993</th>\n",
       "      <td>0</td>\n",
       "      <td>0</td>\n",
       "      <td>1</td>\n",
       "      <td>6</td>\n",
       "      <td>2</td>\n",
       "      <td>2.24</td>\n",
       "      <td>0</td>\n",
       "      <td>2</td>\n",
       "      <td>4</td>\n",
       "      <td>7</td>\n",
       "      <td>9</td>\n",
       "    </tr>\n",
       "    <tr>\n",
       "      <th>152497</th>\n",
       "      <td>0</td>\n",
       "      <td>2</td>\n",
       "      <td>1</td>\n",
       "      <td>3</td>\n",
       "      <td>6</td>\n",
       "      <td>7.07</td>\n",
       "      <td>0</td>\n",
       "      <td>1</td>\n",
       "      <td>2</td>\n",
       "      <td>0</td>\n",
       "      <td>9</td>\n",
       "    </tr>\n",
       "    <tr>\n",
       "      <th>235450</th>\n",
       "      <td>0</td>\n",
       "      <td>0</td>\n",
       "      <td>1</td>\n",
       "      <td>6</td>\n",
       "      <td>3</td>\n",
       "      <td>11.83</td>\n",
       "      <td>0</td>\n",
       "      <td>1</td>\n",
       "      <td>2</td>\n",
       "      <td>7</td>\n",
       "      <td>9</td>\n",
       "    </tr>\n",
       "  </tbody>\n",
       "</table>\n",
       "</div>"
      ],
      "text/plain": [
       "        Study Results  Sex  Age  Funder Type  Phases  Enrollment  Study Type  \\\n",
       "201829              2    0    2            3       1        5.29           0   \n",
       "95910               0    0    2            6       1        4.12           0   \n",
       "108993              0    0    1            6       2        2.24           0   \n",
       "152497              0    2    1            3       6        7.07           0   \n",
       "235450              0    0    1            6       3       11.83           0   \n",
       "\n",
       "        Allocation  Intervention Model  Masking  Primary Purpose  \n",
       "201829           2                   4        7                9  \n",
       "95910            1                   0       16                9  \n",
       "108993           2                   4        7                9  \n",
       "152497           1                   2        0                9  \n",
       "235450           1                   2        7                9  "
      ]
     },
     "execution_count": 87,
     "metadata": {},
     "output_type": "execute_result"
    }
   ],
   "source": [
    "X_test.head()"
   ]
  },
  {
   "cell_type": "code",
   "execution_count": 88,
   "metadata": {
    "execution": {
     "iopub.execute_input": "2025-09-19T17:42:33.438166Z",
     "iopub.status.busy": "2025-09-19T17:42:33.437874Z",
     "iopub.status.idle": "2025-09-19T17:42:33.455959Z",
     "shell.execute_reply": "2025-09-19T17:42:33.455069Z",
     "shell.execute_reply.started": "2025-09-19T17:42:33.438145Z"
    }
   },
   "outputs": [
    {
     "data": {
      "text/html": [
       "<div>\n",
       "<style scoped>\n",
       "    .dataframe tbody tr th:only-of-type {\n",
       "        vertical-align: middle;\n",
       "    }\n",
       "\n",
       "    .dataframe tbody tr th {\n",
       "        vertical-align: top;\n",
       "    }\n",
       "\n",
       "    .dataframe thead th {\n",
       "        text-align: right;\n",
       "    }\n",
       "</style>\n",
       "<table border=\"1\" class=\"dataframe\">\n",
       "  <thead>\n",
       "    <tr style=\"text-align: right;\">\n",
       "      <th></th>\n",
       "      <th>Study Results</th>\n",
       "      <th>Sex</th>\n",
       "      <th>Age</th>\n",
       "      <th>Funder Type</th>\n",
       "      <th>Phases</th>\n",
       "      <th>Enrollment</th>\n",
       "      <th>Study Type</th>\n",
       "      <th>Allocation</th>\n",
       "      <th>Intervention Model</th>\n",
       "      <th>Masking</th>\n",
       "      <th>Primary Purpose</th>\n",
       "    </tr>\n",
       "  </thead>\n",
       "  <tbody>\n",
       "    <tr>\n",
       "      <th>0</th>\n",
       "      <td>2</td>\n",
       "      <td>0</td>\n",
       "      <td>1</td>\n",
       "      <td>2</td>\n",
       "      <td>7</td>\n",
       "      <td>9.33</td>\n",
       "      <td>0</td>\n",
       "      <td>1</td>\n",
       "      <td>2</td>\n",
       "      <td>7</td>\n",
       "      <td>9</td>\n",
       "    </tr>\n",
       "    <tr>\n",
       "      <th>1</th>\n",
       "      <td>0</td>\n",
       "      <td>0</td>\n",
       "      <td>3</td>\n",
       "      <td>6</td>\n",
       "      <td>7</td>\n",
       "      <td>8.25</td>\n",
       "      <td>0</td>\n",
       "      <td>1</td>\n",
       "      <td>2</td>\n",
       "      <td>0</td>\n",
       "      <td>9</td>\n",
       "    </tr>\n",
       "    <tr>\n",
       "      <th>2</th>\n",
       "      <td>0</td>\n",
       "      <td>0</td>\n",
       "      <td>3</td>\n",
       "      <td>6</td>\n",
       "      <td>3</td>\n",
       "      <td>17.20</td>\n",
       "      <td>0</td>\n",
       "      <td>1</td>\n",
       "      <td>1</td>\n",
       "      <td>7</td>\n",
       "      <td>9</td>\n",
       "    </tr>\n",
       "    <tr>\n",
       "      <th>3</th>\n",
       "      <td>0</td>\n",
       "      <td>0</td>\n",
       "      <td>1</td>\n",
       "      <td>3</td>\n",
       "      <td>6</td>\n",
       "      <td>8.66</td>\n",
       "      <td>0</td>\n",
       "      <td>1</td>\n",
       "      <td>2</td>\n",
       "      <td>17</td>\n",
       "      <td>9</td>\n",
       "    </tr>\n",
       "    <tr>\n",
       "      <th>4</th>\n",
       "      <td>0</td>\n",
       "      <td>0</td>\n",
       "      <td>1</td>\n",
       "      <td>3</td>\n",
       "      <td>2</td>\n",
       "      <td>3.46</td>\n",
       "      <td>0</td>\n",
       "      <td>2</td>\n",
       "      <td>4</td>\n",
       "      <td>7</td>\n",
       "      <td>9</td>\n",
       "    </tr>\n",
       "  </tbody>\n",
       "</table>\n",
       "</div>"
      ],
      "text/plain": [
       "   Study Results  Sex  Age  Funder Type  Phases  Enrollment  Study Type  \\\n",
       "0              2    0    1            2       7        9.33           0   \n",
       "1              0    0    3            6       7        8.25           0   \n",
       "2              0    0    3            6       3       17.20           0   \n",
       "3              0    0    1            3       6        8.66           0   \n",
       "4              0    0    1            3       2        3.46           0   \n",
       "\n",
       "   Allocation  Intervention Model  Masking  Primary Purpose  \n",
       "0           1                   2        7                9  \n",
       "1           1                   2        0                9  \n",
       "2           1                   1        7                9  \n",
       "3           1                   2       17                9  \n",
       "4           2                   4        7                9  "
      ]
     },
     "execution_count": 88,
     "metadata": {},
     "output_type": "execute_result"
    }
   ],
   "source": [
    "# Define the correct column order\n",
    "correct_order = [\n",
    "    'Study Results', 'Sex', 'Age', 'Funder Type', 'Phases', 'Enrollment',\n",
    "    'Study Type', 'Allocation', 'Intervention Model', 'Masking', 'Primary Purpose'\n",
    "]\n",
    "\n",
    "# Reorder the columns in X_train\n",
    "X_train = X_train[correct_order]\n",
    "\n",
    "# Verify the new order\n",
    "X_train.head()"
   ]
  },
  {
   "cell_type": "code",
   "execution_count": 89,
   "metadata": {
    "execution": {
     "iopub.execute_input": "2025-09-19T17:42:36.870052Z",
     "iopub.status.busy": "2025-09-19T17:42:36.869774Z",
     "iopub.status.idle": "2025-09-19T17:42:36.897338Z",
     "shell.execute_reply": "2025-09-19T17:42:36.896653Z",
     "shell.execute_reply.started": "2025-09-19T17:42:36.870031Z"
    }
   },
   "outputs": [],
   "source": [
    "from sklearn.preprocessing import StandardScaler\n",
    "\n",
    "scaler = StandardScaler()\n",
    "\n",
    "# Copy to avoid modifying original X_train/X_test\n",
    "X_train_scaled = X_train.copy()\n",
    "X_test_scaled = X_test.copy()\n",
    "\n",
    "# Scale only 'Enrollment'\n",
    "X_train_scaled['Enrollment'] = scaler.fit_transform(X_train[['Enrollment']])\n",
    "X_test_scaled['Enrollment'] = scaler.transform(X_test[['Enrollment']])"
   ]
  },
  {
   "cell_type": "markdown",
   "metadata": {},
   "source": [
    "**Saving the Standard Scaler for future reference**"
   ]
  },
  {
   "cell_type": "code",
   "execution_count": 90,
   "metadata": {
    "execution": {
     "iopub.execute_input": "2025-09-19T17:42:49.039251Z",
     "iopub.status.busy": "2025-09-19T17:42:49.038914Z",
     "iopub.status.idle": "2025-09-19T17:42:49.045871Z",
     "shell.execute_reply": "2025-09-19T17:42:49.045167Z",
     "shell.execute_reply.started": "2025-09-19T17:42:49.039222Z"
    }
   },
   "outputs": [
    {
     "data": {
      "text/plain": [
       "['scaler_enrollment.pkl']"
      ]
     },
     "execution_count": 90,
     "metadata": {},
     "output_type": "execute_result"
    }
   ],
   "source": [
    "import joblib\n",
    "joblib.dump(scaler, \"scaler_enrollment.pkl\")"
   ]
  },
  {
   "cell_type": "code",
   "execution_count": 91,
   "metadata": {
    "execution": {
     "iopub.execute_input": "2025-09-19T17:44:18.530826Z",
     "iopub.status.busy": "2025-09-19T17:44:18.530510Z",
     "iopub.status.idle": "2025-09-19T17:44:18.541626Z",
     "shell.execute_reply": "2025-09-19T17:44:18.540674Z",
     "shell.execute_reply.started": "2025-09-19T17:44:18.530806Z"
    }
   },
   "outputs": [
    {
     "data": {
      "text/html": [
       "<div>\n",
       "<style scoped>\n",
       "    .dataframe tbody tr th:only-of-type {\n",
       "        vertical-align: middle;\n",
       "    }\n",
       "\n",
       "    .dataframe tbody tr th {\n",
       "        vertical-align: top;\n",
       "    }\n",
       "\n",
       "    .dataframe thead th {\n",
       "        text-align: right;\n",
       "    }\n",
       "</style>\n",
       "<table border=\"1\" class=\"dataframe\">\n",
       "  <thead>\n",
       "    <tr style=\"text-align: right;\">\n",
       "      <th></th>\n",
       "      <th>Study Results</th>\n",
       "      <th>Sex</th>\n",
       "      <th>Age</th>\n",
       "      <th>Funder Type</th>\n",
       "      <th>Phases</th>\n",
       "      <th>Enrollment</th>\n",
       "      <th>Study Type</th>\n",
       "      <th>Allocation</th>\n",
       "      <th>Intervention Model</th>\n",
       "      <th>Masking</th>\n",
       "      <th>Primary Purpose</th>\n",
       "    </tr>\n",
       "  </thead>\n",
       "  <tbody>\n",
       "    <tr>\n",
       "      <th>0</th>\n",
       "      <td>2</td>\n",
       "      <td>0</td>\n",
       "      <td>1</td>\n",
       "      <td>2</td>\n",
       "      <td>7</td>\n",
       "      <td>0.73</td>\n",
       "      <td>0</td>\n",
       "      <td>1</td>\n",
       "      <td>2</td>\n",
       "      <td>7</td>\n",
       "      <td>9</td>\n",
       "    </tr>\n",
       "    <tr>\n",
       "      <th>1</th>\n",
       "      <td>0</td>\n",
       "      <td>0</td>\n",
       "      <td>3</td>\n",
       "      <td>6</td>\n",
       "      <td>7</td>\n",
       "      <td>0.49</td>\n",
       "      <td>0</td>\n",
       "      <td>1</td>\n",
       "      <td>2</td>\n",
       "      <td>0</td>\n",
       "      <td>9</td>\n",
       "    </tr>\n",
       "    <tr>\n",
       "      <th>2</th>\n",
       "      <td>0</td>\n",
       "      <td>0</td>\n",
       "      <td>3</td>\n",
       "      <td>6</td>\n",
       "      <td>3</td>\n",
       "      <td>2.45</td>\n",
       "      <td>0</td>\n",
       "      <td>1</td>\n",
       "      <td>1</td>\n",
       "      <td>7</td>\n",
       "      <td>9</td>\n",
       "    </tr>\n",
       "    <tr>\n",
       "      <th>3</th>\n",
       "      <td>0</td>\n",
       "      <td>0</td>\n",
       "      <td>1</td>\n",
       "      <td>3</td>\n",
       "      <td>6</td>\n",
       "      <td>0.58</td>\n",
       "      <td>0</td>\n",
       "      <td>1</td>\n",
       "      <td>2</td>\n",
       "      <td>17</td>\n",
       "      <td>9</td>\n",
       "    </tr>\n",
       "    <tr>\n",
       "      <th>4</th>\n",
       "      <td>0</td>\n",
       "      <td>0</td>\n",
       "      <td>1</td>\n",
       "      <td>3</td>\n",
       "      <td>2</td>\n",
       "      <td>-0.55</td>\n",
       "      <td>0</td>\n",
       "      <td>2</td>\n",
       "      <td>4</td>\n",
       "      <td>7</td>\n",
       "      <td>9</td>\n",
       "    </tr>\n",
       "  </tbody>\n",
       "</table>\n",
       "</div>"
      ],
      "text/plain": [
       "   Study Results  Sex  Age  Funder Type  Phases  Enrollment  Study Type  \\\n",
       "0              2    0    1            2       7        0.73           0   \n",
       "1              0    0    3            6       7        0.49           0   \n",
       "2              0    0    3            6       3        2.45           0   \n",
       "3              0    0    1            3       6        0.58           0   \n",
       "4              0    0    1            3       2       -0.55           0   \n",
       "\n",
       "   Allocation  Intervention Model  Masking  Primary Purpose  \n",
       "0           1                   2        7                9  \n",
       "1           1                   2        0                9  \n",
       "2           1                   1        7                9  \n",
       "3           1                   2       17                9  \n",
       "4           2                   4        7                9  "
      ]
     },
     "execution_count": 91,
     "metadata": {},
     "output_type": "execute_result"
    }
   ],
   "source": [
    "X_train_scaled.head()"
   ]
  },
  {
   "cell_type": "code",
   "execution_count": 92,
   "metadata": {
    "execution": {
     "iopub.execute_input": "2025-09-19T17:44:22.459903Z",
     "iopub.status.busy": "2025-09-19T17:44:22.459590Z",
     "iopub.status.idle": "2025-09-19T17:44:22.469575Z",
     "shell.execute_reply": "2025-09-19T17:44:22.468702Z",
     "shell.execute_reply.started": "2025-09-19T17:44:22.459876Z"
    }
   },
   "outputs": [
    {
     "data": {
      "text/html": [
       "<div>\n",
       "<style scoped>\n",
       "    .dataframe tbody tr th:only-of-type {\n",
       "        vertical-align: middle;\n",
       "    }\n",
       "\n",
       "    .dataframe tbody tr th {\n",
       "        vertical-align: top;\n",
       "    }\n",
       "\n",
       "    .dataframe thead th {\n",
       "        text-align: right;\n",
       "    }\n",
       "</style>\n",
       "<table border=\"1\" class=\"dataframe\">\n",
       "  <thead>\n",
       "    <tr style=\"text-align: right;\">\n",
       "      <th></th>\n",
       "      <th>Study Results</th>\n",
       "      <th>Sex</th>\n",
       "      <th>Age</th>\n",
       "      <th>Funder Type</th>\n",
       "      <th>Phases</th>\n",
       "      <th>Enrollment</th>\n",
       "      <th>Study Type</th>\n",
       "      <th>Allocation</th>\n",
       "      <th>Intervention Model</th>\n",
       "      <th>Masking</th>\n",
       "      <th>Primary Purpose</th>\n",
       "    </tr>\n",
       "  </thead>\n",
       "  <tbody>\n",
       "    <tr>\n",
       "      <th>201829</th>\n",
       "      <td>2</td>\n",
       "      <td>0</td>\n",
       "      <td>2</td>\n",
       "      <td>3</td>\n",
       "      <td>1</td>\n",
       "      <td>-0.15</td>\n",
       "      <td>0</td>\n",
       "      <td>2</td>\n",
       "      <td>4</td>\n",
       "      <td>7</td>\n",
       "      <td>9</td>\n",
       "    </tr>\n",
       "    <tr>\n",
       "      <th>95910</th>\n",
       "      <td>0</td>\n",
       "      <td>0</td>\n",
       "      <td>2</td>\n",
       "      <td>6</td>\n",
       "      <td>1</td>\n",
       "      <td>-0.41</td>\n",
       "      <td>0</td>\n",
       "      <td>1</td>\n",
       "      <td>0</td>\n",
       "      <td>16</td>\n",
       "      <td>9</td>\n",
       "    </tr>\n",
       "    <tr>\n",
       "      <th>108993</th>\n",
       "      <td>0</td>\n",
       "      <td>0</td>\n",
       "      <td>1</td>\n",
       "      <td>6</td>\n",
       "      <td>2</td>\n",
       "      <td>-0.82</td>\n",
       "      <td>0</td>\n",
       "      <td>2</td>\n",
       "      <td>4</td>\n",
       "      <td>7</td>\n",
       "      <td>9</td>\n",
       "    </tr>\n",
       "    <tr>\n",
       "      <th>152497</th>\n",
       "      <td>0</td>\n",
       "      <td>2</td>\n",
       "      <td>1</td>\n",
       "      <td>3</td>\n",
       "      <td>6</td>\n",
       "      <td>0.23</td>\n",
       "      <td>0</td>\n",
       "      <td>1</td>\n",
       "      <td>2</td>\n",
       "      <td>0</td>\n",
       "      <td>9</td>\n",
       "    </tr>\n",
       "    <tr>\n",
       "      <th>235450</th>\n",
       "      <td>0</td>\n",
       "      <td>0</td>\n",
       "      <td>1</td>\n",
       "      <td>6</td>\n",
       "      <td>3</td>\n",
       "      <td>1.28</td>\n",
       "      <td>0</td>\n",
       "      <td>1</td>\n",
       "      <td>2</td>\n",
       "      <td>7</td>\n",
       "      <td>9</td>\n",
       "    </tr>\n",
       "  </tbody>\n",
       "</table>\n",
       "</div>"
      ],
      "text/plain": [
       "        Study Results  Sex  Age  Funder Type  Phases  Enrollment  Study Type  \\\n",
       "201829              2    0    2            3       1       -0.15           0   \n",
       "95910               0    0    2            6       1       -0.41           0   \n",
       "108993              0    0    1            6       2       -0.82           0   \n",
       "152497              0    2    1            3       6        0.23           0   \n",
       "235450              0    0    1            6       3        1.28           0   \n",
       "\n",
       "        Allocation  Intervention Model  Masking  Primary Purpose  \n",
       "201829           2                   4        7                9  \n",
       "95910            1                   0       16                9  \n",
       "108993           2                   4        7                9  \n",
       "152497           1                   2        0                9  \n",
       "235450           1                   2        7                9  "
      ]
     },
     "execution_count": 92,
     "metadata": {},
     "output_type": "execute_result"
    }
   ],
   "source": [
    "X_test_scaled.head()"
   ]
  },
  {
   "cell_type": "markdown",
   "metadata": {},
   "source": [
    "**Training the RANDOM FOREST CLASSIFIER model**"
   ]
  },
  {
   "cell_type": "code",
   "execution_count": 93,
   "metadata": {
    "execution": {
     "iopub.execute_input": "2025-09-19T17:44:32.248491Z",
     "iopub.status.busy": "2025-09-19T17:44:32.248127Z",
     "iopub.status.idle": "2025-09-19T17:44:47.030920Z",
     "shell.execute_reply": "2025-09-19T17:44:47.029945Z",
     "shell.execute_reply.started": "2025-09-19T17:44:32.248443Z"
    }
   },
   "outputs": [
    {
     "name": "stdout",
     "output_type": "stream",
     "text": [
      "RandomForestClassifier with scaled data and class weight F1 Score: 0.858723345019631\n"
     ]
    }
   ],
   "source": [
    "from sklearn.ensemble import RandomForestClassifier\n",
    "from sklearn.metrics import f1_score\n",
    "\n",
    "# RandomForestClassifier with scaled data and class weight\n",
    "xg_rf_scaled = RandomForestClassifier(class_weight='balanced', random_state=42)\n",
    "xg_rf_scaled.fit(X_train_scaled, y_train)\n",
    "\n",
    "# Get predicted probabilities (output for positive class)\n",
    "y_probs_rf_scaled = xg_rf_scaled.predict_proba(X_test_scaled)[:, 1]\n",
    "\n",
    "# Apply threshold to convert probabilities into binary predictions\n",
    "threshold = 0.1\n",
    "y_pred_rf_scaled = (y_probs_rf_scaled > threshold).astype(int)\n",
    "\n",
    "# Calculate F1 score\n",
    "f1_rf_scaled = f1_score(y_test, y_pred_rf_scaled, average='weighted')\n",
    "print(\"RandomForestClassifier with scaled data and class weight F1 Score:\", f1_rf_scaled)"
   ]
  },
  {
   "cell_type": "markdown",
   "metadata": {},
   "source": [
    "**Saving the Random Forest Classsifier Model**"
   ]
  },
  {
   "cell_type": "code",
   "execution_count": 94,
   "metadata": {
    "execution": {
     "iopub.execute_input": "2025-09-19T17:44:53.889649Z",
     "iopub.status.busy": "2025-09-19T17:44:53.889296Z",
     "iopub.status.idle": "2025-09-19T17:44:54.614290Z",
     "shell.execute_reply": "2025-09-19T17:44:54.613209Z",
     "shell.execute_reply.started": "2025-09-19T17:44:53.889619Z"
    }
   },
   "outputs": [
    {
     "data": {
      "text/plain": [
       "['random_forest_model.joblib']"
      ]
     },
     "execution_count": 94,
     "metadata": {},
     "output_type": "execute_result"
    }
   ],
   "source": [
    "from joblib import dump\n",
    "\n",
    "dump(xg_rf_scaled, 'random_forest_model.joblib')"
   ]
  },
  {
   "cell_type": "code",
   "execution_count": 95,
   "metadata": {
    "execution": {
     "iopub.execute_input": "2025-09-19T17:45:01.354142Z",
     "iopub.status.busy": "2025-09-19T17:45:01.353833Z",
     "iopub.status.idle": "2025-09-19T17:45:01.365236Z",
     "shell.execute_reply": "2025-09-19T17:45:01.364223Z",
     "shell.execute_reply.started": "2025-09-19T17:45:01.354117Z"
    }
   },
   "outputs": [
    {
     "data": {
      "text/plain": [
       "0.9265513733468973"
      ]
     },
     "execution_count": 95,
     "metadata": {},
     "output_type": "execute_result"
    }
   ],
   "source": [
    "f1_binary = f1_score(y_test, y_pred_rf_scaled, average='binary')\n",
    "f1_binary"
   ]
  },
  {
   "cell_type": "code",
   "execution_count": 96,
   "metadata": {
    "execution": {
     "iopub.execute_input": "2025-09-19T17:45:14.950867Z",
     "iopub.status.busy": "2025-09-19T17:45:14.950548Z",
     "iopub.status.idle": "2025-09-19T17:45:15.735607Z",
     "shell.execute_reply": "2025-09-19T17:45:15.734652Z",
     "shell.execute_reply.started": "2025-09-19T17:45:14.950841Z"
    }
   },
   "outputs": [],
   "source": [
    "rf_preds_val = xg_rf_scaled.predict_proba(X_test_scaled)  # Probabilities from RandomForest"
   ]
  },
  {
   "cell_type": "code",
   "execution_count": 97,
   "metadata": {
    "execution": {
     "iopub.execute_input": "2025-09-19T17:45:19.485804Z",
     "iopub.status.busy": "2025-09-19T17:45:19.485493Z",
     "iopub.status.idle": "2025-09-19T17:45:19.492258Z",
     "shell.execute_reply": "2025-09-19T17:45:19.491407Z",
     "shell.execute_reply.started": "2025-09-19T17:45:19.485780Z"
    }
   },
   "outputs": [
    {
     "name": "stdout",
     "output_type": "stream",
     "text": [
      "X_train_scaled shape: (168722, 11)\n",
      "y_train shape: (168722,)\n",
      "X_test_scaled shape: (25732, 11)\n",
      "y_test shape: (25732,)\n"
     ]
    }
   ],
   "source": [
    "print(\"X_train_scaled shape:\", X_train_scaled.shape)\n",
    "print(\"y_train shape:\", y_train.shape)\n",
    "print(\"X_test_scaled shape:\", X_test_scaled.shape)\n",
    "print(\"y_test shape:\", y_test.shape)"
   ]
  },
  {
   "cell_type": "markdown",
   "metadata": {},
   "source": [
    "**Evaluation metrics for RF model**"
   ]
  },
  {
   "cell_type": "code",
   "execution_count": 98,
   "metadata": {
    "execution": {
     "iopub.execute_input": "2025-09-19T17:45:23.922777Z",
     "iopub.status.busy": "2025-09-19T17:45:23.922439Z",
     "iopub.status.idle": "2025-09-19T17:45:23.930391Z",
     "shell.execute_reply": "2025-09-19T17:45:23.929571Z",
     "shell.execute_reply.started": "2025-09-19T17:45:23.922753Z"
    }
   },
   "outputs": [
    {
     "data": {
      "text/plain": [
       "array([[ 1990,  2652],\n",
       "       [  597, 20493]])"
      ]
     },
     "execution_count": 98,
     "metadata": {},
     "output_type": "execute_result"
    }
   ],
   "source": [
    "from sklearn.metrics import confusion_matrix\n",
    "confusion_matrix(y_test, y_pred_rf_scaled)"
   ]
  },
  {
   "cell_type": "markdown",
   "metadata": {},
   "source": [
    "**PLot the Confusion matrix**"
   ]
  },
  {
   "cell_type": "code",
   "execution_count": 99,
   "metadata": {
    "execution": {
     "iopub.execute_input": "2025-09-19T17:45:28.143762Z",
     "iopub.status.busy": "2025-09-19T17:45:28.143417Z",
     "iopub.status.idle": "2025-09-19T17:45:28.260595Z",
     "shell.execute_reply": "2025-09-19T17:45:28.259782Z",
     "shell.execute_reply.started": "2025-09-19T17:45:28.143737Z"
    }
   },
   "outputs": [
    {
     "data": {
      "image/png": "[encoded data removed]",
      "text/plain": [
       "<Figure size 600x500 with 1 Axes>"
      ]
     },
     "metadata": {},
     "output_type": "display_data"
    }
   ],
   "source": [
    "import matplotlib.pyplot as plt\n",
    "import seaborn as sns\n",
    "from sklearn.metrics import confusion_matrix\n",
    "\n",
    "# y_test = true labels\n",
    "# y_pred_rf_scaled = predicted labels\n",
    "\n",
    "# Compute confusion matrix\n",
    "cm = confusion_matrix(y_test, y_pred_rf_scaled)\n",
    "\n",
    "# Get class names\n",
    "class_names = sorted(list(set(y_test)))\n",
    "\n",
    "# Plot\n",
    "plt.figure(figsize=(6,5))\n",
    "sns.heatmap(cm, annot=True, fmt='d', cmap='Blues', cbar=False,\n",
    "            xticklabels=class_names, yticklabels=class_names)\n",
    "\n",
    "plt.xlabel('Predicted')  # or 'Expected' if you prefer\n",
    "plt.ylabel('Actual')\n",
    "plt.title('Confusion Matrix')\n",
    "plt.show()"
   ]
  },
  {
   "cell_type": "code",
   "execution_count": 100,
   "metadata": {
    "execution": {
     "iopub.execute_input": "2025-09-19T17:45:31.976586Z",
     "iopub.status.busy": "2025-09-19T17:45:31.976227Z",
     "iopub.status.idle": "2025-09-19T17:45:31.986435Z",
     "shell.execute_reply": "2025-09-19T17:45:31.985619Z",
     "shell.execute_reply.started": "2025-09-19T17:45:31.976553Z"
    }
   },
   "outputs": [
    {
     "data": {
      "text/plain": [
       "0.8854180168502916"
      ]
     },
     "execution_count": 100,
     "metadata": {},
     "output_type": "execute_result"
    }
   ],
   "source": [
    "from sklearn.metrics import precision_score,recall_score\n",
    "precision_score(y_test,y_pred_rf_scaled)"
   ]
  },
  {
   "cell_type": "code",
   "execution_count": 101,
   "metadata": {
    "execution": {
     "iopub.execute_input": "2025-09-19T17:45:34.256962Z",
     "iopub.status.busy": "2025-09-19T17:45:34.256671Z",
     "iopub.status.idle": "2025-09-19T17:45:34.267162Z",
     "shell.execute_reply": "2025-09-19T17:45:34.266276Z",
     "shell.execute_reply.started": "2025-09-19T17:45:34.256940Z"
    }
   },
   "outputs": [
    {
     "data": {
      "text/plain": [
       "0.9716927453769559"
      ]
     },
     "execution_count": 101,
     "metadata": {},
     "output_type": "execute_result"
    }
   ],
   "source": [
    "recall_score(y_test,y_pred_rf_scaled)"
   ]
  },
  {
   "cell_type": "code",
   "execution_count": 102,
   "metadata": {
    "execution": {
     "iopub.execute_input": "2025-09-19T17:45:36.569961Z",
     "iopub.status.busy": "2025-09-19T17:45:36.569647Z",
     "iopub.status.idle": "2025-09-19T17:46:07.649577Z",
     "shell.execute_reply": "2025-09-19T17:46:07.648804Z",
     "shell.execute_reply.started": "2025-09-19T17:45:36.569939Z"
    }
   },
   "outputs": [
    {
     "data": {
      "image/png": "[encoded data removed]",
      "text/plain": [
       "<Figure size 640x480 with 1 Axes>"
      ]
     },
     "metadata": {},
     "output_type": "display_data"
    }
   ],
   "source": [
    "from sklearn.ensemble import RandomForestClassifier\n",
    "from sklearn.model_selection import cross_val_predict\n",
    "from sklearn.metrics import roc_curve\n",
    "import matplotlib.pyplot as plt\n",
    "\n",
    "def plot_roc_curve(fpr, tpr, label=None):\n",
    "    plt.plot(fpr, tpr, linewidth=2, label=label)\n",
    "    plt.plot([0, 1], [0, 1], 'k--')  # Dashed diagonal for reference\n",
    "    plt.xlabel(\"False Positive Rate (FPR)\")\n",
    "    plt.ylabel(\"True Positive Rate (TPR)\")\n",
    "    plt.title(\"ROC Curve\")\n",
    "    plt.grid()\n",
    "\n",
    "# Train the Random Forest model\n",
    "forest_clf = RandomForestClassifier(random_state=42)\n",
    "y_probas_forest = cross_val_predict(forest_clf, X_train_scaled, y_train, cv=3, method=\"predict_proba\")\n",
    "\n",
    "# Extract scores and calculate ROC curve\n",
    "y_scores_forest = y_probas_forest[:, 1]\n",
    "fpr_forest, tpr_forest, thresholds_forest = roc_curve(y_train, y_scores_forest)\n",
    "\n",
    "# Plot the ROC curve\n",
    "plot_roc_curve(fpr_forest, tpr_forest, \"Random Forest\")\n",
    "plt.legend(loc=\"lower right\")\n",
    "plt.show()\n"
   ]
  },
  {
   "cell_type": "code",
   "execution_count": 103,
   "metadata": {
    "execution": {
     "iopub.execute_input": "2025-09-19T17:46:07.650933Z",
     "iopub.status.busy": "2025-09-19T17:46:07.650615Z",
     "iopub.status.idle": "2025-09-19T17:46:07.682263Z",
     "shell.execute_reply": "2025-09-19T17:46:07.681540Z",
     "shell.execute_reply.started": "2025-09-19T17:46:07.650909Z"
    }
   },
   "outputs": [
    {
     "data": {
      "text/plain": [
       "0.9121772480033946"
      ]
     },
     "execution_count": 103,
     "metadata": {},
     "output_type": "execute_result"
    }
   ],
   "source": [
    "from sklearn.metrics import roc_auc_score\n",
    "roc_auc_score(y_train,y_scores_forest)"
   ]
  },
  {
   "cell_type": "markdown",
   "metadata": {},
   "source": [
    "### **HANDLING THE TEXTUAL COLUMNS**"
   ]
  },
  {
   "cell_type": "code",
   "execution_count": 79,
   "metadata": {
    "execution": {
     "iopub.execute_input": "2025-09-19T06:45:02.375942Z",
     "iopub.status.busy": "2025-09-19T06:45:02.375698Z",
     "iopub.status.idle": "2025-09-19T06:45:02.391480Z",
     "shell.execute_reply": "2025-09-19T06:45:02.390429Z",
     "shell.execute_reply.started": "2025-09-19T06:45:02.375921Z"
    }
   },
   "outputs": [
    {
     "data": {
      "text/plain": [
       "Phases\n",
       "Unknown          30000\n",
       "PHASE2           29570\n",
       "PHASE1           26486\n",
       "PHASE4           16244\n",
       "PHASE3           14339\n",
       "PHASE1|PHASE2     6908\n",
       "PHASE2|PHASE3     2961\n",
       "EARLY_PHASE1      2151\n",
       "Name: count, dtype: int64"
      ]
     },
     "execution_count": 79,
     "metadata": {},
     "output_type": "execute_result"
    }
   ],
   "source": [
    "balanced_data[\"Phases\"].value_counts()"
   ]
  },
  {
   "cell_type": "code",
   "execution_count": 80,
   "metadata": {
    "execution": {
     "iopub.execute_input": "2025-09-19T06:45:02.392618Z",
     "iopub.status.busy": "2025-09-19T06:45:02.392311Z",
     "iopub.status.idle": "2025-09-19T06:45:02.407194Z",
     "shell.execute_reply": "2025-09-19T06:45:02.406328Z",
     "shell.execute_reply.started": "2025-09-19T06:45:02.392596Z"
    }
   },
   "outputs": [
    {
     "data": {
      "text/plain": [
       "(128659, 17)"
      ]
     },
     "execution_count": 80,
     "metadata": {},
     "output_type": "execute_result"
    }
   ],
   "source": [
    "balanced_data.shape"
   ]
  },
  {
   "cell_type": "code",
   "execution_count": 81,
   "metadata": {
    "execution": {
     "iopub.execute_input": "2025-09-19T06:45:02.408442Z",
     "iopub.status.busy": "2025-09-19T06:45:02.408143Z",
     "iopub.status.idle": "2025-09-19T06:47:00.060678Z",
     "shell.execute_reply": "2025-09-19T06:47:00.059766Z",
     "shell.execute_reply.started": "2025-09-19T06:45:02.408415Z"
    }
   },
   "outputs": [
    {
     "data": {
      "application/vnd.jupyter.widget-view+json": {
       "model_id": "603719462b0145f283e92e118f345663",
       "version_major": 2,
       "version_minor": 0
      },
      "text/plain": [
       "config.json:   0%|          | 0.00/385 [00:00<?, ?B/s]"
      ]
     },
     "metadata": {},
     "output_type": "display_data"
    },
    {
     "data": {
      "application/vnd.jupyter.widget-view+json": {
       "model_id": "f574ddc526194f3cb800e7a4e9902b2b",
       "version_major": 2,
       "version_minor": 0
      },
      "text/plain": [
       "vocab.txt: 0.00B [00:00, ?B/s]"
      ]
     },
     "metadata": {},
     "output_type": "display_data"
    },
    {
     "name": "stdout",
     "output_type": "stream",
     "text": [
      "Max token length: 39203\n",
      "Mean token length: 112.21869904165274\n",
      "90th percentile: 245.0\n"
     ]
    }
   ],
   "source": [
    "import pandas as pd\n",
    "from transformers import AutoTokenizer\n",
    "import torch\n",
    "\n",
    "# Load pre-trained BioBERT tokenizer\n",
    "tokenizer = AutoTokenizer.from_pretrained(\"emilyalsentzer/Bio_ClinicalBERT\")\n",
    "\n",
    "# Textual columns in your dataset\n",
    "textual_columns = [\n",
    "    \"Brief Summary\",\n",
    "    \"Conditions\",\n",
    "    \"Interventions\",\n",
    "    \"Primary Outcome Measures\",\n",
    "    \"Secondary Outcome Measures\"\n",
    "]\n",
    "\n",
    "\n",
    "# Analyze token lengths\n",
    "token_lengths = []\n",
    "for col in textual_columns:\n",
    "    tokenized = tokenizer(balanced_data[col].dropna().tolist(), truncation=False, return_length=True)\n",
    "    token_lengths.extend(tokenized[\"length\"])\n",
    "\n",
    "# Display statistics\n",
    "import numpy as np\n",
    "print(\"Max token length:\", np.max(token_lengths))\n",
    "print(\"Mean token length:\", np.mean(token_lengths))\n",
    "print(\"90th percentile:\", np.percentile(token_lengths, 90))\n"
   ]
  },
  {
   "cell_type": "code",
   "execution_count": 82,
   "metadata": {
    "execution": {
     "iopub.execute_input": "2025-09-19T06:47:00.062072Z",
     "iopub.status.busy": "2025-09-19T06:47:00.061593Z",
     "iopub.status.idle": "2025-09-19T06:47:00.065783Z",
     "shell.execute_reply": "2025-09-19T06:47:00.064821Z",
     "shell.execute_reply.started": "2025-09-19T06:47:00.062045Z"
    }
   },
   "outputs": [],
   "source": [
    "# Textual columns in the dataset\n",
    "textual_columns = [\n",
    "    \"Brief Summary\",\n",
    "    \"Conditions\",\n",
    "    \"Interventions\",\n",
    "    \"Primary Outcome Measures\",\n",
    "    \"Secondary Outcome Measures\"\n",
    "]\n"
   ]
  },
  {
   "cell_type": "markdown",
   "metadata": {},
   "source": [
    "**TOKENIZATION OF TEXTUAL COLUMNS**"
   ]
  },
  {
   "cell_type": "code",
   "execution_count": 83,
   "metadata": {
    "execution": {
     "iopub.execute_input": "2025-09-19T06:47:00.066898Z",
     "iopub.status.busy": "2025-09-19T06:47:00.066674Z",
     "iopub.status.idle": "2025-09-19T06:50:54.012317Z",
     "shell.execute_reply": "2025-09-19T06:50:54.010890Z",
     "shell.execute_reply.started": "2025-09-19T06:47:00.066878Z"
    }
   },
   "outputs": [
    {
     "name": "stdout",
     "output_type": "stream",
     "text": [
      "Tokenizing column: Brief Summary in batches\n",
      "Tokenized column: Brief Summary\n",
      "Tokenizing column: Conditions in batches\n",
      "Tokenized column: Conditions\n",
      "Tokenizing column: Interventions in batches\n",
      "Tokenized column: Interventions\n",
      "Tokenizing column: Primary Outcome Measures in batches\n",
      "Tokenized column: Primary Outcome Measures\n",
      "Tokenizing column: Secondary Outcome Measures in batches\n",
      "Tokenized column: Secondary Outcome Measures\n",
      "Tokenized 'Interventions':\n",
      "Input IDs: tensor([[  101,  1185,  1869,  2136,   102,     0,     0,     0,     0,     0,\n",
      "             0,     0,     0,     0,     0,     0,     0,     0,     0,     0,\n",
      "             0,     0,     0,     0,     0,     0,     0,     0,     0,     0,\n",
      "             0,     0,     0,     0,     0,     0,     0,     0,     0,     0,\n",
      "             0,     0,     0,     0,     0,     0,     0,     0,     0,     0,\n",
      "             0,     0,     0,     0,     0,     0,     0,     0,     0,     0,\n",
      "             0,     0,     0,     0,     0,     0,     0,     0,     0,     0,\n",
      "             0,     0,     0,     0,     0,     0,     0,     0,     0,     0,\n",
      "             0,     0,     0,     0,     0,     0,     0,     0,     0,     0,\n",
      "             0,     0,     0,     0,     0,     0,     0,     0,     0,     0,\n",
      "             0,     0,     0,     0,     0,     0,     0,     0,     0,     0,\n",
      "             0,     0,     0,     0,     0,     0,     0,     0,     0,     0,\n",
      "             0,     0,     0,     0,     0,     0,     0,     0,     0,     0,\n",
      "             0,     0,     0,     0,     0,     0,     0,     0,     0,     0,\n",
      "             0,     0,     0,     0,     0,     0,     0,     0,     0,     0,\n",
      "             0,     0,     0,     0,     0,     0,     0,     0,     0,     0,\n",
      "             0,     0,     0,     0,     0,     0,     0,     0,     0,     0,\n",
      "             0,     0,     0,     0,     0,     0,     0,     0,     0,     0,\n",
      "             0,     0,     0,     0,     0,     0,     0,     0,     0,     0,\n",
      "             0,     0,     0,     0,     0,     0,     0,     0,     0,     0,\n",
      "             0,     0,     0,     0,     0,     0,     0,     0,     0,     0,\n",
      "             0,     0,     0,     0,     0,     0,     0,     0,     0,     0,\n",
      "             0,     0,     0,     0,     0,     0,     0,     0,     0,     0,\n",
      "             0,     0,     0,     0,     0,     0,     0,     0,     0,     0,\n",
      "             0,     0,     0,     0,     0,     0,     0,     0,     0,     0,\n",
      "             0,     0,     0,     0,     0,     0],\n",
      "        [  101, 18560, 12176,  4658,  7606,  3962,  2328, 17564,  1348,  1713,\n",
      "         21047, 14017,  1181,  6600,  7234,  3962,  2328, 17564,  1348,  1107,\n",
      "         16792, 14017,  1181,  7606,   102,     0,     0,     0,     0,     0,\n",
      "             0,     0,     0,     0,     0,     0,     0,     0,     0,     0,\n",
      "             0,     0,     0,     0,     0,     0,     0,     0,     0,     0,\n",
      "             0,     0,     0,     0,     0,     0,     0,     0,     0,     0,\n",
      "             0,     0,     0,     0,     0,     0,     0,     0,     0,     0,\n",
      "             0,     0,     0,     0,     0,     0,     0,     0,     0,     0,\n",
      "             0,     0,     0,     0,     0,     0,     0,     0,     0,     0,\n",
      "             0,     0,     0,     0,     0,     0,     0,     0,     0,     0,\n",
      "             0,     0,     0,     0,     0,     0,     0,     0,     0,     0,\n",
      "             0,     0,     0,     0,     0,     0,     0,     0,     0,     0,\n",
      "             0,     0,     0,     0,     0,     0,     0,     0,     0,     0,\n",
      "             0,     0,     0,     0,     0,     0,     0,     0,     0,     0,\n",
      "             0,     0,     0,     0,     0,     0,     0,     0,     0,     0,\n",
      "             0,     0,     0,     0,     0,     0,     0,     0,     0,     0,\n",
      "             0,     0,     0,     0,     0,     0,     0,     0,     0,     0,\n",
      "             0,     0,     0,     0,     0,     0,     0,     0,     0,     0,\n",
      "             0,     0,     0,     0,     0,     0,     0,     0,     0,     0,\n",
      "             0,     0,     0,     0,     0,     0,     0,     0,     0,     0,\n",
      "             0,     0,     0,     0,     0,     0,     0,     0,     0,     0,\n",
      "             0,     0,     0,     0,     0,     0,     0,     0,     0,     0,\n",
      "             0,     0,     0,     0,     0,     0,     0,     0,     0,     0,\n",
      "             0,     0,     0,     0,     0,     0,     0,     0,     0,     0,\n",
      "             0,     0,     0,     0,     0,     0,     0,     0,     0,     0,\n",
      "             0,     0,     0,     0,     0,     0]])\n",
      "Attention Masks: tensor([[1, 1, 1, 1, 1, 0, 0, 0, 0, 0, 0, 0, 0, 0, 0, 0, 0, 0, 0, 0, 0, 0, 0, 0,\n",
      "         0, 0, 0, 0, 0, 0, 0, 0, 0, 0, 0, 0, 0, 0, 0, 0, 0, 0, 0, 0, 0, 0, 0, 0,\n",
      "         0, 0, 0, 0, 0, 0, 0, 0, 0, 0, 0, 0, 0, 0, 0, 0, 0, 0, 0, 0, 0, 0, 0, 0,\n",
      "         0, 0, 0, 0, 0, 0, 0, 0, 0, 0, 0, 0, 0, 0, 0, 0, 0, 0, 0, 0, 0, 0, 0, 0,\n",
      "         0, 0, 0, 0, 0, 0, 0, 0, 0, 0, 0, 0, 0, 0, 0, 0, 0, 0, 0, 0, 0, 0, 0, 0,\n",
      "         0, 0, 0, 0, 0, 0, 0, 0, 0, 0, 0, 0, 0, 0, 0, 0, 0, 0, 0, 0, 0, 0, 0, 0,\n",
      "         0, 0, 0, 0, 0, 0, 0, 0, 0, 0, 0, 0, 0, 0, 0, 0, 0, 0, 0, 0, 0, 0, 0, 0,\n",
      "         0, 0, 0, 0, 0, 0, 0, 0, 0, 0, 0, 0, 0, 0, 0, 0, 0, 0, 0, 0, 0, 0, 0, 0,\n",
      "         0, 0, 0, 0, 0, 0, 0, 0, 0, 0, 0, 0, 0, 0, 0, 0, 0, 0, 0, 0, 0, 0, 0, 0,\n",
      "         0, 0, 0, 0, 0, 0, 0, 0, 0, 0, 0, 0, 0, 0, 0, 0, 0, 0, 0, 0, 0, 0, 0, 0,\n",
      "         0, 0, 0, 0, 0, 0, 0, 0, 0, 0, 0, 0, 0, 0, 0, 0],\n",
      "        [1, 1, 1, 1, 1, 1, 1, 1, 1, 1, 1, 1, 1, 1, 1, 1, 1, 1, 1, 1, 1, 1, 1, 1,\n",
      "         1, 0, 0, 0, 0, 0, 0, 0, 0, 0, 0, 0, 0, 0, 0, 0, 0, 0, 0, 0, 0, 0, 0, 0,\n",
      "         0, 0, 0, 0, 0, 0, 0, 0, 0, 0, 0, 0, 0, 0, 0, 0, 0, 0, 0, 0, 0, 0, 0, 0,\n",
      "         0, 0, 0, 0, 0, 0, 0, 0, 0, 0, 0, 0, 0, 0, 0, 0, 0, 0, 0, 0, 0, 0, 0, 0,\n",
      "         0, 0, 0, 0, 0, 0, 0, 0, 0, 0, 0, 0, 0, 0, 0, 0, 0, 0, 0, 0, 0, 0, 0, 0,\n",
      "         0, 0, 0, 0, 0, 0, 0, 0, 0, 0, 0, 0, 0, 0, 0, 0, 0, 0, 0, 0, 0, 0, 0, 0,\n",
      "         0, 0, 0, 0, 0, 0, 0, 0, 0, 0, 0, 0, 0, 0, 0, 0, 0, 0, 0, 0, 0, 0, 0, 0,\n",
      "         0, 0, 0, 0, 0, 0, 0, 0, 0, 0, 0, 0, 0, 0, 0, 0, 0, 0, 0, 0, 0, 0, 0, 0,\n",
      "         0, 0, 0, 0, 0, 0, 0, 0, 0, 0, 0, 0, 0, 0, 0, 0, 0, 0, 0, 0, 0, 0, 0, 0,\n",
      "         0, 0, 0, 0, 0, 0, 0, 0, 0, 0, 0, 0, 0, 0, 0, 0, 0, 0, 0, 0, 0, 0, 0, 0,\n",
      "         0, 0, 0, 0, 0, 0, 0, 0, 0, 0, 0, 0, 0, 0, 0, 0]])\n",
      "Saved tokenized data for column: Brief Summary\n",
      "Saved tokenized data for column: Conditions\n",
      "Saved tokenized data for column: Interventions\n",
      "Saved tokenized data for column: Primary Outcome Measures\n",
      "Saved tokenized data for column: Secondary Outcome Measures\n"
     ]
    }
   ],
   "source": [
    "# Function to clean text\n",
    "def clean_text(text):\n",
    "    if pd.isna(text):  # Handle missing values\n",
    "        return \"\"\n",
    "    text = text.lower()  # Convert to lowercase\n",
    "    text = ''.join(char for char in text if char.isalnum() or char.isspace())  # Remove special characters\n",
    "    return ' '.join(text.split())  # Remove extra whitespaces\n",
    "\n",
    "# Apply text cleaning to all textual columns\n",
    "for col in textual_columns:\n",
    "    balanced_data[col] = balanced_data[col].apply(clean_text)\n",
    "\n",
    "# Function to tokenize text in batches\n",
    "def tokenize_in_batches(column_texts, tokenizer, batch_size=100, max_length=256):\n",
    "    \"\"\"\n",
    "    Tokenizes text in smaller batches to reduce memory usage.\n",
    "    \"\"\"\n",
    "    tokenized_batches = []\n",
    "    for i in range(0, len(column_texts), batch_size):\n",
    "        batch = column_texts[i:i + batch_size].tolist()  # Slice the column\n",
    "        tokenized_batch = tokenizer(\n",
    "            batch,\n",
    "            padding=\"max_length\",  # Add padding\n",
    "            truncation=True,  # Truncate if text exceeds max_length\n",
    "            max_length=max_length,  # Set maximum length for tokens\n",
    "            return_tensors=\"pt\"  # Return PyTorch tensors\n",
    "        )\n",
    "        tokenized_batches.append(tokenized_batch)\n",
    "    # Combine all batches into a single tokenized dataset\n",
    "    return {\n",
    "        \"input_ids\": torch.cat([batch[\"input_ids\"] for batch in tokenized_batches], dim=0),\n",
    "        \"attention_mask\": torch.cat([batch[\"attention_mask\"] for batch in tokenized_batches], dim=0)\n",
    "    }\n",
    "\n",
    "# Dictionary to store tokenized outputs for each column\n",
    "tokenized_data = {}\n",
    "\n",
    "# Tokenize each textual column in batches\n",
    "for col in textual_columns:\n",
    "    print(f\"Tokenizing column: {col} in batches\")\n",
    "    tokenized_data[col] = tokenize_in_batches(balanced_data[col], tokenizer, batch_size=50, max_length=256)\n",
    "    print(f\"Tokenized column: {col}\")\n",
    "\n",
    "# Example: Inspect tokenized output for a specific column\n",
    "print(f\"Tokenized 'Interventions':\")\n",
    "print(f\"Input IDs: {tokenized_data['Interventions']['input_ids'][:2]}\")\n",
    "print(f\"Attention Masks: {tokenized_data['Interventions']['attention_mask'][:2]}\")\n",
    "\n",
    "# Save tokenized data for each column to disk \n",
    "for col in textual_columns:\n",
    "    torch.save(tokenized_data[col], f\"{col}_tokenized.pt\")\n",
    "    print(f\"Saved tokenized data for column: {col}\")"
   ]
  },
  {
   "cell_type": "code",
   "execution_count": 84,
   "metadata": {
    "execution": {
     "iopub.execute_input": "2025-09-19T06:50:54.014229Z",
     "iopub.status.busy": "2025-09-19T06:50:54.013795Z",
     "iopub.status.idle": "2025-09-19T06:50:54.018991Z",
     "shell.execute_reply": "2025-09-19T06:50:54.018006Z",
     "shell.execute_reply.started": "2025-09-19T06:50:54.014187Z"
    }
   },
   "outputs": [],
   "source": [
    "# # code to load the tokenized data for the textual columns from disk and avoid running the above cell\n",
    "\n",
    "# import torch\n",
    "\n",
    "# # Dictionary to store loaded tokenized data\n",
    "# tokenized_data = {}\n",
    "\n",
    "# # Load tokenized data for each column from disk\n",
    "# for col in textual_columns:\n",
    "#     file_name = f\"{col}_tokenized.pt\"  # File name for the saved data\n",
    "#     try:\n",
    "#         tokenized_data[col] = torch.load(file_name)  # Load the data\n",
    "#         print(f\"Loaded tokenized data for column: {col}\")\n",
    "#     except FileNotFoundError:\n",
    "#         print(f\"File not found for column: {col}. Ensure {file_name} exists.\")\n",
    "\n",
    "# # Example: Verify the loaded data for a specific column\n",
    "# print(f\"Loaded 'Brief Summary' Tokenized Data:\")\n",
    "# print(f\"Input IDs: {tokenized_data['Brief Summary']['input_ids'][:2]}\")\n",
    "# print(f\"Attention Masks: {tokenized_data['Brief Summary']['attention_mask'][:2]}\")"
   ]
  },
  {
   "cell_type": "markdown",
   "metadata": {},
   "source": [
    "**EXTRACTING EMBEDDINGS**"
   ]
  },
  {
   "cell_type": "code",
   "execution_count": 85,
   "metadata": {
    "execution": {
     "iopub.execute_input": "2025-09-19T06:50:54.020264Z",
     "iopub.status.busy": "2025-09-19T06:50:54.020023Z",
     "iopub.status.idle": "2025-09-19T09:25:47.207077Z",
     "shell.execute_reply": "2025-09-19T09:25:47.205572Z",
     "shell.execute_reply.started": "2025-09-19T06:50:54.020243Z"
    }
   },
   "outputs": [
    {
     "data": {
      "application/vnd.jupyter.widget-view+json": {
       "model_id": "1f825f6413154beb91770de60aebf1cd",
       "version_major": 2,
       "version_minor": 0
      },
      "text/plain": [
       "pytorch_model.bin:   0%|          | 0.00/436M [00:00<?, ?B/s]"
      ]
     },
     "metadata": {},
     "output_type": "display_data"
    },
    {
     "name": "stdout",
     "output_type": "stream",
     "text": [
      "Extracting embeddings for column: Brief Summary\n",
      "Shape of embeddings for column Brief Summary: torch.Size([128659, 768])\n",
      "Saved embeddings for column: Brief Summary\n",
      "Extracting embeddings for column: Conditions\n",
      "Shape of embeddings for column Conditions: torch.Size([128659, 768])\n",
      "Saved embeddings for column: Conditions\n",
      "Extracting embeddings for column: Interventions\n",
      "Shape of embeddings for column Interventions: torch.Size([128659, 768])\n",
      "Saved embeddings for column: Interventions\n",
      "Extracting embeddings for column: Primary Outcome Measures\n",
      "Shape of embeddings for column Primary Outcome Measures: torch.Size([128659, 768])\n",
      "Saved embeddings for column: Primary Outcome Measures\n",
      "Extracting embeddings for column: Secondary Outcome Measures\n",
      "Shape of embeddings for column Secondary Outcome Measures: torch.Size([128659, 768])\n",
      "Saved embeddings for column: Secondary Outcome Measures\n"
     ]
    }
   ],
   "source": [
    "# extracting embeddings for all the columns in textual column \n",
    "\n",
    "from transformers import AutoModel, AutoTokenizer\n",
    "import torch\n",
    "\n",
    "# Load BioBERT model (without classification head) and tokenizer\n",
    "model = AutoModel.from_pretrained(\"emilyalsentzer/Bio_ClinicalBERT\")\n",
    "tokenizer = AutoTokenizer.from_pretrained(\"emilyalsentzer/Bio_ClinicalBERT\")\n",
    "\n",
    "device = torch.device(\"cuda\" if torch.cuda.is_available() else \"cpu\")\n",
    "model.to(device)\n",
    "\n",
    "def extract_embeddings(tokenized_data, batch_size=32):\n",
    "    \"\"\"\n",
    "    Extracts embeddings for tokenized inputs using BioBERT.\n",
    "    Args:\n",
    "        tokenized_data (dict): Tokenized inputs (input_ids, attention_mask).\n",
    "        batch_size (int): Batch size for processing.\n",
    "    Returns:\n",
    "        torch.Tensor: Embeddings for each input.\n",
    "    \"\"\"\n",
    "    input_ids = tokenized_data[\"input_ids\"]\n",
    "    attention_mask = tokenized_data[\"attention_mask\"]\n",
    "\n",
    "    dataset = torch.utils.data.TensorDataset(input_ids, attention_mask)\n",
    "    dataloader = torch.utils.data.DataLoader(dataset, batch_size=batch_size)\n",
    "\n",
    "    all_embeddings = []\n",
    "    model.eval()  # Set model to evaluation mode\n",
    "\n",
    "    with torch.no_grad():\n",
    "        for batch in dataloader:\n",
    "            input_ids_batch, attention_mask_batch = batch\n",
    "            input_ids_batch = input_ids_batch.to(device)\n",
    "            attention_mask_batch = attention_mask_batch.to(device)\n",
    "\n",
    "            # Get hidden states from the model\n",
    "            outputs = model(input_ids=input_ids_batch, attention_mask=attention_mask_batch)\n",
    "            hidden_states = outputs.last_hidden_state  # Shape: [batch_size, seq_len, hidden_dim]\n",
    "\n",
    "            # Mean pooling to aggregate embeddings over tokens\n",
    "            embeddings = hidden_states.mean(dim=1)  # Shape: [batch_size, hidden_dim]\n",
    "            all_embeddings.append(embeddings.cpu())\n",
    "\n",
    "    return torch.cat(all_embeddings, dim=0)\n",
    "\n",
    "# Extract embeddings for all columns\n",
    "embeddings = {}\n",
    "for col in textual_columns:\n",
    "    print(f\"Extracting embeddings for column: {col}\")\n",
    "    embeddings[col] = extract_embeddings(tokenized_data[col])\n",
    "    print(f\"Shape of embeddings for column {col}: {embeddings[col].shape}\")\n",
    "    torch.save(embeddings[col], f\"{col}_embeddings.pt\")\n",
    "    print(f\"Saved embeddings for column: {col}\")"
   ]
  },
  {
   "cell_type": "code",
   "execution_count": 86,
   "metadata": {
    "execution": {
     "iopub.execute_input": "2025-09-18T22:56:44.408685Z",
     "iopub.status.busy": "2025-09-18T22:56:44.408392Z",
     "iopub.status.idle": "2025-09-18T22:56:58.019076Z",
     "shell.execute_reply": "2025-09-18T22:56:58.018391Z",
     "shell.execute_reply.started": "2025-09-18T22:56:44.408657Z"
    }
   },
   "outputs": [
    {
     "name": "stdout",
     "output_type": "stream",
     "text": [
      "Using device: cuda\n"
     ]
    },
    {
     "name": "stderr",
     "output_type": "stream",
     "text": [
      "<ipython-input-86-d7b87739a558>:10: FutureWarning: You are using `torch.load` with `weights_only=False` (the current default value), which uses the default pickle module implicitly. It is possible to construct malicious pickle data which will execute arbitrary code during unpickling (See https://github.com/pytorch/pytorch/blob/main/SECURITY.md#untrusted-models for more details). In a future release, the default value for `weights_only` will be flipped to `True`. This limits the functions that could be executed during unpickling. Arbitrary objects will no longer be allowed to be loaded via this mode unless they are explicitly allowlisted by the user via `torch.serialization.add_safe_globals`. We recommend you start setting `weights_only=True` for any use case where you don't have full control of the loaded file. Please open an issue on GitHub for any issues related to this experimental feature.\n",
      "  brief_summary_embeddings = torch.load(\"/kaggle/input/embeddings3/Brief Summary_embeddings.pt\")\n",
      "<ipython-input-86-d7b87739a558>:11: FutureWarning: You are using `torch.load` with `weights_only=False` (the current default value), which uses the default pickle module implicitly. It is possible to construct malicious pickle data which will execute arbitrary code during unpickling (See https://github.com/pytorch/pytorch/blob/main/SECURITY.md#untrusted-models for more details). In a future release, the default value for `weights_only` will be flipped to `True`. This limits the functions that could be executed during unpickling. Arbitrary objects will no longer be allowed to be loaded via this mode unless they are explicitly allowlisted by the user via `torch.serialization.add_safe_globals`. We recommend you start setting `weights_only=True` for any use case where you don't have full control of the loaded file. Please open an issue on GitHub for any issues related to this experimental feature.\n",
      "  conditions_embeddings = torch.load(\"/kaggle/input/embeddings3/Conditions_embeddings.pt\")\n",
      "<ipython-input-86-d7b87739a558>:12: FutureWarning: You are using `torch.load` with `weights_only=False` (the current default value), which uses the default pickle module implicitly. It is possible to construct malicious pickle data which will execute arbitrary code during unpickling (See https://github.com/pytorch/pytorch/blob/main/SECURITY.md#untrusted-models for more details). In a future release, the default value for `weights_only` will be flipped to `True`. This limits the functions that could be executed during unpickling. Arbitrary objects will no longer be allowed to be loaded via this mode unless they are explicitly allowlisted by the user via `torch.serialization.add_safe_globals`. We recommend you start setting `weights_only=True` for any use case where you don't have full control of the loaded file. Please open an issue on GitHub for any issues related to this experimental feature.\n",
      "  interventions_embeddings = torch.load(\"/kaggle/input/embeddings3/Interventions_embeddings.pt\")\n",
      "<ipython-input-86-d7b87739a558>:13: FutureWarning: You are using `torch.load` with `weights_only=False` (the current default value), which uses the default pickle module implicitly. It is possible to construct malicious pickle data which will execute arbitrary code during unpickling (See https://github.com/pytorch/pytorch/blob/main/SECURITY.md#untrusted-models for more details). In a future release, the default value for `weights_only` will be flipped to `True`. This limits the functions that could be executed during unpickling. Arbitrary objects will no longer be allowed to be loaded via this mode unless they are explicitly allowlisted by the user via `torch.serialization.add_safe_globals`. We recommend you start setting `weights_only=True` for any use case where you don't have full control of the loaded file. Please open an issue on GitHub for any issues related to this experimental feature.\n",
      "  primary_outcome_embeddings = torch.load(\"/kaggle/input/embeddings3/Primary Outcome Measures_embeddings.pt\")\n",
      "<ipython-input-86-d7b87739a558>:14: FutureWarning: You are using `torch.load` with `weights_only=False` (the current default value), which uses the default pickle module implicitly. It is possible to construct malicious pickle data which will execute arbitrary code during unpickling (See https://github.com/pytorch/pytorch/blob/main/SECURITY.md#untrusted-models for more details). In a future release, the default value for `weights_only` will be flipped to `True`. This limits the functions that could be executed during unpickling. Arbitrary objects will no longer be allowed to be loaded via this mode unless they are explicitly allowlisted by the user via `torch.serialization.add_safe_globals`. We recommend you start setting `weights_only=True` for any use case where you don't have full control of the loaded file. Please open an issue on GitHub for any issues related to this experimental feature.\n",
      "  secondary_outcome_embeddings = torch.load(\"/kaggle/input/embeddings3/Secondary Outcome Measures_embeddings.pt\")\n"
     ]
    }
   ],
   "source": [
    "import torch\n",
    "from torch.utils.data import Dataset, DataLoader\n",
    "from sklearn.model_selection import train_test_split\n",
    "from sklearn.model_selection import StratifiedKFold\n",
    "\n",
    "device = torch.device(\"cuda\" if torch.cuda.is_available() else \"cpu\")\n",
    "print(f\"Using device: {device}\")\n",
    "\n",
    "# Load extracted embeddings\n",
    "brief_summary_embeddings = torch.load(\"/kaggle/input/embeddings3/Brief Summary_embeddings.pt\")\n",
    "conditions_embeddings = torch.load(\"/kaggle/input/embeddings3/Conditions_embeddings.pt\")\n",
    "interventions_embeddings = torch.load(\"/kaggle/input/embeddings3/Interventions_embeddings.pt\")\n",
    "primary_outcome_embeddings = torch.load(\"/kaggle/input/embeddings3/Primary Outcome Measures_embeddings.pt\")\n",
    "secondary_outcome_embeddings = torch.load(\"/kaggle/input/embeddings3/Secondary Outcome Measures_embeddings.pt\")\n",
    "\n",
    "# brief_summary_embeddings = embeddings[\"Brief Summary\"]\n",
    "# conditions_embeddings = embeddings[\"Conditions\"]\n",
    "# interventions_embeddings = embeddings[\"Interventions\"]\n",
    "# primary_outcome_embeddings = embeddings[\"Primary Outcome Measures\"]\n",
    "# secondary_outcome_embeddings = embeddings[\"Secondary Outcome Measures\"]\n",
    "\n",
    "labels = balanced_data[\"Study Status\"].apply(lambda x: 1 if x == \"COMPLETED\" else 0).values\n",
    "\n",
    "# Dataset class for loading embeddings and labels\n",
    "class BioBERTEmbeddingDataset(Dataset):\n",
    "    def __init__(self, embeddings_1, embeddings_2, embeddings_3, embeddings_4, embeddings_5, labels):\n",
    "        self.embeddings_1 = embeddings_1\n",
    "        self.embeddings_2 = embeddings_2\n",
    "        self.embeddings_3 = embeddings_3\n",
    "        self.embeddings_4 = embeddings_4\n",
    "        self.embeddings_5 = embeddings_5\n",
    "        self.labels = labels\n",
    "\n",
    "    def __len__(self):\n",
    "        return len(self.labels)\n",
    "\n",
    "    def __getitem__(self, idx):\n",
    "        return {\n",
    "            \"embeddings_1\": self.embeddings_1[idx],\n",
    "            \"embeddings_2\": self.embeddings_2[idx],\n",
    "            \"embeddings_3\": self.embeddings_3[idx],\n",
    "            \"embeddings_4\": self.embeddings_4[idx],\n",
    "            \"embeddings_5\": self.embeddings_5[idx],\n",
    "            \"labels\": torch.tensor(self.labels[idx], dtype=torch.long),\n",
    "        }\n",
    "\n",
    "# Combine embeddings into a dataset\n",
    "dataset = BioBERTEmbeddingDataset(\n",
    "    brief_summary_embeddings,\n",
    "    conditions_embeddings,\n",
    "    interventions_embeddings,\n",
    "    primary_outcome_embeddings,\n",
    "    secondary_outcome_embeddings,\n",
    "    labels,\n",
    ")\n",
    "\n",
    "from sklearn.model_selection import train_test_split\n",
    "train_size=0.8\n",
    "# Split into train and validation sets with stratified sampling\n",
    "train_indices, val_indices = train_test_split(\n",
    "    range(len(dataset)),  # Use indices for stratification\n",
    "    test_size=1 - train_size,\n",
    "    random_state=42,\n",
    "    stratify=labels,  # Stratify by labels\n",
    ")\n",
    "\n",
    "# Create stratified subsets using the indices\n",
    "train_data = torch.utils.data.Subset(dataset, train_indices)\n",
    "val_data = torch.utils.data.Subset(dataset, val_indices)\n",
    "\n",
    "# Data loaders\n",
    "train_loader = DataLoader(train_data, batch_size=16, shuffle=True)\n",
    "val_loader = DataLoader(val_data, batch_size=16, shuffle=False)"
   ]
  },
  {
   "cell_type": "markdown",
   "metadata": {},
   "source": [
    "**Applying SMOTE on embeddings**"
   ]
  },
  {
   "cell_type": "code",
   "execution_count": 87,
   "metadata": {
    "execution": {
     "iopub.execute_input": "2025-09-18T22:56:58.020225Z",
     "iopub.status.busy": "2025-09-18T22:56:58.019843Z",
     "iopub.status.idle": "2025-09-18T22:57:37.834670Z",
     "shell.execute_reply": "2025-09-18T22:57:37.833717Z",
     "shell.execute_reply.started": "2025-09-18T22:56:58.020190Z"
    }
   },
   "outputs": [],
   "source": [
    "from imblearn.over_sampling import SMOTE\n",
    "import torch\n",
    "from sklearn.model_selection import train_test_split\n",
    "import numpy as np\n",
    "\n",
    "# Flatten dataset for SMOTE\n",
    "def flatten_embeddings(dataset):\n",
    "    embeddings = []\n",
    "    labels = []\n",
    "\n",
    "    for item in dataset:\n",
    "        combined_embedding = torch.cat((\n",
    "            item[\"embeddings_1\"],\n",
    "            item[\"embeddings_2\"],\n",
    "            item[\"embeddings_3\"],\n",
    "            item[\"embeddings_4\"],\n",
    "            item[\"embeddings_5\"]\n",
    "        )).numpy()\n",
    "        embeddings.append(combined_embedding)\n",
    "        labels.append(item[\"labels\"].item())\n",
    "\n",
    "    return np.array(embeddings), np.array(labels)\n",
    "\n",
    "# Flatten the training data\n",
    "X_train, y_train = flatten_embeddings(train_data)\n",
    "\n",
    "# Apply SMOTE\n",
    "smote = SMOTE(random_state=42)\n",
    "X_resampled, y_resampled = smote.fit_resample(X_train, y_train)\n",
    "\n",
    "# Convert resampled data back to tensors\n",
    "X_resampled = torch.tensor(X_resampled, dtype=torch.float32)\n",
    "y_resampled = torch.tensor(y_resampled, dtype=torch.long)\n",
    "\n",
    "# Split resampled data into individual tensors for embeddings\n",
    "embeddings_dim = brief_summary_embeddings.size(1)  # Assuming all embeddings have the same dimension\n",
    "split_size = embeddings_dim\n",
    "\n",
    "resampled_embeddings = {\n",
    "    \"embeddings_1\": X_resampled[:, 0:split_size],\n",
    "    \"embeddings_2\": X_resampled[:, split_size:2*split_size],\n",
    "    \"embeddings_3\": X_resampled[:, 2*split_size:3*split_size],\n",
    "    \"embeddings_4\": X_resampled[:, 3*split_size:4*split_size],\n",
    "    \"embeddings_5\": X_resampled[:, 4*split_size:5*split_size],\n",
    "    \"labels\": y_resampled,\n",
    "}\n",
    "\n",
    "# Create a new dataset with the resampled data\n",
    "class ResampledBioBERTEmbeddingDataset(Dataset):\n",
    "    def __init__(self, resampled_embeddings):\n",
    "        self.embeddings_1 = resampled_embeddings[\"embeddings_1\"]\n",
    "        self.embeddings_2 = resampled_embeddings[\"embeddings_2\"]\n",
    "        self.embeddings_3 = resampled_embeddings[\"embeddings_3\"]\n",
    "        self.embeddings_4 = resampled_embeddings[\"embeddings_4\"]\n",
    "        self.embeddings_5 = resampled_embeddings[\"embeddings_5\"]\n",
    "        self.labels = resampled_embeddings[\"labels\"]\n",
    "\n",
    "    def __len__(self):\n",
    "        return len(self.labels)\n",
    "\n",
    "    def __getitem__(self, idx):\n",
    "        return {\n",
    "            \"embeddings_1\": self.embeddings_1[idx],\n",
    "            \"embeddings_2\": self.embeddings_2[idx],\n",
    "            \"embeddings_3\": self.embeddings_3[idx],\n",
    "            \"embeddings_4\": self.embeddings_4[idx],\n",
    "            \"embeddings_5\": self.embeddings_5[idx],\n",
    "            \"labels\": self.labels[idx],\n",
    "        }\n",
    "\n",
    "resampled_train_dataset = ResampledBioBERTEmbeddingDataset(resampled_embeddings)\n",
    "\n",
    "# Resampled train loader\n",
    "train_loader = DataLoader(resampled_train_dataset, batch_size=16, shuffle=True)"
   ]
  },
  {
   "cell_type": "code",
   "execution_count": 88,
   "metadata": {
    "execution": {
     "iopub.execute_input": "2025-09-18T22:57:37.835904Z",
     "iopub.status.busy": "2025-09-18T22:57:37.835621Z",
     "iopub.status.idle": "2025-09-18T22:57:37.839242Z",
     "shell.execute_reply": "2025-09-18T22:57:37.838406Z",
     "shell.execute_reply.started": "2025-09-18T22:57:37.835871Z"
    }
   },
   "outputs": [],
   "source": [
    "# import torch\n",
    "# from torch import nn\n",
    "# from transformers import BertForSequenceClassification, AdamW\n",
    "# from torch.utils.data import Dataset, DataLoader\n",
    "# from sklearn.model_selection import train_test_split\n",
    "\n",
    "# # Load BioBERT\n",
    "# model = BertForSequenceClassification.from_pretrained(\"dmis-lab/biobert-base-cased-v1.1\", num_labels=2)\n",
    "\n",
    "# # Define optimizer and loss function\n",
    "# optimizer = AdamW(model.parameters(), lr=2e-5)\n",
    "# loss_fn = nn.CrossEntropyLoss()\n",
    "\n",
    "# device = torch.device(\"cuda\" if torch.cuda.is_available() else \"cpu\")\n",
    "# model = model.to(device)"
   ]
  },
  {
   "cell_type": "markdown",
   "metadata": {},
   "source": [
    "**TRAINING AND EVALUATING ON BIOBERT MODEL FOR TEXTUAL COLUMNS**"
   ]
  },
  {
   "cell_type": "code",
   "execution_count": 89,
   "metadata": {
    "execution": {
     "iopub.execute_input": "2025-09-18T22:57:37.840256Z",
     "iopub.status.busy": "2025-09-18T22:57:37.840004Z",
     "iopub.status.idle": "2025-09-18T22:57:37.853450Z",
     "shell.execute_reply": "2025-09-18T22:57:37.852772Z",
     "shell.execute_reply.started": "2025-09-18T22:57:37.840235Z"
    }
   },
   "outputs": [],
   "source": [
    "import torch\n",
    "from torch import nn\n",
    "from torch.utils.data import DataLoader\n",
    "from sklearn.metrics import f1_score, confusion_matrix, roc_auc_score\n",
    "import numpy as np\n",
    "\n",
    "# --------------------\n",
    "# Custom classifier for embeddings\n",
    "# --------------------\n",
    "class BioBERTClassifier(nn.Module):\n",
    "    def __init__(self, embedding_dim=768, num_embeddings=5, num_classes=2, hidden_dim=256):\n",
    "        super(BioBERTClassifier, self).__init__()\n",
    "        # input size = 5 * 768 = 3840\n",
    "        self.fc1 = nn.Linear(embedding_dim * num_embeddings, hidden_dim)\n",
    "        self.relu = nn.ReLU()\n",
    "        self.dropout = nn.Dropout(0.3)\n",
    "        self.fc2 = nn.Linear(hidden_dim, num_classes)\n",
    "    \n",
    "    def forward(self, e1, e2, e3, e4, e5):\n",
    "        # Concatenate all embeddings\n",
    "        x = torch.cat((e1, e2, e3, e4, e5), dim=1)  # shape (batch, 3840)\n",
    "        x = self.fc1(x)\n",
    "        x = self.relu(x)\n",
    "        x = self.dropout(x)\n",
    "        logits = self.fc2(x)\n",
    "        return logits\n"
   ]
  },
  {
   "cell_type": "code",
   "execution_count": 90,
   "metadata": {
    "execution": {
     "iopub.execute_input": "2025-09-18T22:57:37.854596Z",
     "iopub.status.busy": "2025-09-18T22:57:37.854294Z",
     "iopub.status.idle": "2025-09-18T22:57:37.870504Z",
     "shell.execute_reply": "2025-09-18T22:57:37.869685Z",
     "shell.execute_reply.started": "2025-09-18T22:57:37.854565Z"
    }
   },
   "outputs": [],
   "source": [
    "# --------------------\n",
    "# Training function\n",
    "# --------------------\n",
    "def train(model, train_loader, val_loader, optimizer, loss_fn, device, epochs=5, threshold=0.5):\n",
    "    biobert_preds_train = []  \n",
    "    biobert_preds_val = []    \n",
    "\n",
    "    for epoch in range(epochs):\n",
    "        print(f\"\\nEpoch {epoch + 1}/{epochs}\")\n",
    "        \n",
    "        # Training phase\n",
    "        model.train()\n",
    "        train_loss = 0\n",
    "        correct = 0\n",
    "        all_preds = []\n",
    "        all_labels = []\n",
    "\n",
    "        for batch in train_loader:\n",
    "            optimizer.zero_grad()\n",
    "            \n",
    "            # Move embeddings and labels to device\n",
    "            e1, e2, e3, e4, e5 = (batch[\"embeddings_1\"].to(device),\n",
    "                                   batch[\"embeddings_2\"].to(device),\n",
    "                                   batch[\"embeddings_3\"].to(device),\n",
    "                                   batch[\"embeddings_4\"].to(device),\n",
    "                                   batch[\"embeddings_5\"].to(device))\n",
    "            labels = batch[\"labels\"].to(device)\n",
    "            \n",
    "            # Forward pass\n",
    "            logits = model(e1, e2, e3, e4, e5)\n",
    "            \n",
    "            # Loss\n",
    "            loss = loss_fn(logits, labels)\n",
    "            train_loss += loss.item()\n",
    "            \n",
    "            # Backward pass\n",
    "            loss.backward()\n",
    "            optimizer.step()\n",
    "            \n",
    "            # Predictions\n",
    "            probs = torch.softmax(logits, dim=1)[:, 1]  # probability for class 1\n",
    "            preds = (probs > threshold).long()\n",
    "            \n",
    "            # Store for metrics\n",
    "            biobert_preds_train.extend(probs.detach().cpu().numpy())\n",
    "            all_preds.extend(preds.cpu().numpy())\n",
    "            all_labels.extend(labels.cpu().numpy())\n",
    "            correct += (preds == labels).sum().item()\n",
    "\n",
    "        avg_train_loss = train_loss / len(train_loader)\n",
    "        train_accuracy = correct / len(train_loader.dataset)\n",
    "        train_f1 = f1_score(all_labels, all_preds, average=\"binary\")\n",
    "        \n",
    "        print(f\"Train Loss: {avg_train_loss:.4f}, Accuracy: {train_accuracy:.4f}, F1: {train_f1:.4f}\")\n",
    "\n",
    "        # --------------------\n",
    "        # Validation phase\n",
    "        # --------------------\n",
    "        model.eval()\n",
    "        val_loss = 0\n",
    "        correct = 0\n",
    "        val_preds = []\n",
    "        val_labels = []\n",
    "        biobert_preds_val = []\n",
    "\n",
    "        with torch.no_grad():\n",
    "            for batch in val_loader:\n",
    "                e1, e2, e3, e4, e5 = (batch[\"embeddings_1\"].to(device),\n",
    "                                       batch[\"embeddings_2\"].to(device),\n",
    "                                       batch[\"embeddings_3\"].to(device),\n",
    "                                       batch[\"embeddings_4\"].to(device),\n",
    "                                       batch[\"embeddings_5\"].to(device))\n",
    "                labels = batch[\"labels\"].to(device)\n",
    "                \n",
    "                logits = model(e1, e2, e3, e4, e5)\n",
    "                loss = loss_fn(logits, labels)\n",
    "                val_loss += loss.item()\n",
    "                \n",
    "                probs = torch.softmax(logits, dim=1)[:, 1]\n",
    "                preds = (probs > threshold).long()\n",
    "                \n",
    "                biobert_preds_val.extend(probs.cpu().numpy())\n",
    "                val_preds.extend(preds.cpu().numpy())\n",
    "                val_labels.extend(labels.cpu().numpy())\n",
    "                correct += (preds == labels).sum().item()\n",
    "\n",
    "        avg_val_loss = val_loss / len(val_loader)\n",
    "        val_accuracy = correct / len(val_loader.dataset)\n",
    "        val_f1 = f1_score(val_labels, val_preds, average=\"binary\")\n",
    "        auc_roc = roc_auc_score(val_labels, val_preds)\n",
    "        conf_matrix = confusion_matrix(val_labels, val_preds)\n",
    "        \n",
    "        print(f\"Val Loss: {avg_val_loss:.4f}, Accuracy: {val_accuracy:.4f}, F1: {val_f1:.4f}, AUC-ROC: {auc_roc:.4f}\")\n",
    "        print(f\"Confusion Matrix:\\n{conf_matrix}\")\n",
    "\n",
    "    return np.array(biobert_preds_train), np.array(biobert_preds_val), np.array(val_labels)"
   ]
  },
  {
   "cell_type": "code",
   "execution_count": 91,
   "metadata": {
    "execution": {
     "iopub.execute_input": "2025-09-18T22:57:37.871461Z",
     "iopub.status.busy": "2025-09-18T22:57:37.871189Z",
     "iopub.status.idle": "2025-09-18T22:59:52.321403Z",
     "shell.execute_reply": "2025-09-18T22:59:52.320628Z",
     "shell.execute_reply.started": "2025-09-18T22:57:37.871441Z"
    }
   },
   "outputs": [
    {
     "name": "stdout",
     "output_type": "stream",
     "text": [
      "\n",
      "Epoch 1/5\n",
      "Train Loss: 0.6069, Accuracy: 0.5844, F1: 0.6886\n",
      "Val Loss: 0.5447, Accuracy: 0.8025, F1: 0.8872, AUC-ROC: 0.5452\n",
      "Confusion Matrix:\n",
      "[[  663  3979]\n",
      " [ 1104 19986]]\n",
      "\n",
      "Epoch 2/5\n",
      "Train Loss: 0.5675, Accuracy: 0.6318, F1: 0.7094\n",
      "Val Loss: 0.5469, Accuracy: 0.7972, F1: 0.8830, AUC-ROC: 0.5555\n",
      "Confusion Matrix:\n",
      "[[  823  3819]\n",
      " [ 1399 19691]]\n",
      "\n",
      "Epoch 3/5\n",
      "Train Loss: 0.5325, Accuracy: 0.6724, F1: 0.7318\n",
      "Val Loss: 0.6289, Accuracy: 0.7609, F1: 0.8547, AUC-ROC: 0.5891\n",
      "Confusion Matrix:\n",
      "[[ 1487  3155]\n",
      " [ 2998 18092]]\n",
      "\n",
      "Epoch 4/5\n",
      "Train Loss: 0.4972, Accuracy: 0.7094, F1: 0.7539\n",
      "Val Loss: 0.5668, Accuracy: 0.7845, F1: 0.8738, AUC-ROC: 0.5622\n",
      "Confusion Matrix:\n",
      "[[  995  3647]\n",
      " [ 1898 19192]]\n",
      "\n",
      "Epoch 5/5\n",
      "Train Loss: 0.4681, Accuracy: 0.7355, F1: 0.7708\n",
      "Val Loss: 0.6305, Accuracy: 0.7501, F1: 0.8463, AUC-ROC: 0.5919\n",
      "Confusion Matrix:\n",
      "[[ 1599  3043]\n",
      " [ 3387 17703]]\n"
     ]
    }
   ],
   "source": [
    "# --------------------\n",
    "# Usage\n",
    "# --------------------\n",
    "device = torch.device(\"cuda\" if torch.cuda.is_available() else \"cpu\")\n",
    "model = BioBERTClassifier().to(device)\n",
    "optimizer = torch.optim.Adam(model.parameters(), lr=2e-4)\n",
    "loss_fn = nn.CrossEntropyLoss()\n",
    "\n",
    "biobert_preds_train, biobert_preds_val, y_val = train(\n",
    "    model, train_loader, val_loader,\n",
    "    optimizer, loss_fn, device,\n",
    "    epochs=5, threshold=0.3\n",
    ")"
   ]
  },
  {
   "cell_type": "code",
   "execution_count": 92,
   "metadata": {
    "execution": {
     "iopub.execute_input": "2025-09-18T22:59:52.322772Z",
     "iopub.status.busy": "2025-09-18T22:59:52.322285Z",
     "iopub.status.idle": "2025-09-18T22:59:52.327644Z",
     "shell.execute_reply": "2025-09-18T22:59:52.326815Z",
     "shell.execute_reply.started": "2025-09-18T22:59:52.322747Z"
    }
   },
   "outputs": [
    {
     "data": {
      "text/plain": [
       "25732"
      ]
     },
     "execution_count": 92,
     "metadata": {},
     "output_type": "execute_result"
    }
   ],
   "source": [
    "len(biobert_preds_val)"
   ]
  },
  {
   "cell_type": "code",
   "execution_count": 93,
   "metadata": {
    "execution": {
     "iopub.execute_input": "2025-09-18T22:59:52.328720Z",
     "iopub.status.busy": "2025-09-18T22:59:52.328499Z",
     "iopub.status.idle": "2025-09-18T22:59:52.339435Z",
     "shell.execute_reply": "2025-09-18T22:59:52.338631Z",
     "shell.execute_reply.started": "2025-09-18T22:59:52.328689Z"
    }
   },
   "outputs": [
    {
     "data": {
      "text/plain": [
       "array([1, 1, 1, ..., 0, 1, 1])"
      ]
     },
     "execution_count": 93,
     "metadata": {},
     "output_type": "execute_result"
    }
   ],
   "source": [
    "y_val"
   ]
  },
  {
   "cell_type": "code",
   "execution_count": 94,
   "metadata": {
    "execution": {
     "iopub.execute_input": "2025-09-18T22:59:52.340580Z",
     "iopub.status.busy": "2025-09-18T22:59:52.340283Z",
     "iopub.status.idle": "2025-09-18T22:59:52.352945Z",
     "shell.execute_reply": "2025-09-18T22:59:52.352119Z",
     "shell.execute_reply.started": "2025-09-18T22:59:52.340550Z"
    }
   },
   "outputs": [
    {
     "data": {
      "text/plain": [
       "25732"
      ]
     },
     "execution_count": 94,
     "metadata": {},
     "output_type": "execute_result"
    }
   ],
   "source": [
    "len(y_val)"
   ]
  },
  {
   "cell_type": "code",
   "execution_count": 95,
   "metadata": {
    "execution": {
     "iopub.execute_input": "2025-09-18T22:59:52.354170Z",
     "iopub.status.busy": "2025-09-18T22:59:52.353862Z",
     "iopub.status.idle": "2025-09-18T22:59:52.362910Z",
     "shell.execute_reply": "2025-09-18T22:59:52.362180Z",
     "shell.execute_reply.started": "2025-09-18T22:59:52.354140Z"
    }
   },
   "outputs": [
    {
     "data": {
      "text/plain": [
       "(25732,)"
      ]
     },
     "execution_count": 95,
     "metadata": {},
     "output_type": "execute_result"
    }
   ],
   "source": [
    "biobert_preds_val.shape"
   ]
  },
  {
   "cell_type": "markdown",
   "metadata": {},
   "source": [
    "**Saving the BioBert Model**"
   ]
  },
  {
   "cell_type": "code",
   "execution_count": 96,
   "metadata": {
    "execution": {
     "iopub.execute_input": "2025-09-18T22:59:52.363957Z",
     "iopub.status.busy": "2025-09-18T22:59:52.363715Z",
     "iopub.status.idle": "2025-09-18T22:59:52.383095Z",
     "shell.execute_reply": "2025-09-18T22:59:52.382107Z",
     "shell.execute_reply.started": "2025-09-18T22:59:52.363926Z"
    }
   },
   "outputs": [],
   "source": [
    "# Save model weights\n",
    "torch.save(model.state_dict(), \"biobert_classifier.pth\")"
   ]
  },
  {
   "cell_type": "markdown",
   "metadata": {},
   "source": [
    "**ENSEMBLE MODEL OF RF CLASSIFIER ON NUMERICAL AND CATEGORICAL COLUMNS & BIOBERT MODEL (USING SOFT VOTING TECHNIQUE TO ENSEMBLE THEM)**"
   ]
  },
  {
   "cell_type": "code",
   "execution_count": 97,
   "metadata": {
    "execution": {
     "iopub.execute_input": "2025-09-18T22:59:52.384455Z",
     "iopub.status.busy": "2025-09-18T22:59:52.384098Z",
     "iopub.status.idle": "2025-09-18T22:59:52.389544Z",
     "shell.execute_reply": "2025-09-18T22:59:52.388686Z",
     "shell.execute_reply.started": "2025-09-18T22:59:52.384421Z"
    }
   },
   "outputs": [],
   "source": [
    "rf_positive_probs = rf_preds_val[:, 1]  # shape (n_samples,)"
   ]
  },
  {
   "cell_type": "code",
   "execution_count": 98,
   "metadata": {
    "execution": {
     "iopub.execute_input": "2025-09-18T22:59:52.390481Z",
     "iopub.status.busy": "2025-09-18T22:59:52.390247Z",
     "iopub.status.idle": "2025-09-18T22:59:54.839397Z",
     "shell.execute_reply": "2025-09-18T22:59:54.838576Z",
     "shell.execute_reply.started": "2025-09-18T22:59:52.390450Z"
    }
   },
   "outputs": [
    {
     "name": "stdout",
     "output_type": "stream",
     "text": [
      "Best weights: w1=2, w2=0.5\n",
      "Best threshold: 0.22999999999999995\n",
      "Best F1 Score: 0.8615\n"
     ]
    }
   ],
   "source": [
    "from sklearn.metrics import f1_score\n",
    "import numpy as np\n",
    "\n",
    "# Define ranges for weights and threshold\n",
    "weight_options = [0.5, 1, 2]\n",
    "threshold_options = np.arange(0.1, 0.9, 0.01)\n",
    "\n",
    "best_f1 = 0\n",
    "best_w1 = 1\n",
    "best_w2 = 1\n",
    "best_threshold = 0.5\n",
    "\n",
    "# Grid search over weights and threshold\n",
    "for w1 in weight_options:\n",
    "    for w2 in weight_options:\n",
    "        # Weighted average of probabilities\n",
    "        combined_probs = (w1*rf_positive_probs + w2*biobert_preds_val) / (w1 + w2)\n",
    "        \n",
    "        # Loop over thresholds\n",
    "        for threshold in threshold_options:\n",
    "            preds = (combined_probs > threshold).astype(int)\n",
    "            f1 = f1_score(y_val, preds, average='weighted')  # Use weighted or binary\n",
    "            \n",
    "            if f1 > best_f1:\n",
    "                best_f1 = f1\n",
    "                best_w1 = w1\n",
    "                best_w2 = w2\n",
    "                best_threshold = threshold\n",
    "\n",
    "print(f\"Best weights: w1={best_w1}, w2={best_w2}\")\n",
    "print(f\"Best threshold: {best_threshold}\")\n",
    "print(f\"Best F1 Score: {best_f1:.4f}\")"
   ]
  },
  {
   "cell_type": "code",
   "execution_count": 99,
   "metadata": {
    "execution": {
     "iopub.execute_input": "2025-09-18T23:01:07.634103Z",
     "iopub.status.busy": "2025-09-18T23:01:07.633753Z",
     "iopub.status.idle": "2025-09-18T23:01:07.659163Z",
     "shell.execute_reply": "2025-09-18T23:01:07.658479Z",
     "shell.execute_reply.started": "2025-09-18T23:01:07.634077Z"
    }
   },
   "outputs": [
    {
     "name": "stdout",
     "output_type": "stream",
     "text": [
      "Ensemble Model Validation Accuracy: 0.8728\n",
      "Ensemble Model Validation F1 Score: 0.8615\n",
      "Ensemble Model Validation AUC-ROC Score: 0.8244\n",
      "Ensemble Model Validation Precision: 0.8920\n",
      "Ensemble Model Validation Recall: 0.9611\n"
     ]
    }
   ],
   "source": [
    "import numpy as np\n",
    "from sklearn.ensemble import VotingClassifier\n",
    "from sklearn.metrics import accuracy_score, f1_score\n",
    "from sklearn.metrics import accuracy_score, f1_score, roc_auc_score, roc_curve\n",
    "import matplotlib.pyplot as plt\n",
    "from sklearn.metrics import accuracy_score, f1_score, roc_auc_score, precision_score, recall_score\n",
    "\n",
    "w1=2\n",
    "w2=0.5\n",
    "\n",
    "# Combine probabilities from both models\n",
    "combined_preds_val = (w1*rf_positive_probs + w2*biobert_preds_val) / (w1+w2)  # Soft voting by averaging\n",
    "\n",
    "threshold = 0.22999999999999995  # Set your desired threshold \n",
    "\n",
    "# Convert probabilities to class labels based on the threshold\n",
    "final_preds_val = (combined_preds_val > threshold).astype(int)  # Apply threshold to positive class probabilities\n",
    "\n",
    "# Step 4: Evaluate the Ensemble Model\n",
    "accuracy = accuracy_score(y_val, final_preds_val)\n",
    "f1 = f1_score(y_val, final_preds_val, average='weighted')  # You can use 'binary' or 'weighted' depending on your needs\n",
    "auc_roc = roc_auc_score(y_val, combined_preds_val)  # AUC-ROC score based on positive class probabilities\n",
    "precision = precision_score(y_val, final_preds_val)  # Precision score\n",
    "recall = recall_score(y_val, final_preds_val)  # Recall score\n",
    "\n",
    "# Print the results\n",
    "print(f\"Ensemble Model Validation Accuracy: {accuracy:.4f}\")\n",
    "print(f\"Ensemble Model Validation F1 Score: {f1:.4f}\")\n",
    "print(f\"Ensemble Model Validation AUC-ROC Score: {auc_roc:.4f}\")\n",
    "print(f\"Ensemble Model Validation Precision: {precision:.4f}\")\n",
    "print(f\"Ensemble Model Validation Recall: {recall:.4f}\")"
   ]
  },
  {
   "cell_type": "code",
   "execution_count": null,
   "metadata": {},
   "outputs": [],
   "source": []
  }
 ],
 "metadata": {
  "kaggle": {
   "accelerator": "nvidiaTeslaT4",
   "dataSources": [
    {
     "datasetId": 6546133,
     "sourceId": 10577969,
     "sourceType": "datasetVersion"
    },
    {
     "datasetId": 6547309,
     "sourceId": 10579665,
     "sourceType": "datasetVersion"
    },
    {
     "datasetId": 6548226,
     "sourceId": 10580927,
     "sourceType": "datasetVersion"
    },
    {
     "datasetId": 6552294,
     "sourceId": 10587301,
     "sourceType": "datasetVersion"
    },
    {
     "datasetId": 6552310,
     "sourceId": 10587324,
     "sourceType": "datasetVersion"
    },
    {
     "datasetId": 8299594,
     "sourceId": 13102165,
     "sourceType": "datasetVersion"
    }
   ],
   "dockerImageVersionId": 30839,
   "isGpuEnabled": true,
   "isInternetEnabled": true,
   "language": "python",
   "sourceType": "notebook"
  },
  "kernelspec": {
   "display_name": "Python 3 (ipykernel)",
   "language": "python",
   "name": "python3"
  },
  "language_info": {
   "codemirror_mode": {
    "name": "ipython",
    "version": 3
   },
   "file_extension": ".py",
   "mimetype": "text/x-python",
   "name": "python",
   "nbconvert_exporter": "python",
   "pygments_lexer": "ipython3",
   "version": "3.12.3"
  }
 },
 "nbformat": 4,
 "nbformat_minor": 4
}
